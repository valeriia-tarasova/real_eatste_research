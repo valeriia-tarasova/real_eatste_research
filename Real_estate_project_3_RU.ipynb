{
 "cells": [
  {
   "cell_type": "markdown",
   "metadata": {},
   "source": [
    "# Исследование объявлений о продаже квартир\n",
    "\n",
    "Задача: исследовать объявления о продаже недвижимости в г. Санкт-Петербурге.\n",
    "\n",
    "Цель: выявить параметры, влияющие на стоимость квартир для автоматизированной системы, которая будет отслеживать аномалии и мошенническую деятельность. \n",
    "\n",
    "Данные: данные сервиса Яндекc Недвижимость — архив объявлений о продаже квартир в Санкт-Петербурге и соседних населённых пунктах за несколько лет. По каждой квартире на продажу доступны два вида данных. Первые вписаны пользователем, вторые получены автоматически на основе картографических данных. "
   ]
  },
  {
   "cell_type": "markdown",
   "metadata": {},
   "source": [
    "## Изучение данных из файла"
   ]
  },
  {
   "cell_type": "code",
   "execution_count": 1,
   "metadata": {},
   "outputs": [],
   "source": [
    "import pandas as pd\n",
    "import math\n",
    "import matplotlib.pyplot as plt"
   ]
  },
  {
   "cell_type": "code",
   "execution_count": 2,
   "metadata": {},
   "outputs": [
    {
     "data": {
      "text/html": [
       "<div>\n",
       "<style scoped>\n",
       "    .dataframe tbody tr th:only-of-type {\n",
       "        vertical-align: middle;\n",
       "    }\n",
       "\n",
       "    .dataframe tbody tr th {\n",
       "        vertical-align: top;\n",
       "    }\n",
       "\n",
       "    .dataframe thead th {\n",
       "        text-align: right;\n",
       "    }\n",
       "</style>\n",
       "<table border=\"1\" class=\"dataframe\">\n",
       "  <thead>\n",
       "    <tr style=\"text-align: right;\">\n",
       "      <th></th>\n",
       "      <th>total_images</th>\n",
       "      <th>last_price</th>\n",
       "      <th>total_area</th>\n",
       "      <th>first_day_exposition</th>\n",
       "      <th>rooms</th>\n",
       "      <th>ceiling_height</th>\n",
       "      <th>floors_total</th>\n",
       "      <th>living_area</th>\n",
       "      <th>floor</th>\n",
       "      <th>is_apartment</th>\n",
       "      <th>...</th>\n",
       "      <th>kitchen_area</th>\n",
       "      <th>balcony</th>\n",
       "      <th>locality_name</th>\n",
       "      <th>airports_nearest</th>\n",
       "      <th>cityCenters_nearest</th>\n",
       "      <th>parks_around3000</th>\n",
       "      <th>parks_nearest</th>\n",
       "      <th>ponds_around3000</th>\n",
       "      <th>ponds_nearest</th>\n",
       "      <th>days_exposition</th>\n",
       "    </tr>\n",
       "  </thead>\n",
       "  <tbody>\n",
       "    <tr>\n",
       "      <th>0</th>\n",
       "      <td>20</td>\n",
       "      <td>13000000.0</td>\n",
       "      <td>108.00</td>\n",
       "      <td>2019-03-07T00:00:00</td>\n",
       "      <td>3</td>\n",
       "      <td>2.70</td>\n",
       "      <td>16.0</td>\n",
       "      <td>51.00</td>\n",
       "      <td>8</td>\n",
       "      <td>NaN</td>\n",
       "      <td>...</td>\n",
       "      <td>25.00</td>\n",
       "      <td>NaN</td>\n",
       "      <td>Санкт-Петербург</td>\n",
       "      <td>18863.0</td>\n",
       "      <td>16028.0</td>\n",
       "      <td>1.0</td>\n",
       "      <td>482.0</td>\n",
       "      <td>2.0</td>\n",
       "      <td>755.0</td>\n",
       "      <td>NaN</td>\n",
       "    </tr>\n",
       "    <tr>\n",
       "      <th>1</th>\n",
       "      <td>7</td>\n",
       "      <td>3350000.0</td>\n",
       "      <td>40.40</td>\n",
       "      <td>2018-12-04T00:00:00</td>\n",
       "      <td>1</td>\n",
       "      <td>NaN</td>\n",
       "      <td>11.0</td>\n",
       "      <td>18.60</td>\n",
       "      <td>1</td>\n",
       "      <td>NaN</td>\n",
       "      <td>...</td>\n",
       "      <td>11.00</td>\n",
       "      <td>2.0</td>\n",
       "      <td>посёлок Шушары</td>\n",
       "      <td>12817.0</td>\n",
       "      <td>18603.0</td>\n",
       "      <td>0.0</td>\n",
       "      <td>NaN</td>\n",
       "      <td>0.0</td>\n",
       "      <td>NaN</td>\n",
       "      <td>81.0</td>\n",
       "    </tr>\n",
       "    <tr>\n",
       "      <th>2</th>\n",
       "      <td>10</td>\n",
       "      <td>5196000.0</td>\n",
       "      <td>56.00</td>\n",
       "      <td>2015-08-20T00:00:00</td>\n",
       "      <td>2</td>\n",
       "      <td>NaN</td>\n",
       "      <td>5.0</td>\n",
       "      <td>34.30</td>\n",
       "      <td>4</td>\n",
       "      <td>NaN</td>\n",
       "      <td>...</td>\n",
       "      <td>8.30</td>\n",
       "      <td>0.0</td>\n",
       "      <td>Санкт-Петербург</td>\n",
       "      <td>21741.0</td>\n",
       "      <td>13933.0</td>\n",
       "      <td>1.0</td>\n",
       "      <td>90.0</td>\n",
       "      <td>2.0</td>\n",
       "      <td>574.0</td>\n",
       "      <td>558.0</td>\n",
       "    </tr>\n",
       "    <tr>\n",
       "      <th>3</th>\n",
       "      <td>0</td>\n",
       "      <td>64900000.0</td>\n",
       "      <td>159.00</td>\n",
       "      <td>2015-07-24T00:00:00</td>\n",
       "      <td>3</td>\n",
       "      <td>NaN</td>\n",
       "      <td>14.0</td>\n",
       "      <td>NaN</td>\n",
       "      <td>9</td>\n",
       "      <td>NaN</td>\n",
       "      <td>...</td>\n",
       "      <td>NaN</td>\n",
       "      <td>0.0</td>\n",
       "      <td>Санкт-Петербург</td>\n",
       "      <td>28098.0</td>\n",
       "      <td>6800.0</td>\n",
       "      <td>2.0</td>\n",
       "      <td>84.0</td>\n",
       "      <td>3.0</td>\n",
       "      <td>234.0</td>\n",
       "      <td>424.0</td>\n",
       "    </tr>\n",
       "    <tr>\n",
       "      <th>4</th>\n",
       "      <td>2</td>\n",
       "      <td>10000000.0</td>\n",
       "      <td>100.00</td>\n",
       "      <td>2018-06-19T00:00:00</td>\n",
       "      <td>2</td>\n",
       "      <td>3.03</td>\n",
       "      <td>14.0</td>\n",
       "      <td>32.00</td>\n",
       "      <td>13</td>\n",
       "      <td>NaN</td>\n",
       "      <td>...</td>\n",
       "      <td>41.00</td>\n",
       "      <td>NaN</td>\n",
       "      <td>Санкт-Петербург</td>\n",
       "      <td>31856.0</td>\n",
       "      <td>8098.0</td>\n",
       "      <td>2.0</td>\n",
       "      <td>112.0</td>\n",
       "      <td>1.0</td>\n",
       "      <td>48.0</td>\n",
       "      <td>121.0</td>\n",
       "    </tr>\n",
       "    <tr>\n",
       "      <th>5</th>\n",
       "      <td>10</td>\n",
       "      <td>2890000.0</td>\n",
       "      <td>30.40</td>\n",
       "      <td>2018-09-10T00:00:00</td>\n",
       "      <td>1</td>\n",
       "      <td>NaN</td>\n",
       "      <td>12.0</td>\n",
       "      <td>14.40</td>\n",
       "      <td>5</td>\n",
       "      <td>NaN</td>\n",
       "      <td>...</td>\n",
       "      <td>9.10</td>\n",
       "      <td>NaN</td>\n",
       "      <td>городской посёлок Янино-1</td>\n",
       "      <td>NaN</td>\n",
       "      <td>NaN</td>\n",
       "      <td>NaN</td>\n",
       "      <td>NaN</td>\n",
       "      <td>NaN</td>\n",
       "      <td>NaN</td>\n",
       "      <td>55.0</td>\n",
       "    </tr>\n",
       "    <tr>\n",
       "      <th>6</th>\n",
       "      <td>6</td>\n",
       "      <td>3700000.0</td>\n",
       "      <td>37.30</td>\n",
       "      <td>2017-11-02T00:00:00</td>\n",
       "      <td>1</td>\n",
       "      <td>NaN</td>\n",
       "      <td>26.0</td>\n",
       "      <td>10.60</td>\n",
       "      <td>6</td>\n",
       "      <td>NaN</td>\n",
       "      <td>...</td>\n",
       "      <td>14.40</td>\n",
       "      <td>1.0</td>\n",
       "      <td>посёлок Парголово</td>\n",
       "      <td>52996.0</td>\n",
       "      <td>19143.0</td>\n",
       "      <td>0.0</td>\n",
       "      <td>NaN</td>\n",
       "      <td>0.0</td>\n",
       "      <td>NaN</td>\n",
       "      <td>155.0</td>\n",
       "    </tr>\n",
       "    <tr>\n",
       "      <th>7</th>\n",
       "      <td>5</td>\n",
       "      <td>7915000.0</td>\n",
       "      <td>71.60</td>\n",
       "      <td>2019-04-18T00:00:00</td>\n",
       "      <td>2</td>\n",
       "      <td>NaN</td>\n",
       "      <td>24.0</td>\n",
       "      <td>NaN</td>\n",
       "      <td>22</td>\n",
       "      <td>NaN</td>\n",
       "      <td>...</td>\n",
       "      <td>18.90</td>\n",
       "      <td>2.0</td>\n",
       "      <td>Санкт-Петербург</td>\n",
       "      <td>23982.0</td>\n",
       "      <td>11634.0</td>\n",
       "      <td>0.0</td>\n",
       "      <td>NaN</td>\n",
       "      <td>0.0</td>\n",
       "      <td>NaN</td>\n",
       "      <td>NaN</td>\n",
       "    </tr>\n",
       "    <tr>\n",
       "      <th>8</th>\n",
       "      <td>20</td>\n",
       "      <td>2900000.0</td>\n",
       "      <td>33.16</td>\n",
       "      <td>2018-05-23T00:00:00</td>\n",
       "      <td>1</td>\n",
       "      <td>NaN</td>\n",
       "      <td>27.0</td>\n",
       "      <td>15.43</td>\n",
       "      <td>26</td>\n",
       "      <td>NaN</td>\n",
       "      <td>...</td>\n",
       "      <td>8.81</td>\n",
       "      <td>NaN</td>\n",
       "      <td>посёлок Мурино</td>\n",
       "      <td>NaN</td>\n",
       "      <td>NaN</td>\n",
       "      <td>NaN</td>\n",
       "      <td>NaN</td>\n",
       "      <td>NaN</td>\n",
       "      <td>NaN</td>\n",
       "      <td>189.0</td>\n",
       "    </tr>\n",
       "    <tr>\n",
       "      <th>9</th>\n",
       "      <td>18</td>\n",
       "      <td>5400000.0</td>\n",
       "      <td>61.00</td>\n",
       "      <td>2017-02-26T00:00:00</td>\n",
       "      <td>3</td>\n",
       "      <td>2.50</td>\n",
       "      <td>9.0</td>\n",
       "      <td>43.60</td>\n",
       "      <td>7</td>\n",
       "      <td>NaN</td>\n",
       "      <td>...</td>\n",
       "      <td>6.50</td>\n",
       "      <td>2.0</td>\n",
       "      <td>Санкт-Петербург</td>\n",
       "      <td>50898.0</td>\n",
       "      <td>15008.0</td>\n",
       "      <td>0.0</td>\n",
       "      <td>NaN</td>\n",
       "      <td>0.0</td>\n",
       "      <td>NaN</td>\n",
       "      <td>289.0</td>\n",
       "    </tr>\n",
       "  </tbody>\n",
       "</table>\n",
       "<p>10 rows × 22 columns</p>\n",
       "</div>"
      ],
      "text/plain": [
       "   total_images  last_price  total_area first_day_exposition  rooms  \\\n",
       "0            20  13000000.0      108.00  2019-03-07T00:00:00      3   \n",
       "1             7   3350000.0       40.40  2018-12-04T00:00:00      1   \n",
       "2            10   5196000.0       56.00  2015-08-20T00:00:00      2   \n",
       "3             0  64900000.0      159.00  2015-07-24T00:00:00      3   \n",
       "4             2  10000000.0      100.00  2018-06-19T00:00:00      2   \n",
       "5            10   2890000.0       30.40  2018-09-10T00:00:00      1   \n",
       "6             6   3700000.0       37.30  2017-11-02T00:00:00      1   \n",
       "7             5   7915000.0       71.60  2019-04-18T00:00:00      2   \n",
       "8            20   2900000.0       33.16  2018-05-23T00:00:00      1   \n",
       "9            18   5400000.0       61.00  2017-02-26T00:00:00      3   \n",
       "\n",
       "   ceiling_height  floors_total  living_area  floor is_apartment  ...  \\\n",
       "0            2.70          16.0        51.00      8          NaN  ...   \n",
       "1             NaN          11.0        18.60      1          NaN  ...   \n",
       "2             NaN           5.0        34.30      4          NaN  ...   \n",
       "3             NaN          14.0          NaN      9          NaN  ...   \n",
       "4            3.03          14.0        32.00     13          NaN  ...   \n",
       "5             NaN          12.0        14.40      5          NaN  ...   \n",
       "6             NaN          26.0        10.60      6          NaN  ...   \n",
       "7             NaN          24.0          NaN     22          NaN  ...   \n",
       "8             NaN          27.0        15.43     26          NaN  ...   \n",
       "9            2.50           9.0        43.60      7          NaN  ...   \n",
       "\n",
       "   kitchen_area  balcony              locality_name  airports_nearest  \\\n",
       "0         25.00      NaN            Санкт-Петербург           18863.0   \n",
       "1         11.00      2.0             посёлок Шушары           12817.0   \n",
       "2          8.30      0.0            Санкт-Петербург           21741.0   \n",
       "3           NaN      0.0            Санкт-Петербург           28098.0   \n",
       "4         41.00      NaN            Санкт-Петербург           31856.0   \n",
       "5          9.10      NaN  городской посёлок Янино-1               NaN   \n",
       "6         14.40      1.0          посёлок Парголово           52996.0   \n",
       "7         18.90      2.0            Санкт-Петербург           23982.0   \n",
       "8          8.81      NaN             посёлок Мурино               NaN   \n",
       "9          6.50      2.0            Санкт-Петербург           50898.0   \n",
       "\n",
       "  cityCenters_nearest  parks_around3000  parks_nearest  ponds_around3000  \\\n",
       "0             16028.0               1.0          482.0               2.0   \n",
       "1             18603.0               0.0            NaN               0.0   \n",
       "2             13933.0               1.0           90.0               2.0   \n",
       "3              6800.0               2.0           84.0               3.0   \n",
       "4              8098.0               2.0          112.0               1.0   \n",
       "5                 NaN               NaN            NaN               NaN   \n",
       "6             19143.0               0.0            NaN               0.0   \n",
       "7             11634.0               0.0            NaN               0.0   \n",
       "8                 NaN               NaN            NaN               NaN   \n",
       "9             15008.0               0.0            NaN               0.0   \n",
       "\n",
       "   ponds_nearest  days_exposition  \n",
       "0          755.0              NaN  \n",
       "1            NaN             81.0  \n",
       "2          574.0            558.0  \n",
       "3          234.0            424.0  \n",
       "4           48.0            121.0  \n",
       "5            NaN             55.0  \n",
       "6            NaN            155.0  \n",
       "7            NaN              NaN  \n",
       "8            NaN            189.0  \n",
       "9            NaN            289.0  \n",
       "\n",
       "[10 rows x 22 columns]"
      ]
     },
     "execution_count": 2,
     "metadata": {},
     "output_type": "execute_result"
    }
   ],
   "source": [
    "data = pd.read_csv('/datasets/real_estate_data.csv', sep='\\t')\n",
    "data.head(10)"
   ]
  },
  {
   "cell_type": "code",
   "execution_count": 3,
   "metadata": {},
   "outputs": [
    {
     "name": "stdout",
     "output_type": "stream",
     "text": [
      "<class 'pandas.core.frame.DataFrame'>\n",
      "RangeIndex: 23699 entries, 0 to 23698\n",
      "Data columns (total 22 columns):\n",
      " #   Column                Non-Null Count  Dtype  \n",
      "---  ------                --------------  -----  \n",
      " 0   total_images          23699 non-null  int64  \n",
      " 1   last_price            23699 non-null  float64\n",
      " 2   total_area            23699 non-null  float64\n",
      " 3   first_day_exposition  23699 non-null  object \n",
      " 4   rooms                 23699 non-null  int64  \n",
      " 5   ceiling_height        14504 non-null  float64\n",
      " 6   floors_total          23613 non-null  float64\n",
      " 7   living_area           21796 non-null  float64\n",
      " 8   floor                 23699 non-null  int64  \n",
      " 9   is_apartment          2775 non-null   object \n",
      " 10  studio                23699 non-null  bool   \n",
      " 11  open_plan             23699 non-null  bool   \n",
      " 12  kitchen_area          21421 non-null  float64\n",
      " 13  balcony               12180 non-null  float64\n",
      " 14  locality_name         23650 non-null  object \n",
      " 15  airports_nearest      18157 non-null  float64\n",
      " 16  cityCenters_nearest   18180 non-null  float64\n",
      " 17  parks_around3000      18181 non-null  float64\n",
      " 18  parks_nearest         8079 non-null   float64\n",
      " 19  ponds_around3000      18181 non-null  float64\n",
      " 20  ponds_nearest         9110 non-null   float64\n",
      " 21  days_exposition       20518 non-null  float64\n",
      "dtypes: bool(2), float64(14), int64(3), object(3)\n",
      "memory usage: 3.7+ MB\n"
     ]
    }
   ],
   "source": [
    "data.info()"
   ]
  },
  {
   "cell_type": "code",
   "execution_count": 4,
   "metadata": {},
   "outputs": [
    {
     "name": "stdout",
     "output_type": "stream",
     "text": [
      "Index(['total_images', 'last_price', 'total_area', 'first_day_exposition',\n",
      "       'rooms', 'ceiling_height', 'floors_total', 'living_area', 'floor',\n",
      "       'is_apartment', 'studio', 'open_plan', 'kitchen_area', 'balcony',\n",
      "       'locality_name', 'airports_nearest', 'cityCenters_nearest',\n",
      "       'parks_around3000', 'parks_nearest', 'ponds_around3000',\n",
      "       'ponds_nearest', 'days_exposition'],\n",
      "      dtype='object')\n"
     ]
    }
   ],
   "source": [
    "print(data.columns)"
   ]
  },
  {
   "cell_type": "markdown",
   "metadata": {},
   "source": [
    "### Вывод"
   ]
  },
  {
   "cell_type": "markdown",
   "metadata": {},
   "source": [
    "В данных выявлены следующие проблемы: \n",
    "1. столбцы названы не единообразно. Стоит изменить названия столбцов cityCenters_nearest, ponds_around3000, parks_around3000. \n",
    "2. Выявлены неверные типы данных (Число балконов (balcony) float; Сколько дней было размещено объявление days_exposition должно быть int; число этажей в доме floors_total нужно перевести в int; is_apartment нужно перевести из строки в bool; Число парков в радиусе 3 км parks_around3000 перевести в int; Число водоёмов в радиусе 3 км ponds_around3000 перевести в int)\n",
    "3. Дату публикации (first_day_expostion) нужно перевести с помощью Datetime\n",
    "4. Булевы типы нужно привести к одному виду: studio -> is_studio, open_plan -> is_open_plan\n",
    "5. Есть пустые значения в столбцах ponds_around3000 и ponds_nearest, parks_around3000 и parks_nearest, days_exposition, balcon, is_apartment. Но не должно стать проблемой.  "
   ]
  },
  {
   "cell_type": "markdown",
   "metadata": {},
   "source": [
    "## Предобработка данных"
   ]
  },
  {
   "cell_type": "markdown",
   "metadata": {},
   "source": [
    "### Редактируем названия столбцов\n",
    "Ряд заголовков был переименован для более удобной работы - приведен к змеинному написанию, к строчным буквам, некоторые названия были сокращены. "
   ]
  },
  {
   "cell_type": "code",
   "execution_count": 5,
   "metadata": {},
   "outputs": [],
   "source": [
    "(data.set_axis(\n",
    "    ['total_images', 'last_price', 'total_area', 'created_datetime',\n",
    "     'rooms_count', 'ceiling_height', 'total_floors', 'living_area', 'floor',\n",
    "     'is_apartment', 'is_studio', 'is_open_plan', 'kitchen_area', 'balcony_count',\n",
    "     'locality_name', 'nearest_airport_distance', 'nearest_city_center_distance',\n",
    "     'parks_in_3km_count', 'nearest_park_distance', 'ponds_in_3km_count',\n",
    "     'nearest_pond_distance', 'days_before_close'], axis = 'columns', inplace = True)\n",
    ")"
   ]
  },
  {
   "cell_type": "code",
   "execution_count": 6,
   "metadata": {},
   "outputs": [
    {
     "data": {
      "text/html": [
       "<div>\n",
       "<style scoped>\n",
       "    .dataframe tbody tr th:only-of-type {\n",
       "        vertical-align: middle;\n",
       "    }\n",
       "\n",
       "    .dataframe tbody tr th {\n",
       "        vertical-align: top;\n",
       "    }\n",
       "\n",
       "    .dataframe thead th {\n",
       "        text-align: right;\n",
       "    }\n",
       "</style>\n",
       "<table border=\"1\" class=\"dataframe\">\n",
       "  <thead>\n",
       "    <tr style=\"text-align: right;\">\n",
       "      <th></th>\n",
       "      <th>total_images</th>\n",
       "      <th>last_price</th>\n",
       "      <th>total_area</th>\n",
       "      <th>created_datetime</th>\n",
       "      <th>rooms_count</th>\n",
       "      <th>ceiling_height</th>\n",
       "      <th>total_floors</th>\n",
       "      <th>living_area</th>\n",
       "      <th>floor</th>\n",
       "      <th>is_apartment</th>\n",
       "      <th>...</th>\n",
       "      <th>kitchen_area</th>\n",
       "      <th>balcony_count</th>\n",
       "      <th>locality_name</th>\n",
       "      <th>nearest_airport_distance</th>\n",
       "      <th>nearest_city_center_distance</th>\n",
       "      <th>parks_in_3km_count</th>\n",
       "      <th>nearest_park_distance</th>\n",
       "      <th>ponds_in_3km_count</th>\n",
       "      <th>nearest_pond_distance</th>\n",
       "      <th>days_before_close</th>\n",
       "    </tr>\n",
       "  </thead>\n",
       "  <tbody>\n",
       "    <tr>\n",
       "      <th>0</th>\n",
       "      <td>20</td>\n",
       "      <td>13000000.0</td>\n",
       "      <td>108.00</td>\n",
       "      <td>2019-03-07T00:00:00</td>\n",
       "      <td>3</td>\n",
       "      <td>2.70</td>\n",
       "      <td>16.0</td>\n",
       "      <td>51.00</td>\n",
       "      <td>8</td>\n",
       "      <td>NaN</td>\n",
       "      <td>...</td>\n",
       "      <td>25.00</td>\n",
       "      <td>NaN</td>\n",
       "      <td>Санкт-Петербург</td>\n",
       "      <td>18863.0</td>\n",
       "      <td>16028.0</td>\n",
       "      <td>1.0</td>\n",
       "      <td>482.0</td>\n",
       "      <td>2.0</td>\n",
       "      <td>755.0</td>\n",
       "      <td>NaN</td>\n",
       "    </tr>\n",
       "    <tr>\n",
       "      <th>1</th>\n",
       "      <td>7</td>\n",
       "      <td>3350000.0</td>\n",
       "      <td>40.40</td>\n",
       "      <td>2018-12-04T00:00:00</td>\n",
       "      <td>1</td>\n",
       "      <td>NaN</td>\n",
       "      <td>11.0</td>\n",
       "      <td>18.60</td>\n",
       "      <td>1</td>\n",
       "      <td>NaN</td>\n",
       "      <td>...</td>\n",
       "      <td>11.00</td>\n",
       "      <td>2.0</td>\n",
       "      <td>посёлок Шушары</td>\n",
       "      <td>12817.0</td>\n",
       "      <td>18603.0</td>\n",
       "      <td>0.0</td>\n",
       "      <td>NaN</td>\n",
       "      <td>0.0</td>\n",
       "      <td>NaN</td>\n",
       "      <td>81.0</td>\n",
       "    </tr>\n",
       "    <tr>\n",
       "      <th>2</th>\n",
       "      <td>10</td>\n",
       "      <td>5196000.0</td>\n",
       "      <td>56.00</td>\n",
       "      <td>2015-08-20T00:00:00</td>\n",
       "      <td>2</td>\n",
       "      <td>NaN</td>\n",
       "      <td>5.0</td>\n",
       "      <td>34.30</td>\n",
       "      <td>4</td>\n",
       "      <td>NaN</td>\n",
       "      <td>...</td>\n",
       "      <td>8.30</td>\n",
       "      <td>0.0</td>\n",
       "      <td>Санкт-Петербург</td>\n",
       "      <td>21741.0</td>\n",
       "      <td>13933.0</td>\n",
       "      <td>1.0</td>\n",
       "      <td>90.0</td>\n",
       "      <td>2.0</td>\n",
       "      <td>574.0</td>\n",
       "      <td>558.0</td>\n",
       "    </tr>\n",
       "    <tr>\n",
       "      <th>3</th>\n",
       "      <td>0</td>\n",
       "      <td>64900000.0</td>\n",
       "      <td>159.00</td>\n",
       "      <td>2015-07-24T00:00:00</td>\n",
       "      <td>3</td>\n",
       "      <td>NaN</td>\n",
       "      <td>14.0</td>\n",
       "      <td>NaN</td>\n",
       "      <td>9</td>\n",
       "      <td>NaN</td>\n",
       "      <td>...</td>\n",
       "      <td>NaN</td>\n",
       "      <td>0.0</td>\n",
       "      <td>Санкт-Петербург</td>\n",
       "      <td>28098.0</td>\n",
       "      <td>6800.0</td>\n",
       "      <td>2.0</td>\n",
       "      <td>84.0</td>\n",
       "      <td>3.0</td>\n",
       "      <td>234.0</td>\n",
       "      <td>424.0</td>\n",
       "    </tr>\n",
       "    <tr>\n",
       "      <th>4</th>\n",
       "      <td>2</td>\n",
       "      <td>10000000.0</td>\n",
       "      <td>100.00</td>\n",
       "      <td>2018-06-19T00:00:00</td>\n",
       "      <td>2</td>\n",
       "      <td>3.03</td>\n",
       "      <td>14.0</td>\n",
       "      <td>32.00</td>\n",
       "      <td>13</td>\n",
       "      <td>NaN</td>\n",
       "      <td>...</td>\n",
       "      <td>41.00</td>\n",
       "      <td>NaN</td>\n",
       "      <td>Санкт-Петербург</td>\n",
       "      <td>31856.0</td>\n",
       "      <td>8098.0</td>\n",
       "      <td>2.0</td>\n",
       "      <td>112.0</td>\n",
       "      <td>1.0</td>\n",
       "      <td>48.0</td>\n",
       "      <td>121.0</td>\n",
       "    </tr>\n",
       "    <tr>\n",
       "      <th>5</th>\n",
       "      <td>10</td>\n",
       "      <td>2890000.0</td>\n",
       "      <td>30.40</td>\n",
       "      <td>2018-09-10T00:00:00</td>\n",
       "      <td>1</td>\n",
       "      <td>NaN</td>\n",
       "      <td>12.0</td>\n",
       "      <td>14.40</td>\n",
       "      <td>5</td>\n",
       "      <td>NaN</td>\n",
       "      <td>...</td>\n",
       "      <td>9.10</td>\n",
       "      <td>NaN</td>\n",
       "      <td>городской посёлок Янино-1</td>\n",
       "      <td>NaN</td>\n",
       "      <td>NaN</td>\n",
       "      <td>NaN</td>\n",
       "      <td>NaN</td>\n",
       "      <td>NaN</td>\n",
       "      <td>NaN</td>\n",
       "      <td>55.0</td>\n",
       "    </tr>\n",
       "    <tr>\n",
       "      <th>6</th>\n",
       "      <td>6</td>\n",
       "      <td>3700000.0</td>\n",
       "      <td>37.30</td>\n",
       "      <td>2017-11-02T00:00:00</td>\n",
       "      <td>1</td>\n",
       "      <td>NaN</td>\n",
       "      <td>26.0</td>\n",
       "      <td>10.60</td>\n",
       "      <td>6</td>\n",
       "      <td>NaN</td>\n",
       "      <td>...</td>\n",
       "      <td>14.40</td>\n",
       "      <td>1.0</td>\n",
       "      <td>посёлок Парголово</td>\n",
       "      <td>52996.0</td>\n",
       "      <td>19143.0</td>\n",
       "      <td>0.0</td>\n",
       "      <td>NaN</td>\n",
       "      <td>0.0</td>\n",
       "      <td>NaN</td>\n",
       "      <td>155.0</td>\n",
       "    </tr>\n",
       "    <tr>\n",
       "      <th>7</th>\n",
       "      <td>5</td>\n",
       "      <td>7915000.0</td>\n",
       "      <td>71.60</td>\n",
       "      <td>2019-04-18T00:00:00</td>\n",
       "      <td>2</td>\n",
       "      <td>NaN</td>\n",
       "      <td>24.0</td>\n",
       "      <td>NaN</td>\n",
       "      <td>22</td>\n",
       "      <td>NaN</td>\n",
       "      <td>...</td>\n",
       "      <td>18.90</td>\n",
       "      <td>2.0</td>\n",
       "      <td>Санкт-Петербург</td>\n",
       "      <td>23982.0</td>\n",
       "      <td>11634.0</td>\n",
       "      <td>0.0</td>\n",
       "      <td>NaN</td>\n",
       "      <td>0.0</td>\n",
       "      <td>NaN</td>\n",
       "      <td>NaN</td>\n",
       "    </tr>\n",
       "    <tr>\n",
       "      <th>8</th>\n",
       "      <td>20</td>\n",
       "      <td>2900000.0</td>\n",
       "      <td>33.16</td>\n",
       "      <td>2018-05-23T00:00:00</td>\n",
       "      <td>1</td>\n",
       "      <td>NaN</td>\n",
       "      <td>27.0</td>\n",
       "      <td>15.43</td>\n",
       "      <td>26</td>\n",
       "      <td>NaN</td>\n",
       "      <td>...</td>\n",
       "      <td>8.81</td>\n",
       "      <td>NaN</td>\n",
       "      <td>посёлок Мурино</td>\n",
       "      <td>NaN</td>\n",
       "      <td>NaN</td>\n",
       "      <td>NaN</td>\n",
       "      <td>NaN</td>\n",
       "      <td>NaN</td>\n",
       "      <td>NaN</td>\n",
       "      <td>189.0</td>\n",
       "    </tr>\n",
       "    <tr>\n",
       "      <th>9</th>\n",
       "      <td>18</td>\n",
       "      <td>5400000.0</td>\n",
       "      <td>61.00</td>\n",
       "      <td>2017-02-26T00:00:00</td>\n",
       "      <td>3</td>\n",
       "      <td>2.50</td>\n",
       "      <td>9.0</td>\n",
       "      <td>43.60</td>\n",
       "      <td>7</td>\n",
       "      <td>NaN</td>\n",
       "      <td>...</td>\n",
       "      <td>6.50</td>\n",
       "      <td>2.0</td>\n",
       "      <td>Санкт-Петербург</td>\n",
       "      <td>50898.0</td>\n",
       "      <td>15008.0</td>\n",
       "      <td>0.0</td>\n",
       "      <td>NaN</td>\n",
       "      <td>0.0</td>\n",
       "      <td>NaN</td>\n",
       "      <td>289.0</td>\n",
       "    </tr>\n",
       "  </tbody>\n",
       "</table>\n",
       "<p>10 rows × 22 columns</p>\n",
       "</div>"
      ],
      "text/plain": [
       "   total_images  last_price  total_area     created_datetime  rooms_count  \\\n",
       "0            20  13000000.0      108.00  2019-03-07T00:00:00            3   \n",
       "1             7   3350000.0       40.40  2018-12-04T00:00:00            1   \n",
       "2            10   5196000.0       56.00  2015-08-20T00:00:00            2   \n",
       "3             0  64900000.0      159.00  2015-07-24T00:00:00            3   \n",
       "4             2  10000000.0      100.00  2018-06-19T00:00:00            2   \n",
       "5            10   2890000.0       30.40  2018-09-10T00:00:00            1   \n",
       "6             6   3700000.0       37.30  2017-11-02T00:00:00            1   \n",
       "7             5   7915000.0       71.60  2019-04-18T00:00:00            2   \n",
       "8            20   2900000.0       33.16  2018-05-23T00:00:00            1   \n",
       "9            18   5400000.0       61.00  2017-02-26T00:00:00            3   \n",
       "\n",
       "   ceiling_height  total_floors  living_area  floor is_apartment  ...  \\\n",
       "0            2.70          16.0        51.00      8          NaN  ...   \n",
       "1             NaN          11.0        18.60      1          NaN  ...   \n",
       "2             NaN           5.0        34.30      4          NaN  ...   \n",
       "3             NaN          14.0          NaN      9          NaN  ...   \n",
       "4            3.03          14.0        32.00     13          NaN  ...   \n",
       "5             NaN          12.0        14.40      5          NaN  ...   \n",
       "6             NaN          26.0        10.60      6          NaN  ...   \n",
       "7             NaN          24.0          NaN     22          NaN  ...   \n",
       "8             NaN          27.0        15.43     26          NaN  ...   \n",
       "9            2.50           9.0        43.60      7          NaN  ...   \n",
       "\n",
       "   kitchen_area  balcony_count              locality_name  \\\n",
       "0         25.00            NaN            Санкт-Петербург   \n",
       "1         11.00            2.0             посёлок Шушары   \n",
       "2          8.30            0.0            Санкт-Петербург   \n",
       "3           NaN            0.0            Санкт-Петербург   \n",
       "4         41.00            NaN            Санкт-Петербург   \n",
       "5          9.10            NaN  городской посёлок Янино-1   \n",
       "6         14.40            1.0          посёлок Парголово   \n",
       "7         18.90            2.0            Санкт-Петербург   \n",
       "8          8.81            NaN             посёлок Мурино   \n",
       "9          6.50            2.0            Санкт-Петербург   \n",
       "\n",
       "   nearest_airport_distance nearest_city_center_distance  parks_in_3km_count  \\\n",
       "0                   18863.0                      16028.0                 1.0   \n",
       "1                   12817.0                      18603.0                 0.0   \n",
       "2                   21741.0                      13933.0                 1.0   \n",
       "3                   28098.0                       6800.0                 2.0   \n",
       "4                   31856.0                       8098.0                 2.0   \n",
       "5                       NaN                          NaN                 NaN   \n",
       "6                   52996.0                      19143.0                 0.0   \n",
       "7                   23982.0                      11634.0                 0.0   \n",
       "8                       NaN                          NaN                 NaN   \n",
       "9                   50898.0                      15008.0                 0.0   \n",
       "\n",
       "   nearest_park_distance  ponds_in_3km_count  nearest_pond_distance  \\\n",
       "0                  482.0                 2.0                  755.0   \n",
       "1                    NaN                 0.0                    NaN   \n",
       "2                   90.0                 2.0                  574.0   \n",
       "3                   84.0                 3.0                  234.0   \n",
       "4                  112.0                 1.0                   48.0   \n",
       "5                    NaN                 NaN                    NaN   \n",
       "6                    NaN                 0.0                    NaN   \n",
       "7                    NaN                 0.0                    NaN   \n",
       "8                    NaN                 NaN                    NaN   \n",
       "9                    NaN                 0.0                    NaN   \n",
       "\n",
       "   days_before_close  \n",
       "0                NaN  \n",
       "1               81.0  \n",
       "2              558.0  \n",
       "3              424.0  \n",
       "4              121.0  \n",
       "5               55.0  \n",
       "6              155.0  \n",
       "7                NaN  \n",
       "8              189.0  \n",
       "9              289.0  \n",
       "\n",
       "[10 rows x 22 columns]"
      ]
     },
     "execution_count": 6,
     "metadata": {},
     "output_type": "execute_result"
    }
   ],
   "source": [
    "data.head(10)"
   ]
  },
  {
   "cell_type": "markdown",
   "metadata": {},
   "source": [
    "### Заполнение пропусков\n",
    "Были выявлены пропущенные значения в ряде столбцов. Проделаны следующие замены:\n",
    "1. слишком обльшое количество пропущенных значений в is_apartment буду считать за True.\n",
    "2. В столбце с числом балконов, пропуски заменены на 0, что будем считать, как в квартире нет балконов. \n",
    "3. Высота потолков заполнена медианой.\n",
    "4. Пустые значения в столбцах locality_name и total_floors нельзя заполнить, а пропущенных значений не много, в связи с чем их можно удалить.\n",
    "5. В столбцах с расстояниями до парков и водоемов, пропущенные значения указаывают на то, что дистанция до них более 3000 м. Тогда расстояние до ближайшего парка и водоема заполним значениями 3001. Пропущенные значения в числе парков и водоемов заменим на 0.  \n",
    "6. Пустые значения по жилой площади (living_area) и площади кухни (kitchen_area) были заполнены медианой.\n",
    "\n",
    "Пропуски в столбцах nearest_city_center_distance, nearest_airport_distance нет смысла заполнять, так как медианой их заполнить не правильно, а в малых населенных пунктах может не быть аэропорта. Также не будут заполнены пропуски в days_before_close, так как эти данные в дальнейшем для исследования не понадобятся. \n"
   ]
  },
  {
   "cell_type": "code",
   "execution_count": 7,
   "metadata": {},
   "outputs": [
    {
     "data": {
      "text/plain": [
       "total_images                        0\n",
       "last_price                          0\n",
       "total_area                          0\n",
       "created_datetime                    0\n",
       "rooms_count                         0\n",
       "ceiling_height                   9195\n",
       "total_floors                       86\n",
       "living_area                      1903\n",
       "floor                               0\n",
       "is_apartment                    20924\n",
       "is_studio                           0\n",
       "is_open_plan                        0\n",
       "kitchen_area                     2278\n",
       "balcony_count                   11519\n",
       "locality_name                      49\n",
       "nearest_airport_distance         5542\n",
       "nearest_city_center_distance     5519\n",
       "parks_in_3km_count               5518\n",
       "nearest_park_distance           15620\n",
       "ponds_in_3km_count               5518\n",
       "nearest_pond_distance           14589\n",
       "days_before_close                3181\n",
       "dtype: int64"
      ]
     },
     "execution_count": 7,
     "metadata": {},
     "output_type": "execute_result"
    }
   ],
   "source": [
    "data.isnull().sum()"
   ]
  },
  {
   "cell_type": "code",
   "execution_count": 8,
   "metadata": {},
   "outputs": [
    {
     "data": {
      "text/html": [
       "<div>\n",
       "<style scoped>\n",
       "    .dataframe tbody tr th:only-of-type {\n",
       "        vertical-align: middle;\n",
       "    }\n",
       "\n",
       "    .dataframe tbody tr th {\n",
       "        vertical-align: top;\n",
       "    }\n",
       "\n",
       "    .dataframe thead th {\n",
       "        text-align: right;\n",
       "    }\n",
       "</style>\n",
       "<table border=\"1\" class=\"dataframe\">\n",
       "  <thead>\n",
       "    <tr style=\"text-align: right;\">\n",
       "      <th></th>\n",
       "      <th>total_images</th>\n",
       "      <th>last_price</th>\n",
       "      <th>total_area</th>\n",
       "      <th>created_datetime</th>\n",
       "      <th>rooms_count</th>\n",
       "      <th>ceiling_height</th>\n",
       "      <th>total_floors</th>\n",
       "      <th>living_area</th>\n",
       "      <th>floor</th>\n",
       "      <th>is_apartment</th>\n",
       "      <th>...</th>\n",
       "      <th>kitchen_area</th>\n",
       "      <th>balcony_count</th>\n",
       "      <th>locality_name</th>\n",
       "      <th>nearest_airport_distance</th>\n",
       "      <th>nearest_city_center_distance</th>\n",
       "      <th>parks_in_3km_count</th>\n",
       "      <th>nearest_park_distance</th>\n",
       "      <th>ponds_in_3km_count</th>\n",
       "      <th>nearest_pond_distance</th>\n",
       "      <th>days_before_close</th>\n",
       "    </tr>\n",
       "  </thead>\n",
       "  <tbody>\n",
       "  </tbody>\n",
       "</table>\n",
       "<p>0 rows × 22 columns</p>\n",
       "</div>"
      ],
      "text/plain": [
       "Empty DataFrame\n",
       "Columns: [total_images, last_price, total_area, created_datetime, rooms_count, ceiling_height, total_floors, living_area, floor, is_apartment, is_studio, is_open_plan, kitchen_area, balcony_count, locality_name, nearest_airport_distance, nearest_city_center_distance, parks_in_3km_count, nearest_park_distance, ponds_in_3km_count, nearest_pond_distance, days_before_close]\n",
       "Index: []\n",
       "\n",
       "[0 rows x 22 columns]"
      ]
     },
     "execution_count": 8,
     "metadata": {},
     "output_type": "execute_result"
    }
   ],
   "source": [
    "data['is_apartment'] = data['is_apartment'].fillna(True)\n",
    "data['balcony_count'] = data['balcony_count'].fillna(0)\n",
    "\n",
    "ceiling_height_median = data['ceiling_height'].median()\n",
    "data['ceiling_height'] = data['ceiling_height'].fillna(ceiling_height_median)\n",
    "\n",
    "data.dropna(subset=['locality_name'], inplace=True)\n",
    "data.dropna(subset=['total_floors'], inplace=True)\n",
    "\n",
    "data['parks_in_3km_count'] = data['parks_in_3km_count'].fillna(0)\n",
    "data['nearest_park_distance'] = data['nearest_park_distance'].fillna(3001)\n",
    "\n",
    "data['ponds_in_3km_count'] = data['ponds_in_3km_count'].fillna(0)\n",
    "data['nearest_pond_distance'] = data['nearest_pond_distance'].fillna(3001)\n",
    "\n",
    "data[(data['parks_in_3km_count'] != 0) & (data['nearest_park_distance'] == 3001)]"
   ]
  },
  {
   "cell_type": "code",
   "execution_count": 9,
   "metadata": {},
   "outputs": [
    {
     "data": {
      "text/plain": [
       "total_images                       0\n",
       "last_price                         0\n",
       "total_area                         0\n",
       "created_datetime                   0\n",
       "rooms_count                        0\n",
       "ceiling_height                     0\n",
       "total_floors                       0\n",
       "living_area                     1865\n",
       "floor                              0\n",
       "is_apartment                       0\n",
       "is_studio                          0\n",
       "is_open_plan                       0\n",
       "kitchen_area                    2222\n",
       "balcony_count                      0\n",
       "locality_name                      0\n",
       "nearest_airport_distance        5524\n",
       "nearest_city_center_distance    5501\n",
       "parks_in_3km_count                 0\n",
       "nearest_park_distance              0\n",
       "ponds_in_3km_count                 0\n",
       "nearest_pond_distance              0\n",
       "days_before_close               3171\n",
       "dtype: int64"
      ]
     },
     "execution_count": 9,
     "metadata": {},
     "output_type": "execute_result"
    }
   ],
   "source": [
    "data.isnull().sum()"
   ]
  },
  {
   "cell_type": "code",
   "execution_count": 10,
   "metadata": {},
   "outputs": [
    {
     "data": {
      "text/plain": [
       "total_images                       0\n",
       "last_price                         0\n",
       "total_area                         0\n",
       "created_datetime                   0\n",
       "rooms_count                        0\n",
       "ceiling_height                     0\n",
       "total_floors                       0\n",
       "living_area                        0\n",
       "floor                              0\n",
       "is_apartment                       0\n",
       "is_studio                          0\n",
       "is_open_plan                       0\n",
       "kitchen_area                       0\n",
       "balcony_count                      0\n",
       "locality_name                      0\n",
       "nearest_airport_distance        5524\n",
       "nearest_city_center_distance    5501\n",
       "parks_in_3km_count                 0\n",
       "nearest_park_distance              0\n",
       "ponds_in_3km_count                 0\n",
       "nearest_pond_distance              0\n",
       "days_before_close               3171\n",
       "dtype: int64"
      ]
     },
     "execution_count": 10,
     "metadata": {},
     "output_type": "execute_result"
    }
   ],
   "source": [
    "living_area_median = data['living_area'].median()\n",
    "data['living_area'] = data['living_area'].fillna(living_area_median)\n",
    "kitchen_area_median = data['kitchen_area'].median()\n",
    "data['kitchen_area'] = data['kitchen_area'].fillna(kitchen_area_median)\n",
    "data.isnull().sum()"
   ]
  },
  {
   "cell_type": "markdown",
   "metadata": {},
   "source": [
    "### Замена типов данных\n",
    "Были заменены неверные типы данных у столбцов с числом балконов/этажей/расстоянием до парков/расстоянием до водоемов (приведены к int), цена квартиры до целочисленного значения (int). Значение дат приведено к datatime."
   ]
  },
  {
   "cell_type": "code",
   "execution_count": 11,
   "metadata": {},
   "outputs": [
    {
     "name": "stdout",
     "output_type": "stream",
     "text": [
      "<class 'pandas.core.frame.DataFrame'>\n",
      "Int64Index: 23565 entries, 0 to 23698\n",
      "Data columns (total 22 columns):\n",
      " #   Column                        Non-Null Count  Dtype         \n",
      "---  ------                        --------------  -----         \n",
      " 0   total_images                  23565 non-null  int64         \n",
      " 1   last_price                    23565 non-null  int64         \n",
      " 2   total_area                    23565 non-null  float64       \n",
      " 3   created_datetime              23565 non-null  datetime64[ns]\n",
      " 4   rooms_count                   23565 non-null  int64         \n",
      " 5   ceiling_height                23565 non-null  float64       \n",
      " 6   total_floors                  23565 non-null  int64         \n",
      " 7   living_area                   23565 non-null  float64       \n",
      " 8   floor                         23565 non-null  int64         \n",
      " 9   is_apartment                  23565 non-null  bool          \n",
      " 10  is_studio                     23565 non-null  bool          \n",
      " 11  is_open_plan                  23565 non-null  bool          \n",
      " 12  kitchen_area                  23565 non-null  float64       \n",
      " 13  balcony_count                 23565 non-null  int64         \n",
      " 14  locality_name                 23565 non-null  object        \n",
      " 15  nearest_airport_distance      18041 non-null  float64       \n",
      " 16  nearest_city_center_distance  18064 non-null  float64       \n",
      " 17  parks_in_3km_count            23565 non-null  int64         \n",
      " 18  nearest_park_distance         23565 non-null  float64       \n",
      " 19  ponds_in_3km_count            23565 non-null  int64         \n",
      " 20  nearest_pond_distance         23565 non-null  float64       \n",
      " 21  days_before_close             20394 non-null  float64       \n",
      "dtypes: bool(3), datetime64[ns](1), float64(9), int64(8), object(1)\n",
      "memory usage: 3.7+ MB\n"
     ]
    }
   ],
   "source": [
    "data['balcony_count'] = data['balcony_count'].astype('int')\n",
    "data['total_floors'] = data['total_floors'].astype('int')\n",
    "data['last_price'] = data['last_price'].astype('int')\n",
    "data['parks_in_3km_count'] = data['parks_in_3km_count'].astype('int')\n",
    "data['ponds_in_3km_count'] = data['ponds_in_3km_count'].astype('int')\n",
    "data['created_datetime'] = pd.to_datetime(data['created_datetime'], format='%Y-%m-%dT%H:%M:%S')\n",
    "data.info()"
   ]
  },
  {
   "cell_type": "markdown",
   "metadata": {},
   "source": [
    "### Выводы по предоработке данных\n",
    "Таблица приведена к единообразию, в некоторых столбцах заменены вещественные значения (которые не могли там встречаться) заменены на целые числа. Записи о времени также были приведены к соответствующему типу.\n",
    "Остались как есть поля (nearest_city_center_distance, nearest_airport_distance), так как их не восстановить самостоятельно. Стоит указать на это тем, кто выгружал данные. "
   ]
  },
  {
   "cell_type": "markdown",
   "metadata": {},
   "source": [
    "## Расчёты и добавление результатов в таблицу\n",
    "В таблицу необходимо добавить дополнительные столбцы с информацией - по цене 1 кв. м (square_meter_price), по году/месяцу/недели/дню публикации объявления, типы этажей (floor_type), по соотношению жилой и общей площади (living_area_part), а также отношение площади кухни к общей (kitchen_area_part)."
   ]
  },
  {
   "cell_type": "code",
   "execution_count": 12,
   "metadata": {},
   "outputs": [
    {
     "data": {
      "text/html": [
       "<div>\n",
       "<style scoped>\n",
       "    .dataframe tbody tr th:only-of-type {\n",
       "        vertical-align: middle;\n",
       "    }\n",
       "\n",
       "    .dataframe tbody tr th {\n",
       "        vertical-align: top;\n",
       "    }\n",
       "\n",
       "    .dataframe thead th {\n",
       "        text-align: right;\n",
       "    }\n",
       "</style>\n",
       "<table border=\"1\" class=\"dataframe\">\n",
       "  <thead>\n",
       "    <tr style=\"text-align: right;\">\n",
       "      <th></th>\n",
       "      <th>total_images</th>\n",
       "      <th>last_price</th>\n",
       "      <th>total_area</th>\n",
       "      <th>created_datetime</th>\n",
       "      <th>rooms_count</th>\n",
       "      <th>ceiling_height</th>\n",
       "      <th>total_floors</th>\n",
       "      <th>living_area</th>\n",
       "      <th>floor</th>\n",
       "      <th>is_apartment</th>\n",
       "      <th>...</th>\n",
       "      <th>ponds_in_3km_count</th>\n",
       "      <th>nearest_pond_distance</th>\n",
       "      <th>days_before_close</th>\n",
       "      <th>square_meter_price</th>\n",
       "      <th>created_year</th>\n",
       "      <th>created_month</th>\n",
       "      <th>created_weekday</th>\n",
       "      <th>floor_type</th>\n",
       "      <th>living_area_part</th>\n",
       "      <th>kitchen_area_part</th>\n",
       "    </tr>\n",
       "  </thead>\n",
       "  <tbody>\n",
       "    <tr>\n",
       "      <th>0</th>\n",
       "      <td>20</td>\n",
       "      <td>13000000</td>\n",
       "      <td>108.00</td>\n",
       "      <td>2019-03-07</td>\n",
       "      <td>3</td>\n",
       "      <td>2.70</td>\n",
       "      <td>16</td>\n",
       "      <td>51.00</td>\n",
       "      <td>8</td>\n",
       "      <td>True</td>\n",
       "      <td>...</td>\n",
       "      <td>2</td>\n",
       "      <td>755.0</td>\n",
       "      <td>NaN</td>\n",
       "      <td>120370.37</td>\n",
       "      <td>2019</td>\n",
       "      <td>7</td>\n",
       "      <td>3</td>\n",
       "      <td>другой</td>\n",
       "      <td>0.47</td>\n",
       "      <td>0.23</td>\n",
       "    </tr>\n",
       "    <tr>\n",
       "      <th>1</th>\n",
       "      <td>7</td>\n",
       "      <td>3350000</td>\n",
       "      <td>40.40</td>\n",
       "      <td>2018-12-04</td>\n",
       "      <td>1</td>\n",
       "      <td>2.65</td>\n",
       "      <td>11</td>\n",
       "      <td>18.60</td>\n",
       "      <td>1</td>\n",
       "      <td>True</td>\n",
       "      <td>...</td>\n",
       "      <td>0</td>\n",
       "      <td>3001.0</td>\n",
       "      <td>81.0</td>\n",
       "      <td>82920.79</td>\n",
       "      <td>2018</td>\n",
       "      <td>4</td>\n",
       "      <td>1</td>\n",
       "      <td>первый</td>\n",
       "      <td>0.46</td>\n",
       "      <td>0.27</td>\n",
       "    </tr>\n",
       "    <tr>\n",
       "      <th>2</th>\n",
       "      <td>10</td>\n",
       "      <td>5196000</td>\n",
       "      <td>56.00</td>\n",
       "      <td>2015-08-20</td>\n",
       "      <td>2</td>\n",
       "      <td>2.65</td>\n",
       "      <td>5</td>\n",
       "      <td>34.30</td>\n",
       "      <td>4</td>\n",
       "      <td>True</td>\n",
       "      <td>...</td>\n",
       "      <td>2</td>\n",
       "      <td>574.0</td>\n",
       "      <td>558.0</td>\n",
       "      <td>92785.71</td>\n",
       "      <td>2015</td>\n",
       "      <td>20</td>\n",
       "      <td>3</td>\n",
       "      <td>другой</td>\n",
       "      <td>0.61</td>\n",
       "      <td>0.15</td>\n",
       "    </tr>\n",
       "    <tr>\n",
       "      <th>3</th>\n",
       "      <td>0</td>\n",
       "      <td>64900000</td>\n",
       "      <td>159.00</td>\n",
       "      <td>2015-07-24</td>\n",
       "      <td>3</td>\n",
       "      <td>2.65</td>\n",
       "      <td>14</td>\n",
       "      <td>30.00</td>\n",
       "      <td>9</td>\n",
       "      <td>True</td>\n",
       "      <td>...</td>\n",
       "      <td>3</td>\n",
       "      <td>234.0</td>\n",
       "      <td>424.0</td>\n",
       "      <td>408176.10</td>\n",
       "      <td>2015</td>\n",
       "      <td>24</td>\n",
       "      <td>4</td>\n",
       "      <td>другой</td>\n",
       "      <td>0.19</td>\n",
       "      <td>0.06</td>\n",
       "    </tr>\n",
       "    <tr>\n",
       "      <th>4</th>\n",
       "      <td>2</td>\n",
       "      <td>10000000</td>\n",
       "      <td>100.00</td>\n",
       "      <td>2018-06-19</td>\n",
       "      <td>2</td>\n",
       "      <td>3.03</td>\n",
       "      <td>14</td>\n",
       "      <td>32.00</td>\n",
       "      <td>13</td>\n",
       "      <td>True</td>\n",
       "      <td>...</td>\n",
       "      <td>1</td>\n",
       "      <td>48.0</td>\n",
       "      <td>121.0</td>\n",
       "      <td>100000.00</td>\n",
       "      <td>2018</td>\n",
       "      <td>19</td>\n",
       "      <td>1</td>\n",
       "      <td>другой</td>\n",
       "      <td>0.32</td>\n",
       "      <td>0.41</td>\n",
       "    </tr>\n",
       "    <tr>\n",
       "      <th>5</th>\n",
       "      <td>10</td>\n",
       "      <td>2890000</td>\n",
       "      <td>30.40</td>\n",
       "      <td>2018-09-10</td>\n",
       "      <td>1</td>\n",
       "      <td>2.65</td>\n",
       "      <td>12</td>\n",
       "      <td>14.40</td>\n",
       "      <td>5</td>\n",
       "      <td>True</td>\n",
       "      <td>...</td>\n",
       "      <td>0</td>\n",
       "      <td>3001.0</td>\n",
       "      <td>55.0</td>\n",
       "      <td>95065.79</td>\n",
       "      <td>2018</td>\n",
       "      <td>10</td>\n",
       "      <td>0</td>\n",
       "      <td>другой</td>\n",
       "      <td>0.47</td>\n",
       "      <td>0.30</td>\n",
       "    </tr>\n",
       "    <tr>\n",
       "      <th>6</th>\n",
       "      <td>6</td>\n",
       "      <td>3700000</td>\n",
       "      <td>37.30</td>\n",
       "      <td>2017-11-02</td>\n",
       "      <td>1</td>\n",
       "      <td>2.65</td>\n",
       "      <td>26</td>\n",
       "      <td>10.60</td>\n",
       "      <td>6</td>\n",
       "      <td>True</td>\n",
       "      <td>...</td>\n",
       "      <td>0</td>\n",
       "      <td>3001.0</td>\n",
       "      <td>155.0</td>\n",
       "      <td>99195.71</td>\n",
       "      <td>2017</td>\n",
       "      <td>2</td>\n",
       "      <td>3</td>\n",
       "      <td>другой</td>\n",
       "      <td>0.28</td>\n",
       "      <td>0.39</td>\n",
       "    </tr>\n",
       "    <tr>\n",
       "      <th>7</th>\n",
       "      <td>5</td>\n",
       "      <td>7915000</td>\n",
       "      <td>71.60</td>\n",
       "      <td>2019-04-18</td>\n",
       "      <td>2</td>\n",
       "      <td>2.65</td>\n",
       "      <td>24</td>\n",
       "      <td>30.00</td>\n",
       "      <td>22</td>\n",
       "      <td>True</td>\n",
       "      <td>...</td>\n",
       "      <td>0</td>\n",
       "      <td>3001.0</td>\n",
       "      <td>NaN</td>\n",
       "      <td>110544.69</td>\n",
       "      <td>2019</td>\n",
       "      <td>18</td>\n",
       "      <td>3</td>\n",
       "      <td>другой</td>\n",
       "      <td>0.42</td>\n",
       "      <td>0.26</td>\n",
       "    </tr>\n",
       "    <tr>\n",
       "      <th>8</th>\n",
       "      <td>20</td>\n",
       "      <td>2900000</td>\n",
       "      <td>33.16</td>\n",
       "      <td>2018-05-23</td>\n",
       "      <td>1</td>\n",
       "      <td>2.65</td>\n",
       "      <td>27</td>\n",
       "      <td>15.43</td>\n",
       "      <td>26</td>\n",
       "      <td>True</td>\n",
       "      <td>...</td>\n",
       "      <td>0</td>\n",
       "      <td>3001.0</td>\n",
       "      <td>189.0</td>\n",
       "      <td>87454.76</td>\n",
       "      <td>2018</td>\n",
       "      <td>23</td>\n",
       "      <td>2</td>\n",
       "      <td>другой</td>\n",
       "      <td>0.47</td>\n",
       "      <td>0.27</td>\n",
       "    </tr>\n",
       "    <tr>\n",
       "      <th>9</th>\n",
       "      <td>18</td>\n",
       "      <td>5400000</td>\n",
       "      <td>61.00</td>\n",
       "      <td>2017-02-26</td>\n",
       "      <td>3</td>\n",
       "      <td>2.50</td>\n",
       "      <td>9</td>\n",
       "      <td>43.60</td>\n",
       "      <td>7</td>\n",
       "      <td>True</td>\n",
       "      <td>...</td>\n",
       "      <td>0</td>\n",
       "      <td>3001.0</td>\n",
       "      <td>289.0</td>\n",
       "      <td>88524.59</td>\n",
       "      <td>2017</td>\n",
       "      <td>26</td>\n",
       "      <td>6</td>\n",
       "      <td>другой</td>\n",
       "      <td>0.71</td>\n",
       "      <td>0.11</td>\n",
       "    </tr>\n",
       "  </tbody>\n",
       "</table>\n",
       "<p>10 rows × 29 columns</p>\n",
       "</div>"
      ],
      "text/plain": [
       "   total_images  last_price  total_area created_datetime  rooms_count  \\\n",
       "0            20    13000000      108.00       2019-03-07            3   \n",
       "1             7     3350000       40.40       2018-12-04            1   \n",
       "2            10     5196000       56.00       2015-08-20            2   \n",
       "3             0    64900000      159.00       2015-07-24            3   \n",
       "4             2    10000000      100.00       2018-06-19            2   \n",
       "5            10     2890000       30.40       2018-09-10            1   \n",
       "6             6     3700000       37.30       2017-11-02            1   \n",
       "7             5     7915000       71.60       2019-04-18            2   \n",
       "8            20     2900000       33.16       2018-05-23            1   \n",
       "9            18     5400000       61.00       2017-02-26            3   \n",
       "\n",
       "   ceiling_height  total_floors  living_area  floor  is_apartment  ...  \\\n",
       "0            2.70            16        51.00      8          True  ...   \n",
       "1            2.65            11        18.60      1          True  ...   \n",
       "2            2.65             5        34.30      4          True  ...   \n",
       "3            2.65            14        30.00      9          True  ...   \n",
       "4            3.03            14        32.00     13          True  ...   \n",
       "5            2.65            12        14.40      5          True  ...   \n",
       "6            2.65            26        10.60      6          True  ...   \n",
       "7            2.65            24        30.00     22          True  ...   \n",
       "8            2.65            27        15.43     26          True  ...   \n",
       "9            2.50             9        43.60      7          True  ...   \n",
       "\n",
       "   ponds_in_3km_count  nearest_pond_distance  days_before_close  \\\n",
       "0                   2                  755.0                NaN   \n",
       "1                   0                 3001.0               81.0   \n",
       "2                   2                  574.0              558.0   \n",
       "3                   3                  234.0              424.0   \n",
       "4                   1                   48.0              121.0   \n",
       "5                   0                 3001.0               55.0   \n",
       "6                   0                 3001.0              155.0   \n",
       "7                   0                 3001.0                NaN   \n",
       "8                   0                 3001.0              189.0   \n",
       "9                   0                 3001.0              289.0   \n",
       "\n",
       "   square_meter_price created_year  created_month  created_weekday  \\\n",
       "0           120370.37         2019              7                3   \n",
       "1            82920.79         2018              4                1   \n",
       "2            92785.71         2015             20                3   \n",
       "3           408176.10         2015             24                4   \n",
       "4           100000.00         2018             19                1   \n",
       "5            95065.79         2018             10                0   \n",
       "6            99195.71         2017              2                3   \n",
       "7           110544.69         2019             18                3   \n",
       "8            87454.76         2018             23                2   \n",
       "9            88524.59         2017             26                6   \n",
       "\n",
       "   floor_type  living_area_part  kitchen_area_part  \n",
       "0      другой              0.47               0.23  \n",
       "1      первый              0.46               0.27  \n",
       "2      другой              0.61               0.15  \n",
       "3      другой              0.19               0.06  \n",
       "4      другой              0.32               0.41  \n",
       "5      другой              0.47               0.30  \n",
       "6      другой              0.28               0.39  \n",
       "7      другой              0.42               0.26  \n",
       "8      другой              0.47               0.27  \n",
       "9      другой              0.71               0.11  \n",
       "\n",
       "[10 rows x 29 columns]"
      ]
     },
     "execution_count": 12,
     "metadata": {},
     "output_type": "execute_result"
    }
   ],
   "source": [
    "data['square_meter_price'] = round(data['last_price'] / data['total_area'], 2)\n",
    "\n",
    "data['created_year'] = data['created_datetime'].dt.year\n",
    "data['created_month'] = data['created_datetime'].dt.month\n",
    "data['created_month'] = data['created_datetime'].dt.day\n",
    "data['created_weekday'] = data['created_datetime'].dt.weekday\n",
    "\n",
    "def get_floor_type(row):\n",
    "    if row['floor'] == 1:\n",
    "        return 'первый'\n",
    "    elif row['floor'] == row['total_floors']:\n",
    "        return 'последний'\n",
    "    return 'другой'\n",
    "\n",
    "data['floor_type'] =  data.apply(get_floor_type, axis=1)\n",
    "\n",
    "data['living_area_part'] = round(data['living_area'] / data['total_area'], 2)\n",
    "data['kitchen_area_part'] = round(data['kitchen_area'] / data['total_area'], 2)\n",
    "\n",
    "data.head(10)"
   ]
  },
  {
   "cell_type": "markdown",
   "metadata": {},
   "source": [
    "## Исследовательский анализ данных"
   ]
  },
  {
   "cell_type": "markdown",
   "metadata": {},
   "source": [
    "### Изучение параметров: площадь, цена, число комнат, высота потолков\n"
   ]
  },
  {
   "cell_type": "markdown",
   "metadata": {},
   "source": [
    "Площадь"
   ]
  },
  {
   "cell_type": "code",
   "execution_count": 13,
   "metadata": {},
   "outputs": [
    {
     "data": {
      "text/html": [
       "<div>\n",
       "<style scoped>\n",
       "    .dataframe tbody tr th:only-of-type {\n",
       "        vertical-align: middle;\n",
       "    }\n",
       "\n",
       "    .dataframe tbody tr th {\n",
       "        vertical-align: top;\n",
       "    }\n",
       "\n",
       "    .dataframe thead th {\n",
       "        text-align: right;\n",
       "    }\n",
       "</style>\n",
       "<table border=\"1\" class=\"dataframe\">\n",
       "  <thead>\n",
       "    <tr style=\"text-align: right;\">\n",
       "      <th></th>\n",
       "      <th>kitchen_area</th>\n",
       "      <th>living_area</th>\n",
       "      <th>total_area</th>\n",
       "    </tr>\n",
       "  </thead>\n",
       "  <tbody>\n",
       "    <tr>\n",
       "      <th>count</th>\n",
       "      <td>23565.000000</td>\n",
       "      <td>23565.000000</td>\n",
       "      <td>23565.000000</td>\n",
       "    </tr>\n",
       "    <tr>\n",
       "      <th>mean</th>\n",
       "      <td>10.423234</td>\n",
       "      <td>34.102255</td>\n",
       "      <td>60.322824</td>\n",
       "    </tr>\n",
       "    <tr>\n",
       "      <th>std</th>\n",
       "      <td>5.631746</td>\n",
       "      <td>21.189133</td>\n",
       "      <td>35.657060</td>\n",
       "    </tr>\n",
       "    <tr>\n",
       "      <th>min</th>\n",
       "      <td>1.300000</td>\n",
       "      <td>2.000000</td>\n",
       "      <td>12.000000</td>\n",
       "    </tr>\n",
       "    <tr>\n",
       "      <th>25%</th>\n",
       "      <td>7.300000</td>\n",
       "      <td>19.000000</td>\n",
       "      <td>40.000000</td>\n",
       "    </tr>\n",
       "    <tr>\n",
       "      <th>50%</th>\n",
       "      <td>9.100000</td>\n",
       "      <td>30.000000</td>\n",
       "      <td>52.000000</td>\n",
       "    </tr>\n",
       "    <tr>\n",
       "      <th>75%</th>\n",
       "      <td>11.410000</td>\n",
       "      <td>41.100000</td>\n",
       "      <td>69.700000</td>\n",
       "    </tr>\n",
       "    <tr>\n",
       "      <th>max</th>\n",
       "      <td>112.000000</td>\n",
       "      <td>409.700000</td>\n",
       "      <td>900.000000</td>\n",
       "    </tr>\n",
       "  </tbody>\n",
       "</table>\n",
       "</div>"
      ],
      "text/plain": [
       "       kitchen_area   living_area    total_area\n",
       "count  23565.000000  23565.000000  23565.000000\n",
       "mean      10.423234     34.102255     60.322824\n",
       "std        5.631746     21.189133     35.657060\n",
       "min        1.300000      2.000000     12.000000\n",
       "25%        7.300000     19.000000     40.000000\n",
       "50%        9.100000     30.000000     52.000000\n",
       "75%       11.410000     41.100000     69.700000\n",
       "max      112.000000    409.700000    900.000000"
      ]
     },
     "execution_count": 13,
     "metadata": {},
     "output_type": "execute_result"
    }
   ],
   "source": [
    "data[['kitchen_area', 'living_area', 'total_area']].describe()"
   ]
  },
  {
   "cell_type": "code",
   "execution_count": 14,
   "metadata": {},
   "outputs": [
    {
     "data": {
      "image/png": "[encoded data removed]",
      "text/plain": [
       "<Figure size 432x288 with 1 Axes>"
      ]
     },
     "metadata": {
      "needs_background": "light"
     },
     "output_type": "display_data"
    }
   ],
   "source": [
    "data.boxplot(column='kitchen_area')\n",
    "plt.show()"
   ]
  },
  {
   "cell_type": "code",
   "execution_count": 15,
   "metadata": {},
   "outputs": [
    {
     "data": {
      "text/plain": [
       "<AxesSubplot:>"
      ]
     },
     "execution_count": 15,
     "metadata": {},
     "output_type": "execute_result"
    },
    {
     "data": {
      "image/png": "[encoded data removed]",
      "text/plain": [
       "<Figure size 720x576 with 1 Axes>"
      ]
     },
     "metadata": {
      "needs_background": "light"
     },
     "output_type": "display_data"
    }
   ],
   "source": [
    "data['kitchen_area'].hist(bins=100, range = (0, 100), figsize=(10,8))"
   ]
  },
  {
   "cell_type": "code",
   "execution_count": 16,
   "metadata": {},
   "outputs": [
    {
     "data": {
      "image/png": "[encoded data removed]",
      "text/plain": [
       "<Figure size 432x288 with 1 Axes>"
      ]
     },
     "metadata": {
      "needs_background": "light"
     },
     "output_type": "display_data"
    }
   ],
   "source": [
    "data.boxplot(column='living_area')\n",
    "plt.show()"
   ]
  },
  {
   "cell_type": "code",
   "execution_count": 17,
   "metadata": {},
   "outputs": [
    {
     "data": {
      "text/plain": [
       "<AxesSubplot:>"
      ]
     },
     "execution_count": 17,
     "metadata": {},
     "output_type": "execute_result"
    },
    {
     "data": {
      "image/png": "[encoded data removed]",
      "text/plain": [
       "<Figure size 720x576 with 1 Axes>"
      ]
     },
     "metadata": {
      "needs_background": "light"
     },
     "output_type": "display_data"
    }
   ],
   "source": [
    "data['living_area'].hist(bins=100, range = (0, 300), figsize=(10,8))"
   ]
  },
  {
   "cell_type": "code",
   "execution_count": 18,
   "metadata": {},
   "outputs": [
    {
     "data": {
      "image/png": "[encoded data removed]",
      "text/plain": [
       "<Figure size 432x288 with 1 Axes>"
      ]
     },
     "metadata": {
      "needs_background": "light"
     },
     "output_type": "display_data"
    }
   ],
   "source": [
    "data.boxplot(column='total_area')\n",
    "plt.ylim(0, 600)\n",
    "plt.show()"
   ]
  },
  {
   "cell_type": "code",
   "execution_count": 19,
   "metadata": {},
   "outputs": [
    {
     "data": {
      "text/plain": [
       "<AxesSubplot:>"
      ]
     },
     "execution_count": 19,
     "metadata": {},
     "output_type": "execute_result"
    },
    {
     "data": {
      "image/png": "[encoded data removed]",
      "text/plain": [
       "<Figure size 720x576 with 1 Axes>"
      ]
     },
     "metadata": {
      "needs_background": "light"
     },
     "output_type": "display_data"
    }
   ],
   "source": [
    "data['total_area'].hist(bins=100, range = (0, 300), figsize=(10,8))"
   ]
  },
  {
   "cell_type": "code",
   "execution_count": 20,
   "metadata": {},
   "outputs": [
    {
     "name": "stdout",
     "output_type": "stream",
     "text": [
      "<class 'pandas.core.frame.DataFrame'>\n",
      "Int64Index: 21795 entries, 1 to 23698\n",
      "Data columns (total 29 columns):\n",
      " #   Column                        Non-Null Count  Dtype         \n",
      "---  ------                        --------------  -----         \n",
      " 0   total_images                  21795 non-null  int64         \n",
      " 1   last_price                    21795 non-null  int64         \n",
      " 2   total_area                    21795 non-null  float64       \n",
      " 3   created_datetime              21795 non-null  datetime64[ns]\n",
      " 4   rooms_count                   21795 non-null  int64         \n",
      " 5   ceiling_height                21795 non-null  float64       \n",
      " 6   total_floors                  21795 non-null  int64         \n",
      " 7   living_area                   21795 non-null  float64       \n",
      " 8   floor                         21795 non-null  int64         \n",
      " 9   is_apartment                  21795 non-null  bool          \n",
      " 10  is_studio                     21795 non-null  bool          \n",
      " 11  is_open_plan                  21795 non-null  bool          \n",
      " 12  kitchen_area                  21795 non-null  float64       \n",
      " 13  balcony_count                 21795 non-null  int64         \n",
      " 14  locality_name                 21795 non-null  object        \n",
      " 15  nearest_airport_distance      16406 non-null  float64       \n",
      " 16  nearest_city_center_distance  16425 non-null  float64       \n",
      " 17  parks_in_3km_count            21795 non-null  int64         \n",
      " 18  nearest_park_distance         21795 non-null  float64       \n",
      " 19  ponds_in_3km_count            21795 non-null  int64         \n",
      " 20  nearest_pond_distance         21795 non-null  float64       \n",
      " 21  days_before_close             19045 non-null  float64       \n",
      " 22  square_meter_price            21795 non-null  float64       \n",
      " 23  created_year                  21795 non-null  int64         \n",
      " 24  created_month                 21795 non-null  int64         \n",
      " 25  created_weekday               21795 non-null  int64         \n",
      " 26  floor_type                    21795 non-null  object        \n",
      " 27  living_area_part              21795 non-null  float64       \n",
      " 28  kitchen_area_part             21795 non-null  float64       \n",
      "dtypes: bool(3), datetime64[ns](1), float64(12), int64(11), object(2)\n",
      "memory usage: 4.6+ MB\n"
     ]
    }
   ],
   "source": [
    "data = data[data['total_area'] < 150]\n",
    "data = data[data['kitchen_area'] < 20]\n",
    "data = data[data['living_area'] < 75]\n",
    "\n",
    "data.info()"
   ]
  },
  {
   "cell_type": "markdown",
   "metadata": {},
   "source": [
    "Цена"
   ]
  },
  {
   "cell_type": "code",
   "execution_count": 21,
   "metadata": {},
   "outputs": [
    {
     "data": {
      "text/html": [
       "<div>\n",
       "<style scoped>\n",
       "    .dataframe tbody tr th:only-of-type {\n",
       "        vertical-align: middle;\n",
       "    }\n",
       "\n",
       "    .dataframe tbody tr th {\n",
       "        vertical-align: top;\n",
       "    }\n",
       "\n",
       "    .dataframe thead th {\n",
       "        text-align: right;\n",
       "    }\n",
       "</style>\n",
       "<table border=\"1\" class=\"dataframe\">\n",
       "  <thead>\n",
       "    <tr style=\"text-align: right;\">\n",
       "      <th></th>\n",
       "      <th>last_price</th>\n",
       "      <th>square_meter_price</th>\n",
       "    </tr>\n",
       "  </thead>\n",
       "  <tbody>\n",
       "    <tr>\n",
       "      <th>count</th>\n",
       "      <td>2.179500e+04</td>\n",
       "      <td>21795.000000</td>\n",
       "    </tr>\n",
       "    <tr>\n",
       "      <th>mean</th>\n",
       "      <td>5.206811e+06</td>\n",
       "      <td>95093.689966</td>\n",
       "    </tr>\n",
       "    <tr>\n",
       "      <th>std</th>\n",
       "      <td>3.343102e+06</td>\n",
       "      <td>36838.145590</td>\n",
       "    </tr>\n",
       "    <tr>\n",
       "      <th>min</th>\n",
       "      <td>4.300000e+05</td>\n",
       "      <td>7962.960000</td>\n",
       "    </tr>\n",
       "    <tr>\n",
       "      <th>25%</th>\n",
       "      <td>3.330000e+06</td>\n",
       "      <td>75403.335000</td>\n",
       "    </tr>\n",
       "    <tr>\n",
       "      <th>50%</th>\n",
       "      <td>4.460000e+06</td>\n",
       "      <td>93639.580000</td>\n",
       "    </tr>\n",
       "    <tr>\n",
       "      <th>75%</th>\n",
       "      <td>6.150000e+06</td>\n",
       "      <td>111662.530000</td>\n",
       "    </tr>\n",
       "    <tr>\n",
       "      <th>max</th>\n",
       "      <td>7.734900e+07</td>\n",
       "      <td>848484.850000</td>\n",
       "    </tr>\n",
       "  </tbody>\n",
       "</table>\n",
       "</div>"
      ],
      "text/plain": [
       "         last_price  square_meter_price\n",
       "count  2.179500e+04        21795.000000\n",
       "mean   5.206811e+06        95093.689966\n",
       "std    3.343102e+06        36838.145590\n",
       "min    4.300000e+05         7962.960000\n",
       "25%    3.330000e+06        75403.335000\n",
       "50%    4.460000e+06        93639.580000\n",
       "75%    6.150000e+06       111662.530000\n",
       "max    7.734900e+07       848484.850000"
      ]
     },
     "execution_count": 21,
     "metadata": {},
     "output_type": "execute_result"
    }
   ],
   "source": [
    "data[['last_price', 'square_meter_price']].describe()"
   ]
  },
  {
   "cell_type": "code",
   "execution_count": 22,
   "metadata": {},
   "outputs": [
    {
     "data": {
      "image/png": "[encoded data removed]",
      "text/plain": [
       "<Figure size 432x288 with 1 Axes>"
      ]
     },
     "metadata": {
      "needs_background": "light"
     },
     "output_type": "display_data"
    },
    {
     "data": {
      "image/png": "[encoded data removed]",
      "text/plain": [
       "<Figure size 432x288 with 1 Axes>"
      ]
     },
     "metadata": {
      "needs_background": "light"
     },
     "output_type": "display_data"
    }
   ],
   "source": [
    "data.boxplot(column='last_price')\n",
    "plt.ylim(0, 2 * (10 ** 7))\n",
    "plt.show()\n",
    "data.boxplot(column='square_meter_price')\n",
    "plt.ylim(0, 250000)\n",
    "plt.show()"
   ]
  },
  {
   "cell_type": "code",
   "execution_count": 23,
   "metadata": {},
   "outputs": [
    {
     "data": {
      "text/plain": [
       "<AxesSubplot:>"
      ]
     },
     "execution_count": 23,
     "metadata": {},
     "output_type": "execute_result"
    },
    {
     "data": {
      "image/png": "[encoded data removed]",
      "text/plain": [
       "<Figure size 720x576 with 1 Axes>"
      ]
     },
     "metadata": {
      "needs_background": "light"
     },
     "output_type": "display_data"
    }
   ],
   "source": [
    "data['last_price'].hist(bins=200, range=(0, 0.4 * (10 ** 8)), figsize=(10,8))"
   ]
  },
  {
   "cell_type": "code",
   "execution_count": 24,
   "metadata": {},
   "outputs": [
    {
     "data": {
      "text/plain": [
       "<AxesSubplot:>"
      ]
     },
     "execution_count": 24,
     "metadata": {},
     "output_type": "execute_result"
    },
    {
     "data": {
      "image/png": "[encoded data removed]",
      "text/plain": [
       "<Figure size 720x576 with 1 Axes>"
      ]
     },
     "metadata": {
      "needs_background": "light"
     },
     "output_type": "display_data"
    }
   ],
   "source": [
    "data['square_meter_price'].hist(bins=200, range=(0, 1000000), figsize=(10,8))"
   ]
  },
  {
   "cell_type": "code",
   "execution_count": 25,
   "metadata": {},
   "outputs": [
    {
     "name": "stdout",
     "output_type": "stream",
     "text": [
      "<class 'pandas.core.frame.DataFrame'>\n",
      "Int64Index: 20204 entries, 1 to 23698\n",
      "Data columns (total 29 columns):\n",
      " #   Column                        Non-Null Count  Dtype         \n",
      "---  ------                        --------------  -----         \n",
      " 0   total_images                  20204 non-null  int64         \n",
      " 1   last_price                    20204 non-null  int64         \n",
      " 2   total_area                    20204 non-null  float64       \n",
      " 3   created_datetime              20204 non-null  datetime64[ns]\n",
      " 4   rooms_count                   20204 non-null  int64         \n",
      " 5   ceiling_height                20204 non-null  float64       \n",
      " 6   total_floors                  20204 non-null  int64         \n",
      " 7   living_area                   20204 non-null  float64       \n",
      " 8   floor                         20204 non-null  int64         \n",
      " 9   is_apartment                  20204 non-null  bool          \n",
      " 10  is_studio                     20204 non-null  bool          \n",
      " 11  is_open_plan                  20204 non-null  bool          \n",
      " 12  kitchen_area                  20204 non-null  float64       \n",
      " 13  balcony_count                 20204 non-null  int64         \n",
      " 14  locality_name                 20204 non-null  object        \n",
      " 15  nearest_airport_distance      15087 non-null  float64       \n",
      " 16  nearest_city_center_distance  15096 non-null  float64       \n",
      " 17  parks_in_3km_count            20204 non-null  int64         \n",
      " 18  nearest_park_distance         20204 non-null  float64       \n",
      " 19  ponds_in_3km_count            20204 non-null  int64         \n",
      " 20  nearest_pond_distance         20204 non-null  float64       \n",
      " 21  days_before_close             17816 non-null  float64       \n",
      " 22  square_meter_price            20204 non-null  float64       \n",
      " 23  created_year                  20204 non-null  int64         \n",
      " 24  created_month                 20204 non-null  int64         \n",
      " 25  created_weekday               20204 non-null  int64         \n",
      " 26  floor_type                    20204 non-null  object        \n",
      " 27  living_area_part              20204 non-null  float64       \n",
      " 28  kitchen_area_part             20204 non-null  float64       \n",
      "dtypes: bool(3), datetime64[ns](1), float64(12), int64(11), object(2)\n",
      "memory usage: 4.2+ MB\n"
     ]
    }
   ],
   "source": [
    "data = data[data['last_price'] < 1.1 * (10 ** 7)]\n",
    "data = data[(data['square_meter_price'] > 24000) & (data['square_meter_price'] < 160000)]\n",
    "\n",
    "data.info()"
   ]
  },
  {
   "cell_type": "markdown",
   "metadata": {},
   "source": [
    "Число комнат"
   ]
  },
  {
   "cell_type": "code",
   "execution_count": 26,
   "metadata": {},
   "outputs": [
    {
     "data": {
      "text/plain": [
       "count    20204.000000\n",
       "mean         1.905761\n",
       "std          0.888268\n",
       "min          0.000000\n",
       "25%          1.000000\n",
       "50%          2.000000\n",
       "75%          3.000000\n",
       "max          6.000000\n",
       "Name: rooms_count, dtype: float64"
      ]
     },
     "execution_count": 26,
     "metadata": {},
     "output_type": "execute_result"
    }
   ],
   "source": [
    "data['rooms_count'].describe()"
   ]
  },
  {
   "cell_type": "code",
   "execution_count": 27,
   "metadata": {},
   "outputs": [
    {
     "data": {
      "text/plain": [
       "<AxesSubplot:>"
      ]
     },
     "execution_count": 27,
     "metadata": {},
     "output_type": "execute_result"
    },
    {
     "data": {
      "image/png": "[encoded data removed]",
      "text/plain": [
       "<Figure size 720x576 with 1 Axes>"
      ]
     },
     "metadata": {
      "needs_background": "light"
     },
     "output_type": "display_data"
    }
   ],
   "source": [
    "data['rooms_count'].hist(bins=6, figsize=(10,8))"
   ]
  },
  {
   "cell_type": "code",
   "execution_count": 28,
   "metadata": {},
   "outputs": [
    {
     "data": {
      "image/png": "[encoded data removed]",
      "text/plain": [
       "<Figure size 432x288 with 1 Axes>"
      ]
     },
     "metadata": {
      "needs_background": "light"
     },
     "output_type": "display_data"
    }
   ],
   "source": [
    "data.boxplot(column='rooms_count')\n",
    "plt.show()"
   ]
  },
  {
   "cell_type": "markdown",
   "metadata": {},
   "source": [
    "Высота потолков"
   ]
  },
  {
   "cell_type": "code",
   "execution_count": 29,
   "metadata": {},
   "outputs": [
    {
     "data": {
      "text/plain": [
       "count    20204.000000\n",
       "mean         2.691511\n",
       "std          0.788776\n",
       "min          1.000000\n",
       "25%          2.600000\n",
       "50%          2.650000\n",
       "75%          2.650000\n",
       "max         32.000000\n",
       "Name: ceiling_height, dtype: float64"
      ]
     },
     "execution_count": 29,
     "metadata": {},
     "output_type": "execute_result"
    }
   ],
   "source": [
    "data['ceiling_height'].describe()"
   ]
  },
  {
   "cell_type": "code",
   "execution_count": 30,
   "metadata": {},
   "outputs": [
    {
     "data": {
      "image/png": "[encoded data removed]",
      "text/plain": [
       "<Figure size 432x288 with 1 Axes>"
      ]
     },
     "metadata": {
      "needs_background": "light"
     },
     "output_type": "display_data"
    }
   ],
   "source": [
    "data.boxplot(column='ceiling_height')\n",
    "plt.ylim(0,5)\n",
    "plt.show()"
   ]
  },
  {
   "cell_type": "code",
   "execution_count": 31,
   "metadata": {},
   "outputs": [
    {
     "data": {
      "text/plain": [
       "<AxesSubplot:>"
      ]
     },
     "execution_count": 31,
     "metadata": {},
     "output_type": "execute_result"
    },
    {
     "data": {
      "image/png": "[encoded data removed]",
      "text/plain": [
       "<Figure size 720x576 with 1 Axes>"
      ]
     },
     "metadata": {
      "needs_background": "light"
     },
     "output_type": "display_data"
    }
   ],
   "source": [
    "data['ceiling_height'].hist(bins=40, range=(2, 5), figsize=(10,8))"
   ]
  },
  {
   "cell_type": "code",
   "execution_count": 32,
   "metadata": {},
   "outputs": [
    {
     "name": "stdout",
     "output_type": "stream",
     "text": [
      "<class 'pandas.core.frame.DataFrame'>\n",
      "RangeIndex: 15979 entries, 0 to 15978\n",
      "Data columns (total 30 columns):\n",
      " #   Column                        Non-Null Count  Dtype         \n",
      "---  ------                        --------------  -----         \n",
      " 0   index                         15979 non-null  int64         \n",
      " 1   total_images                  15979 non-null  int64         \n",
      " 2   last_price                    15979 non-null  int64         \n",
      " 3   total_area                    15979 non-null  float64       \n",
      " 4   created_datetime              15979 non-null  datetime64[ns]\n",
      " 5   rooms_count                   15979 non-null  int64         \n",
      " 6   ceiling_height                15979 non-null  float64       \n",
      " 7   total_floors                  15979 non-null  int64         \n",
      " 8   living_area                   15979 non-null  float64       \n",
      " 9   floor                         15979 non-null  int64         \n",
      " 10  is_apartment                  15979 non-null  bool          \n",
      " 11  is_studio                     15979 non-null  bool          \n",
      " 12  is_open_plan                  15979 non-null  bool          \n",
      " 13  kitchen_area                  15979 non-null  float64       \n",
      " 14  balcony_count                 15979 non-null  int64         \n",
      " 15  locality_name                 15979 non-null  object        \n",
      " 16  nearest_airport_distance      11864 non-null  float64       \n",
      " 17  nearest_city_center_distance  11872 non-null  float64       \n",
      " 18  parks_in_3km_count            15979 non-null  int64         \n",
      " 19  nearest_park_distance         15979 non-null  float64       \n",
      " 20  ponds_in_3km_count            15979 non-null  int64         \n",
      " 21  nearest_pond_distance         15979 non-null  float64       \n",
      " 22  days_before_close             14347 non-null  float64       \n",
      " 23  square_meter_price            15979 non-null  float64       \n",
      " 24  created_year                  15979 non-null  int64         \n",
      " 25  created_month                 15979 non-null  int64         \n",
      " 26  created_weekday               15979 non-null  int64         \n",
      " 27  floor_type                    15979 non-null  object        \n",
      " 28  living_area_part              15979 non-null  float64       \n",
      " 29  kitchen_area_part             15979 non-null  float64       \n",
      "dtypes: bool(3), datetime64[ns](1), float64(12), int64(12), object(2)\n",
      "memory usage: 3.3+ MB\n"
     ]
    }
   ],
   "source": [
    "data = data[data['ceiling_height'] > 2.5]\n",
    "data = data[data['ceiling_height'] <= 3]\n",
    "data.reset_index(inplace=True)\n",
    "\n",
    "data.info()"
   ]
  },
  {
   "cell_type": "markdown",
   "metadata": {},
   "source": [
    "#### Выводы по 4.1.\n",
    "Были удалены выбросы, чтобы сделать анализ более точным. Первоначальная выборка сократилась с 23565 до 15979, то есть приблизительно на 27%, что значительно.\n",
    "Почти все параметры имеют вид нормального распределения, выбросы в количестве комнат отсутствуют. \n",
    "Неадекватное среднее отклонение есть у площадей комнат, возможно стоит проверить, выгружаемые данные."
   ]
  },
  {
   "cell_type": "markdown",
   "metadata": {},
   "source": [
    "### Время продажи квартиры"
   ]
  },
  {
   "cell_type": "markdown",
   "metadata": {},
   "source": [
    "NaN значения в days_before_close могут означать, что объявление еще актуально, можно исключить эти данные из анализа. "
   ]
  },
  {
   "cell_type": "code",
   "execution_count": 33,
   "metadata": {},
   "outputs": [
    {
     "data": {
      "text/plain": [
       "count    14347.000000\n",
       "mean       169.803861\n",
       "std        207.569152\n",
       "min          2.000000\n",
       "25%         43.000000\n",
       "50%         90.000000\n",
       "75%        215.000000\n",
       "max       1553.000000\n",
       "Name: days_before_close, dtype: float64"
      ]
     },
     "execution_count": 33,
     "metadata": {},
     "output_type": "execute_result"
    }
   ],
   "source": [
    "data_already_sold = data[data['days_before_close'].notnull()]\n",
    "data_already_sold['days_before_close'].describe()"
   ]
  },
  {
   "cell_type": "code",
   "execution_count": 34,
   "metadata": {},
   "outputs": [
    {
     "data": {
      "text/plain": [
       "<AxesSubplot:>"
      ]
     },
     "execution_count": 34,
     "metadata": {},
     "output_type": "execute_result"
    },
    {
     "data": {
      "image/png": "[encoded data removed]",
      "text/plain": [
       "<Figure size 720x576 with 1 Axes>"
      ]
     },
     "metadata": {
      "needs_background": "light"
     },
     "output_type": "display_data"
    }
   ],
   "source": [
    "data_already_sold['days_before_close'].hist(bins=50, figsize=(10,8))"
   ]
  },
  {
   "cell_type": "code",
   "execution_count": 35,
   "metadata": {},
   "outputs": [
    {
     "data": {
      "image/png": "[encoded data removed]",
      "text/plain": [
       "<Figure size 432x288 with 1 Axes>"
      ]
     },
     "metadata": {
      "needs_background": "light"
     },
     "output_type": "display_data"
    }
   ],
   "source": [
    "data_already_sold.boxplot(column='days_before_close')\n",
    "plt.ylim(0,700)\n",
    "plt.show()"
   ]
  },
  {
   "cell_type": "markdown",
   "metadata": {},
   "source": [
    "#### Выводы по 4.2.\n",
    "Время продажи можно описать Пуассоновским распределением. \n",
    "В выборке среднее больше медианы, что значит что многие квартиры из выборки продавались долго (что подтверждает \"ящик с усами\" и стандартное отклонение).\n",
    "Быстрые продажи - до 43 дней, а необычно долгие - больше 215 дней. "
   ]
  },
  {
   "cell_type": "markdown",
   "metadata": {},
   "source": [
    "### Какие факторы больше всего влияют на стоимость квартиры?"
   ]
  },
  {
   "cell_type": "markdown",
   "metadata": {},
   "source": [
    "Цена квадратного метра"
   ]
  },
  {
   "cell_type": "code",
   "execution_count": 36,
   "metadata": {},
   "outputs": [
    {
     "data": {
      "text/plain": [
       "0.7133791560645787"
      ]
     },
     "execution_count": 36,
     "metadata": {},
     "output_type": "execute_result"
    }
   ],
   "source": [
    "data['last_price'].corr(data['total_area'])"
   ]
  },
  {
   "cell_type": "code",
   "execution_count": 37,
   "metadata": {},
   "outputs": [
    {
     "data": {
      "text/plain": [
       "<AxesSubplot:xlabel='total_area', ylabel='last_price'>"
      ]
     },
     "execution_count": 37,
     "metadata": {},
     "output_type": "execute_result"
    },
    {
     "data": {
      "image/png": "[encoded data removed]",
      "text/plain": [
       "<Figure size 432x288 with 1 Axes>"
      ]
     },
     "metadata": {
      "needs_background": "light"
     },
     "output_type": "display_data"
    }
   ],
   "source": [
    "data.plot(x = 'total_area', y = 'last_price', kind='scatter', alpha = 0.06)"
   ]
  },
  {
   "cell_type": "markdown",
   "metadata": {},
   "source": [
    "Число комнат"
   ]
  },
  {
   "cell_type": "code",
   "execution_count": 38,
   "metadata": {},
   "outputs": [
    {
     "data": {
      "text/plain": [
       "0.48078904761268815"
      ]
     },
     "execution_count": 38,
     "metadata": {},
     "output_type": "execute_result"
    }
   ],
   "source": [
    "data['last_price'].corr(data['rooms_count'])"
   ]
  },
  {
   "cell_type": "markdown",
   "metadata": {},
   "source": [
    "Этаж"
   ]
  },
  {
   "cell_type": "code",
   "execution_count": 39,
   "metadata": {},
   "outputs": [
    {
     "data": {
      "text/plain": [
       "<AxesSubplot:xlabel='floor_type', ylabel='last_price'>"
      ]
     },
     "execution_count": 39,
     "metadata": {},
     "output_type": "execute_result"
    },
    {
     "data": {
      "image/png": "[encoded data removed]",
      "text/plain": [
       "<Figure size 432x288 with 1 Axes>"
      ]
     },
     "metadata": {
      "needs_background": "light"
     },
     "output_type": "display_data"
    }
   ],
   "source": [
    "data.plot(x='floor_type', y='last_price', kind='scatter', alpha=0.06)"
   ]
  },
  {
   "cell_type": "code",
   "execution_count": 40,
   "metadata": {},
   "outputs": [
    {
     "data": {
      "image/png": "[encoded data removed]",
      "text/plain": [
       "<Figure size 432x288 with 1 Axes>"
      ]
     },
     "metadata": {
      "needs_background": "light"
     },
     "output_type": "display_data"
    }
   ],
   "source": [
    "data.pivot_table(index=['floor'], values = 'last_price', aggfunc = 'mean').plot()\n",
    "plt.show()"
   ]
  },
  {
   "cell_type": "markdown",
   "metadata": {},
   "source": [
    "Удаленность от центра"
   ]
  },
  {
   "cell_type": "code",
   "execution_count": 41,
   "metadata": {},
   "outputs": [
    {
     "data": {
      "text/plain": [
       "-0.2966443000213581"
      ]
     },
     "execution_count": 41,
     "metadata": {},
     "output_type": "execute_result"
    }
   ],
   "source": [
    "df_with_center_distance = data[data['nearest_city_center_distance'].notnull()]\n",
    "df_with_center_distance['last_price'].corr(df_with_center_distance['nearest_city_center_distance'])"
   ]
  },
  {
   "cell_type": "markdown",
   "metadata": {},
   "source": [
    "Дата размещения"
   ]
  },
  {
   "cell_type": "code",
   "execution_count": 42,
   "metadata": {},
   "outputs": [
    {
     "data": {
      "image/png": "[encoded data removed]",
      "text/plain": [
       "<Figure size 432x288 with 1 Axes>"
      ]
     },
     "metadata": {
      "needs_background": "light"
     },
     "output_type": "display_data"
    }
   ],
   "source": [
    "data.pivot_table(index=['created_weekday'], values = 'last_price', aggfunc = 'mean').plot()\n",
    "plt.show()"
   ]
  },
  {
   "cell_type": "markdown",
   "metadata": {},
   "source": [
    "Месяц размещения"
   ]
  },
  {
   "cell_type": "code",
   "execution_count": 43,
   "metadata": {},
   "outputs": [
    {
     "data": {
      "image/png": "[encoded data removed]",
      "text/plain": [
       "<Figure size 432x288 with 1 Axes>"
      ]
     },
     "metadata": {
      "needs_background": "light"
     },
     "output_type": "display_data"
    }
   ],
   "source": [
    "data.pivot_table(index=['created_month'], values = 'last_price', aggfunc = 'mean').plot()\n",
    "plt.show()"
   ]
  },
  {
   "cell_type": "markdown",
   "metadata": {},
   "source": [
    "Год размещения"
   ]
  },
  {
   "cell_type": "code",
   "execution_count": 44,
   "metadata": {},
   "outputs": [
    {
     "data": {
      "image/png": "[encoded data removed]",
      "text/plain": [
       "<Figure size 432x288 with 1 Axes>"
      ]
     },
     "metadata": {
      "needs_background": "light"
     },
     "output_type": "display_data"
    }
   ],
   "source": [
    "data.pivot_table(index=['created_year'], values = 'last_price', aggfunc = 'mean').plot()\n",
    "plt.show()"
   ]
  },
  {
   "cell_type": "markdown",
   "metadata": {},
   "source": [
    "#### Выводы по 4.3.\n",
    "В наибольшей степени на стоимость квартиры влияет - цена квадратного метра, число комнат и удаленность от центра. Чем дальше от центра, тем дешевле квартира.\n",
    "Не выявлено влияния на стоимость квартиры - этажа квартиры и время размещения объявления о продаже."
   ]
  },
  {
   "cell_type": "markdown",
   "metadata": {},
   "source": [
    "### Города с наибольшей стоимостью жилья"
   ]
  },
  {
   "cell_type": "code",
   "execution_count": 45,
   "metadata": {},
   "outputs": [
    {
     "data": {
      "text/html": [
       "<div>\n",
       "<style scoped>\n",
       "    .dataframe tbody tr th:only-of-type {\n",
       "        vertical-align: middle;\n",
       "    }\n",
       "\n",
       "    .dataframe tbody tr th {\n",
       "        vertical-align: top;\n",
       "    }\n",
       "\n",
       "    .dataframe thead th {\n",
       "        text-align: right;\n",
       "    }\n",
       "</style>\n",
       "<table border=\"1\" class=\"dataframe\">\n",
       "  <thead>\n",
       "    <tr style=\"text-align: right;\">\n",
       "      <th></th>\n",
       "      <th>count</th>\n",
       "    </tr>\n",
       "    <tr>\n",
       "      <th>locality_name</th>\n",
       "      <th></th>\n",
       "    </tr>\n",
       "  </thead>\n",
       "  <tbody>\n",
       "    <tr>\n",
       "      <th>Санкт-Петербург</th>\n",
       "      <td>10045</td>\n",
       "    </tr>\n",
       "    <tr>\n",
       "      <th>посёлок Мурино</th>\n",
       "      <td>506</td>\n",
       "    </tr>\n",
       "    <tr>\n",
       "      <th>посёлок Шушары</th>\n",
       "      <td>403</td>\n",
       "    </tr>\n",
       "    <tr>\n",
       "      <th>Всеволожск</th>\n",
       "      <td>351</td>\n",
       "    </tr>\n",
       "    <tr>\n",
       "      <th>посёлок Парголово</th>\n",
       "      <td>308</td>\n",
       "    </tr>\n",
       "    <tr>\n",
       "      <th>деревня Кудрово</th>\n",
       "      <td>283</td>\n",
       "    </tr>\n",
       "    <tr>\n",
       "      <th>Пушкин</th>\n",
       "      <td>237</td>\n",
       "    </tr>\n",
       "    <tr>\n",
       "      <th>Гатчина</th>\n",
       "      <td>222</td>\n",
       "    </tr>\n",
       "    <tr>\n",
       "      <th>Колпино</th>\n",
       "      <td>217</td>\n",
       "    </tr>\n",
       "    <tr>\n",
       "      <th>Выборг</th>\n",
       "      <td>172</td>\n",
       "    </tr>\n",
       "  </tbody>\n",
       "</table>\n",
       "</div>"
      ],
      "text/plain": [
       "                   count\n",
       "locality_name           \n",
       "Санкт-Петербург    10045\n",
       "посёлок Мурино       506\n",
       "посёлок Шушары       403\n",
       "Всеволожск           351\n",
       "посёлок Парголово    308\n",
       "деревня Кудрово      283\n",
       "Пушкин               237\n",
       "Гатчина              222\n",
       "Колпино              217\n",
       "Выборг               172"
      ]
     },
     "execution_count": 45,
     "metadata": {},
     "output_type": "execute_result"
    }
   ],
   "source": [
    "data_top_10 = data.pivot_table(index=['locality_name'], values=['floor'], aggfunc='count')\n",
    "data_top_10.columns = ['count']\n",
    "data_top_10 = data_top_10.sort_values(by='count', ascending=False)\n",
    "data_top_10 = data_top_10.head(10)\n",
    "\n",
    "data_top_10"
   ]
  },
  {
   "cell_type": "code",
   "execution_count": 46,
   "metadata": {},
   "outputs": [
    {
     "data": {
      "text/html": [
       "<div>\n",
       "<style scoped>\n",
       "    .dataframe tbody tr th:only-of-type {\n",
       "        vertical-align: middle;\n",
       "    }\n",
       "\n",
       "    .dataframe tbody tr th {\n",
       "        vertical-align: top;\n",
       "    }\n",
       "\n",
       "    .dataframe thead th {\n",
       "        text-align: right;\n",
       "    }\n",
       "</style>\n",
       "<table border=\"1\" class=\"dataframe\">\n",
       "  <thead>\n",
       "    <tr style=\"text-align: right;\">\n",
       "      <th></th>\n",
       "      <th>square_meter_price</th>\n",
       "    </tr>\n",
       "    <tr>\n",
       "      <th>locality_name</th>\n",
       "      <th></th>\n",
       "    </tr>\n",
       "  </thead>\n",
       "  <tbody>\n",
       "    <tr>\n",
       "      <th>Санкт-Петербург</th>\n",
       "      <td>103880.755817</td>\n",
       "    </tr>\n",
       "    <tr>\n",
       "      <th>Пушкин</th>\n",
       "      <td>100774.761646</td>\n",
       "    </tr>\n",
       "    <tr>\n",
       "      <th>деревня Кудрово</th>\n",
       "      <td>92873.574700</td>\n",
       "    </tr>\n",
       "    <tr>\n",
       "      <th>посёлок Парголово</th>\n",
       "      <td>90231.928766</td>\n",
       "    </tr>\n",
       "    <tr>\n",
       "      <th>посёлок Мурино</th>\n",
       "      <td>85560.519091</td>\n",
       "    </tr>\n",
       "    <tr>\n",
       "      <th>посёлок Шушары</th>\n",
       "      <td>78465.273375</td>\n",
       "    </tr>\n",
       "    <tr>\n",
       "      <th>Колпино</th>\n",
       "      <td>75131.971014</td>\n",
       "    </tr>\n",
       "    <tr>\n",
       "      <th>Гатчина</th>\n",
       "      <td>69200.728423</td>\n",
       "    </tr>\n",
       "    <tr>\n",
       "      <th>Всеволожск</th>\n",
       "      <td>67295.974786</td>\n",
       "    </tr>\n",
       "    <tr>\n",
       "      <th>Выборг</th>\n",
       "      <td>58278.086802</td>\n",
       "    </tr>\n",
       "  </tbody>\n",
       "</table>\n",
       "</div>"
      ],
      "text/plain": [
       "                   square_meter_price\n",
       "locality_name                        \n",
       "Санкт-Петербург         103880.755817\n",
       "Пушкин                  100774.761646\n",
       "деревня Кудрово          92873.574700\n",
       "посёлок Парголово        90231.928766\n",
       "посёлок Мурино           85560.519091\n",
       "посёлок Шушары           78465.273375\n",
       "Колпино                  75131.971014\n",
       "Гатчина                  69200.728423\n",
       "Всеволожск               67295.974786\n",
       "Выборг                   58278.086802"
      ]
     },
     "execution_count": 46,
     "metadata": {},
     "output_type": "execute_result"
    }
   ],
   "source": [
    "data_sold = (data.query('locality_name in @data_top_10.index')\n",
    "              .pivot_table(index='locality_name', values=['square_meter_price'], aggfunc='mean')\n",
    "              .sort_values(by='square_meter_price', ascending=False))\n",
    "data_sold"
   ]
  },
  {
   "cell_type": "code",
   "execution_count": 47,
   "metadata": {},
   "outputs": [
    {
     "data": {
      "text/plain": [
       "<AxesSubplot:xlabel='locality_name'>"
      ]
     },
     "execution_count": 47,
     "metadata": {},
     "output_type": "execute_result"
    },
    {
     "data": {
      "image/png": "[encoded data removed]",
      "text/plain": [
       "<Figure size 432x288 with 1 Axes>"
      ]
     },
     "metadata": {
      "needs_background": "light"
     },
     "output_type": "display_data"
    }
   ],
   "source": [
    "data_sold.plot(y='square_meter_price', kind = 'bar')"
   ]
  },
  {
   "cell_type": "markdown",
   "metadata": {},
   "source": [
    "#### Выводы по 4.4.\n",
    "Больше всего объявлений о продаже квартир в г. Санкт-Петербурге, меньше всего - в г. Выборге.\n",
    "Наибольшая стоимость 1 кв. м жилья в г. Санкт-Петербург и г. Пушкин - более 100 тыс. руб. Наимеьшая стоиость жилья в г. Всеволожск и г. Выборг. Разница между средней стоимостью 1 кв. м в г. Санкт-Петербурге и г. Выборге значительна - более 40%. "
   ]
  },
  {
   "cell_type": "markdown",
   "metadata": {},
   "source": [
    "### Поиск центра в г. Санкт-Петербурге"
   ]
  },
  {
   "cell_type": "code",
   "execution_count": 48,
   "metadata": {},
   "outputs": [
    {
     "data": {
      "text/html": [
       "<div>\n",
       "<style scoped>\n",
       "    .dataframe tbody tr th:only-of-type {\n",
       "        vertical-align: middle;\n",
       "    }\n",
       "\n",
       "    .dataframe tbody tr th {\n",
       "        vertical-align: top;\n",
       "    }\n",
       "\n",
       "    .dataframe thead th {\n",
       "        text-align: right;\n",
       "    }\n",
       "</style>\n",
       "<table border=\"1\" class=\"dataframe\">\n",
       "  <thead>\n",
       "    <tr style=\"text-align: right;\">\n",
       "      <th></th>\n",
       "      <th>nearest_city_center_distance</th>\n",
       "      <th>nearest_city_center_distance_km</th>\n",
       "    </tr>\n",
       "  </thead>\n",
       "  <tbody>\n",
       "    <tr>\n",
       "      <th>1</th>\n",
       "      <td>13933.0</td>\n",
       "      <td>14.0</td>\n",
       "    </tr>\n",
       "    <tr>\n",
       "      <th>4</th>\n",
       "      <td>11634.0</td>\n",
       "      <td>12.0</td>\n",
       "    </tr>\n",
       "    <tr>\n",
       "      <th>6</th>\n",
       "      <td>13878.0</td>\n",
       "      <td>14.0</td>\n",
       "    </tr>\n",
       "    <tr>\n",
       "      <th>11</th>\n",
       "      <td>14259.0</td>\n",
       "      <td>14.0</td>\n",
       "    </tr>\n",
       "    <tr>\n",
       "      <th>12</th>\n",
       "      <td>14616.0</td>\n",
       "      <td>15.0</td>\n",
       "    </tr>\n",
       "    <tr>\n",
       "      <th>...</th>\n",
       "      <td>...</td>\n",
       "      <td>...</td>\n",
       "    </tr>\n",
       "    <tr>\n",
       "      <th>15970</th>\n",
       "      <td>11602.0</td>\n",
       "      <td>12.0</td>\n",
       "    </tr>\n",
       "    <tr>\n",
       "      <th>15971</th>\n",
       "      <td>16704.0</td>\n",
       "      <td>17.0</td>\n",
       "    </tr>\n",
       "    <tr>\n",
       "      <th>15972</th>\n",
       "      <td>16081.0</td>\n",
       "      <td>16.0</td>\n",
       "    </tr>\n",
       "    <tr>\n",
       "      <th>15973</th>\n",
       "      <td>6263.0</td>\n",
       "      <td>6.0</td>\n",
       "    </tr>\n",
       "    <tr>\n",
       "      <th>15974</th>\n",
       "      <td>4489.0</td>\n",
       "      <td>4.0</td>\n",
       "    </tr>\n",
       "  </tbody>\n",
       "</table>\n",
       "<p>10045 rows × 2 columns</p>\n",
       "</div>"
      ],
      "text/plain": [
       "       nearest_city_center_distance  nearest_city_center_distance_km\n",
       "1                           13933.0                             14.0\n",
       "4                           11634.0                             12.0\n",
       "6                           13878.0                             14.0\n",
       "11                          14259.0                             14.0\n",
       "12                          14616.0                             15.0\n",
       "...                             ...                              ...\n",
       "15970                       11602.0                             12.0\n",
       "15971                       16704.0                             17.0\n",
       "15972                       16081.0                             16.0\n",
       "15973                        6263.0                              6.0\n",
       "15974                        4489.0                              4.0\n",
       "\n",
       "[10045 rows x 2 columns]"
      ]
     },
     "execution_count": 48,
     "metadata": {},
     "output_type": "execute_result"
    }
   ],
   "source": [
    "data['nearest_city_center_distance_km'] = round(data['nearest_city_center_distance'] / 1000, 0)\n",
    "data['nearest_city_center_distance_km'] = data['nearest_city_center_distance_km'].astype('float')\n",
    "data_spb = data[data['locality_name'] == 'Санкт-Петербург']\n",
    "data_spb[['nearest_city_center_distance', 'nearest_city_center_distance_km']]"
   ]
  },
  {
   "cell_type": "code",
   "execution_count": 49,
   "metadata": {},
   "outputs": [
    {
     "data": {
      "text/plain": [
       "<AxesSubplot:xlabel='nearest_city_center_distance_km'>"
      ]
     },
     "execution_count": 49,
     "metadata": {},
     "output_type": "execute_result"
    },
    {
     "data": {
      "image/png": "[encoded data removed]",
      "text/plain": [
       "<Figure size 720x576 with 1 Axes>"
      ]
     },
     "metadata": {
      "needs_background": "light"
     },
     "output_type": "display_data"
    }
   ],
   "source": [
    "data_spb_pivot = data_spb.pivot_table(index='nearest_city_center_distance_km', values='last_price', aggfunc='mean')\n",
    "data_spb_pivot.columns = ['mean_km_price']\n",
    "data_spb_pivot.plot(kind='bar', figsize=(10,8))"
   ]
  },
  {
   "cell_type": "markdown",
   "metadata": {},
   "source": [
    "#### Выводы по 4.5\n",
    "Центром города можно считать зону до 8 км. Отдельные пики средней цены отмечаются и дальше от центра, вероятно влияние на стоимость оказывают также отдельные районы."
   ]
  },
  {
   "cell_type": "markdown",
   "metadata": {},
   "source": [
    "### Квартиры в центре"
   ]
  },
  {
   "cell_type": "code",
   "execution_count": 50,
   "metadata": {},
   "outputs": [
    {
     "data": {
      "text/html": [
       "<div>\n",
       "<style scoped>\n",
       "    .dataframe tbody tr th:only-of-type {\n",
       "        vertical-align: middle;\n",
       "    }\n",
       "\n",
       "    .dataframe tbody tr th {\n",
       "        vertical-align: top;\n",
       "    }\n",
       "\n",
       "    .dataframe thead th {\n",
       "        text-align: right;\n",
       "    }\n",
       "</style>\n",
       "<table border=\"1\" class=\"dataframe\">\n",
       "  <thead>\n",
       "    <tr style=\"text-align: right;\">\n",
       "      <th></th>\n",
       "      <th>total_area</th>\n",
       "      <th>last_price</th>\n",
       "      <th>rooms_count</th>\n",
       "      <th>ceiling_height</th>\n",
       "      <th>total_area_center</th>\n",
       "      <th>last_price_center</th>\n",
       "      <th>rooms_count_center</th>\n",
       "      <th>ceiling_height_center</th>\n",
       "    </tr>\n",
       "  </thead>\n",
       "  <tbody>\n",
       "    <tr>\n",
       "      <th>count</th>\n",
       "      <td>10045.000000</td>\n",
       "      <td>1.004500e+04</td>\n",
       "      <td>10045.000000</td>\n",
       "      <td>10045.000000</td>\n",
       "      <td>1583.000000</td>\n",
       "      <td>1.583000e+03</td>\n",
       "      <td>1583.000000</td>\n",
       "      <td>1583.000000</td>\n",
       "    </tr>\n",
       "    <tr>\n",
       "      <th>mean</th>\n",
       "      <td>53.467377</td>\n",
       "      <td>5.469011e+06</td>\n",
       "      <td>1.899353</td>\n",
       "      <td>2.677920</td>\n",
       "      <td>61.876753</td>\n",
       "      <td>6.774394e+06</td>\n",
       "      <td>2.204043</td>\n",
       "      <td>2.735527</td>\n",
       "    </tr>\n",
       "    <tr>\n",
       "      <th>std</th>\n",
       "      <td>17.722809</td>\n",
       "      <td>1.875918e+06</td>\n",
       "      <td>0.889742</td>\n",
       "      <td>0.101148</td>\n",
       "      <td>19.678018</td>\n",
       "      <td>2.009906e+06</td>\n",
       "      <td>0.915209</td>\n",
       "      <td>0.136318</td>\n",
       "    </tr>\n",
       "    <tr>\n",
       "      <th>min</th>\n",
       "      <td>13.000000</td>\n",
       "      <td>1.190000e+06</td>\n",
       "      <td>0.000000</td>\n",
       "      <td>2.510000</td>\n",
       "      <td>13.200000</td>\n",
       "      <td>1.686000e+06</td>\n",
       "      <td>0.000000</td>\n",
       "      <td>2.510000</td>\n",
       "    </tr>\n",
       "    <tr>\n",
       "      <th>25%</th>\n",
       "      <td>40.000000</td>\n",
       "      <td>4.000000e+06</td>\n",
       "      <td>1.000000</td>\n",
       "      <td>2.650000</td>\n",
       "      <td>46.000000</td>\n",
       "      <td>5.250500e+06</td>\n",
       "      <td>2.000000</td>\n",
       "      <td>2.650000</td>\n",
       "    </tr>\n",
       "    <tr>\n",
       "      <th>50%</th>\n",
       "      <td>50.000000</td>\n",
       "      <td>5.000000e+06</td>\n",
       "      <td>2.000000</td>\n",
       "      <td>2.650000</td>\n",
       "      <td>60.000000</td>\n",
       "      <td>6.650000e+06</td>\n",
       "      <td>2.000000</td>\n",
       "      <td>2.650000</td>\n",
       "    </tr>\n",
       "    <tr>\n",
       "      <th>75%</th>\n",
       "      <td>64.500000</td>\n",
       "      <td>6.575000e+06</td>\n",
       "      <td>3.000000</td>\n",
       "      <td>2.700000</td>\n",
       "      <td>75.400000</td>\n",
       "      <td>8.338412e+06</td>\n",
       "      <td>3.000000</td>\n",
       "      <td>2.800000</td>\n",
       "    </tr>\n",
       "    <tr>\n",
       "      <th>max</th>\n",
       "      <td>133.600000</td>\n",
       "      <td>1.099900e+07</td>\n",
       "      <td>6.000000</td>\n",
       "      <td>3.000000</td>\n",
       "      <td>133.600000</td>\n",
       "      <td>1.099000e+07</td>\n",
       "      <td>5.000000</td>\n",
       "      <td>3.000000</td>\n",
       "    </tr>\n",
       "  </tbody>\n",
       "</table>\n",
       "</div>"
      ],
      "text/plain": [
       "         total_area    last_price   rooms_count  ceiling_height  \\\n",
       "count  10045.000000  1.004500e+04  10045.000000    10045.000000   \n",
       "mean      53.467377  5.469011e+06      1.899353        2.677920   \n",
       "std       17.722809  1.875918e+06      0.889742        0.101148   \n",
       "min       13.000000  1.190000e+06      0.000000        2.510000   \n",
       "25%       40.000000  4.000000e+06      1.000000        2.650000   \n",
       "50%       50.000000  5.000000e+06      2.000000        2.650000   \n",
       "75%       64.500000  6.575000e+06      3.000000        2.700000   \n",
       "max      133.600000  1.099900e+07      6.000000        3.000000   \n",
       "\n",
       "       total_area_center  last_price_center  rooms_count_center  \\\n",
       "count        1583.000000       1.583000e+03         1583.000000   \n",
       "mean           61.876753       6.774394e+06            2.204043   \n",
       "std            19.678018       2.009906e+06            0.915209   \n",
       "min            13.200000       1.686000e+06            0.000000   \n",
       "25%            46.000000       5.250500e+06            2.000000   \n",
       "50%            60.000000       6.650000e+06            2.000000   \n",
       "75%            75.400000       8.338412e+06            3.000000   \n",
       "max           133.600000       1.099000e+07            5.000000   \n",
       "\n",
       "       ceiling_height_center  \n",
       "count            1583.000000  \n",
       "mean                2.735527  \n",
       "std                 0.136318  \n",
       "min                 2.510000  \n",
       "25%                 2.650000  \n",
       "50%                 2.650000  \n",
       "75%                 2.800000  \n",
       "max                 3.000000  "
      ]
     },
     "execution_count": 50,
     "metadata": {},
     "output_type": "execute_result"
    }
   ],
   "source": [
    "data_spb_center = data_spb.query('nearest_city_center_distance_km <= 8')\n",
    "to_describe_fields = ['total_area', 'last_price', 'rooms_count', 'ceiling_height']\n",
    "data_spb[to_describe_fields].join(data_spb_center[to_describe_fields], rsuffix='_center').describe()"
   ]
  },
  {
   "cell_type": "code",
   "execution_count": 51,
   "metadata": {},
   "outputs": [
    {
     "data": {
      "image/png": "[encoded data removed]",
      "text/plain": [
       "<Figure size 720x576 with 25 Axes>"
      ]
     },
     "metadata": {
      "needs_background": "light"
     },
     "output_type": "display_data"
    }
   ],
   "source": [
    "data_spb_center_only_needed = data_spb_center[['rooms_count', 'floor', 'nearest_city_center_distance_km', 'created_year', 'last_price']]\n",
    "data_spb_only_needed = data_spb[['rooms_count', 'floor', 'nearest_city_center_distance_km', 'created_year', 'last_price']]\n",
    "\n",
    "pd.plotting.scatter_matrix(data_spb_center_only_needed, figsize=(10,8))\n",
    "None"
   ]
  },
  {
   "cell_type": "markdown",
   "metadata": {},
   "source": [
    "#### Выводы по 4.5\n",
    "Значительно различается между центром и другуми частями города цена и общая площадь квартир. Также чем ближе квартира к центру, тем вероятнее она будет на более низком этаже. В центре гораздо меньше однокомнатных квартир. Остальные параметры в центре города сопоставимы с другими частями города."
   ]
  },
  {
   "cell_type": "markdown",
   "metadata": {},
   "source": [
    "## Общий вывод"
   ]
  },
  {
   "cell_type": "markdown",
   "metadata": {},
   "source": [
    "Задачей исследования являлось - выявить параметры, влияющией на рыночную стоимость недвижимости, чтобы построить автоматизированную систему.\n",
    "По итогам анализа, можно выделить ряд следующих факторов, оказывающих влияние на стоимость недвижимости, в большей степени:\n",
    "1. Город в котором находится квартира (разница в стоимости может превышать 40%). Наибольшая стоимость 1 кв. м жилья в г. Санкт-Петербург и г. Пушкин - более 100 тыс. руб. Наимеьшая стоиость жилья в г. Всеволожск и г. Выборг. Разница между средней стоимостью 1 кв. м в г. Санкт-Петербурге и г. Выборге значительна - более 40%. \n",
    "2. Площадь квартиры и количество комнат. Корреляция стоимости квартиры и площади высокая (0,71), корреляция стоимости квартиры с количеством комнат - средняя (0,49). \n",
    "3. Расстаяние от центра города до квартиры. Корреляция между стоимостью квартиры и удаленностью от центра отрицательная и составляет (-0,29). \n",
    "\n",
    "Также можно добавить, что продажи прошли очень быстро, если заняли меньше 43 дней, а необычно долго если больше 215 дней."
   ]
  }
 ],
 "metadata": {
  "ExecuteTimeLog": [
   {
    "duration": 536,
    "start_time": "2022-03-19T14:39:23.690Z"
   },
   {
    "duration": 106,
    "start_time": "2022-03-19T14:40:07.705Z"
   },
   {
    "duration": 16,
    "start_time": "2022-03-19T14:40:27.428Z"
   },
   {
    "duration": 65,
    "start_time": "2022-03-19T14:47:35.220Z"
   },
   {
    "duration": 8,
    "start_time": "2022-03-19T14:47:48.202Z"
   },
   {
    "duration": 8,
    "start_time": "2022-03-19T14:48:04.765Z"
   },
   {
    "duration": 4,
    "start_time": "2022-03-19T14:48:22.936Z"
   },
   {
    "duration": 597,
    "start_time": "2022-03-21T08:47:10.514Z"
   },
   {
    "duration": 24,
    "start_time": "2022-03-21T08:47:11.113Z"
   },
   {
    "duration": 4,
    "start_time": "2022-03-21T08:47:11.139Z"
   },
   {
    "duration": 809,
    "start_time": "2022-03-24T18:03:52.009Z"
   },
   {
    "duration": 33,
    "start_time": "2022-03-24T18:03:52.821Z"
   },
   {
    "duration": 7,
    "start_time": "2022-03-24T18:03:52.856Z"
   },
   {
    "duration": 3,
    "start_time": "2022-03-24T18:20:37.897Z"
   },
   {
    "duration": 3,
    "start_time": "2022-03-24T18:20:42.358Z"
   },
   {
    "duration": 99,
    "start_time": "2022-03-24T18:21:18.894Z"
   },
   {
    "duration": 19,
    "start_time": "2022-03-24T18:21:24.707Z"
   },
   {
    "duration": 3705,
    "start_time": "2022-03-24T18:27:11.251Z"
   },
   {
    "duration": 34,
    "start_time": "2022-03-24T18:27:47.907Z"
   },
   {
    "duration": 3308,
    "start_time": "2022-03-24T18:28:07.973Z"
   },
   {
    "duration": 7,
    "start_time": "2022-03-24T18:30:05.500Z"
   },
   {
    "duration": 67,
    "start_time": "2022-03-24T18:31:12.966Z"
   },
   {
    "duration": 3335,
    "start_time": "2022-03-24T18:32:32.954Z"
   },
   {
    "duration": 47,
    "start_time": "2022-03-24T18:33:18.900Z"
   },
   {
    "duration": 12,
    "start_time": "2022-03-24T18:33:38.482Z"
   },
   {
    "duration": 147,
    "start_time": "2022-03-24T18:43:21.978Z"
   },
   {
    "duration": 138,
    "start_time": "2022-03-24T18:43:27.195Z"
   },
   {
    "duration": 22,
    "start_time": "2022-03-24T18:43:27.335Z"
   },
   {
    "duration": 4,
    "start_time": "2022-03-24T18:43:27.360Z"
   },
   {
    "duration": 7,
    "start_time": "2022-03-24T18:43:27.366Z"
   },
   {
    "duration": 78,
    "start_time": "2022-03-24T18:43:27.377Z"
   },
   {
    "duration": 12,
    "start_time": "2022-03-24T18:43:27.458Z"
   },
   {
    "duration": 77,
    "start_time": "2022-03-24T18:43:27.472Z"
   },
   {
    "duration": 13,
    "start_time": "2022-03-24T18:43:27.551Z"
   },
   {
    "duration": 19,
    "start_time": "2022-03-24T18:48:26.930Z"
   },
   {
    "duration": 26,
    "start_time": "2022-03-24T18:51:35.421Z"
   },
   {
    "duration": 77,
    "start_time": "2022-03-24T18:51:40.470Z"
   },
   {
    "duration": 20,
    "start_time": "2022-03-24T19:00:41.553Z"
   },
   {
    "duration": 706,
    "start_time": "2022-03-24T19:00:52.198Z"
   },
   {
    "duration": 682,
    "start_time": "2022-03-24T19:00:59.292Z"
   },
   {
    "duration": 33,
    "start_time": "2022-03-24T19:05:47.155Z"
   },
   {
    "duration": 1505,
    "start_time": "2022-03-24T19:06:12.246Z"
   },
   {
    "duration": 23,
    "start_time": "2022-03-24T19:06:13.754Z"
   },
   {
    "duration": 4,
    "start_time": "2022-03-24T19:06:13.780Z"
   },
   {
    "duration": 6,
    "start_time": "2022-03-24T19:06:13.787Z"
   },
   {
    "duration": 81,
    "start_time": "2022-03-24T19:06:13.797Z"
   },
   {
    "duration": 14,
    "start_time": "2022-03-24T19:06:13.881Z"
   },
   {
    "duration": 100,
    "start_time": "2022-03-24T19:06:13.898Z"
   },
   {
    "duration": 13,
    "start_time": "2022-03-24T19:06:14.001Z"
   },
   {
    "duration": 40,
    "start_time": "2022-03-24T19:06:14.017Z"
   },
   {
    "duration": 33,
    "start_time": "2022-03-24T19:06:14.060Z"
   },
   {
    "duration": 668,
    "start_time": "2022-03-24T19:06:14.095Z"
   },
   {
    "duration": 44,
    "start_time": "2022-03-24T19:06:14.766Z"
   },
   {
    "duration": 319,
    "start_time": "2022-03-24T19:06:34.155Z"
   },
   {
    "duration": 556,
    "start_time": "2022-03-24T19:07:09.912Z"
   },
   {
    "duration": 442,
    "start_time": "2022-03-24T19:07:20.041Z"
   },
   {
    "duration": 497,
    "start_time": "2022-03-24T19:07:26.112Z"
   },
   {
    "duration": 205,
    "start_time": "2022-03-24T19:08:25.951Z"
   },
   {
    "duration": 665,
    "start_time": "2022-03-24T19:08:50.804Z"
   },
   {
    "duration": 183,
    "start_time": "2022-03-24T19:09:14.082Z"
   },
   {
    "duration": 196,
    "start_time": "2022-03-24T19:09:19.327Z"
   },
   {
    "duration": 668,
    "start_time": "2022-03-24T19:09:43.414Z"
   },
   {
    "duration": 52,
    "start_time": "2022-03-24T19:11:25.909Z"
   },
   {
    "duration": 46,
    "start_time": "2022-03-24T19:11:30.774Z"
   },
   {
    "duration": 30,
    "start_time": "2022-03-24T19:12:45.091Z"
   },
   {
    "duration": 582,
    "start_time": "2022-03-24T19:13:21.997Z"
   },
   {
    "duration": 670,
    "start_time": "2022-03-24T19:13:28.344Z"
   },
   {
    "duration": 475,
    "start_time": "2022-03-24T19:13:36.137Z"
   },
   {
    "duration": 369,
    "start_time": "2022-03-24T19:13:41.305Z"
   },
   {
    "duration": 989,
    "start_time": "2022-03-24T19:14:04.686Z"
   },
   {
    "duration": 1198,
    "start_time": "2022-03-24T19:14:24.345Z"
   },
   {
    "duration": 40,
    "start_time": "2022-03-24T19:15:25.114Z"
   },
   {
    "duration": 1236,
    "start_time": "2022-03-25T16:13:53.667Z"
   },
   {
    "duration": 34,
    "start_time": "2022-03-25T16:13:54.907Z"
   },
   {
    "duration": 26,
    "start_time": "2022-03-25T16:13:54.944Z"
   },
   {
    "duration": 7,
    "start_time": "2022-03-25T16:13:54.974Z"
   },
   {
    "duration": 55,
    "start_time": "2022-03-25T16:13:54.984Z"
   },
   {
    "duration": 36,
    "start_time": "2022-03-25T16:13:55.042Z"
   },
   {
    "duration": 57,
    "start_time": "2022-03-25T16:13:55.081Z"
   },
   {
    "duration": 11,
    "start_time": "2022-03-25T16:13:55.168Z"
   },
   {
    "duration": 20,
    "start_time": "2022-03-25T16:13:55.181Z"
   },
   {
    "duration": 63,
    "start_time": "2022-03-25T16:13:55.205Z"
   },
   {
    "duration": 599,
    "start_time": "2022-03-25T16:13:55.270Z"
   },
   {
    "duration": 28,
    "start_time": "2022-03-25T16:13:55.872Z"
   },
   {
    "duration": 204,
    "start_time": "2022-03-25T16:13:55.902Z"
   },
   {
    "duration": 453,
    "start_time": "2022-03-25T16:13:56.108Z"
   },
   {
    "duration": 199,
    "start_time": "2022-03-25T16:13:56.563Z"
   },
   {
    "duration": 437,
    "start_time": "2022-03-25T16:13:56.767Z"
   },
   {
    "duration": 189,
    "start_time": "2022-03-25T16:13:57.208Z"
   },
   {
    "duration": 444,
    "start_time": "2022-03-25T16:13:57.399Z"
   },
   {
    "duration": 44,
    "start_time": "2022-03-25T16:13:57.845Z"
   },
   {
    "duration": 29,
    "start_time": "2022-03-25T16:13:57.892Z"
   },
   {
    "duration": 383,
    "start_time": "2022-03-25T16:13:57.923Z"
   },
   {
    "duration": 946,
    "start_time": "2022-03-25T16:13:58.308Z"
   },
   {
    "duration": 864,
    "start_time": "2022-03-25T16:13:59.257Z"
   },
   {
    "duration": 51,
    "start_time": "2022-03-25T16:14:00.123Z"
   },
   {
    "duration": 116,
    "start_time": "2022-03-25T16:14:21.693Z"
   },
   {
    "duration": 11,
    "start_time": "2022-03-25T16:15:49.606Z"
   },
   {
    "duration": 252,
    "start_time": "2022-03-25T16:16:05.032Z"
   },
   {
    "duration": 244,
    "start_time": "2022-03-25T16:16:10.479Z"
   },
   {
    "duration": 255,
    "start_time": "2022-03-25T16:16:14.154Z"
   },
   {
    "duration": 162,
    "start_time": "2022-03-25T16:16:28.783Z"
   },
   {
    "duration": 14,
    "start_time": "2022-03-25T16:17:04.217Z"
   },
   {
    "duration": 227,
    "start_time": "2022-03-25T16:17:19.599Z"
   },
   {
    "duration": 324,
    "start_time": "2022-03-25T16:17:38.584Z"
   },
   {
    "duration": 391,
    "start_time": "2022-03-25T16:17:47.423Z"
   },
   {
    "duration": 19,
    "start_time": "2022-03-25T16:18:23.843Z"
   },
   {
    "duration": 30,
    "start_time": "2022-03-25T16:18:30.311Z"
   },
   {
    "duration": 18,
    "start_time": "2022-03-25T16:26:41.015Z"
   },
   {
    "duration": 350,
    "start_time": "2022-03-25T16:27:06.937Z"
   },
   {
    "duration": 159,
    "start_time": "2022-03-25T16:27:36.317Z"
   },
   {
    "duration": 160,
    "start_time": "2022-03-25T16:27:41.204Z"
   },
   {
    "duration": 168,
    "start_time": "2022-03-25T16:27:44.958Z"
   },
   {
    "duration": 10,
    "start_time": "2022-03-25T17:24:54.706Z"
   },
   {
    "duration": 7,
    "start_time": "2022-03-25T17:25:18.533Z"
   },
   {
    "duration": 21,
    "start_time": "2022-03-25T17:26:16.878Z"
   },
   {
    "duration": 23,
    "start_time": "2022-03-25T17:27:05.549Z"
   },
   {
    "duration": 7,
    "start_time": "2022-03-25T17:27:35.597Z"
   },
   {
    "duration": 8,
    "start_time": "2022-03-25T17:28:01.552Z"
   },
   {
    "duration": 8,
    "start_time": "2022-03-25T17:28:45.079Z"
   },
   {
    "duration": 26,
    "start_time": "2022-03-25T17:34:11.785Z"
   },
   {
    "duration": 36,
    "start_time": "2022-03-25T17:34:16.767Z"
   },
   {
    "duration": 39,
    "start_time": "2022-03-25T17:34:27.265Z"
   },
   {
    "duration": 25,
    "start_time": "2022-03-25T17:34:34.049Z"
   },
   {
    "duration": 73,
    "start_time": "2022-03-25T17:35:02.985Z"
   },
   {
    "duration": 39,
    "start_time": "2022-03-25T17:35:12.644Z"
   },
   {
    "duration": 29,
    "start_time": "2022-03-25T17:35:33.387Z"
   },
   {
    "duration": 17,
    "start_time": "2022-03-25T17:40:02.097Z"
   },
   {
    "duration": 24,
    "start_time": "2022-03-25T17:40:50.537Z"
   },
   {
    "duration": 27,
    "start_time": "2022-03-25T17:41:15.529Z"
   },
   {
    "duration": 40,
    "start_time": "2022-03-25T17:41:41.085Z"
   },
   {
    "duration": 38,
    "start_time": "2022-03-25T17:42:43.219Z"
   },
   {
    "duration": 545,
    "start_time": "2022-03-25T17:43:25.434Z"
   },
   {
    "duration": 11,
    "start_time": "2022-03-25T17:49:04.783Z"
   },
   {
    "duration": 59,
    "start_time": "2022-03-25T17:49:36.941Z"
   },
   {
    "duration": 2906,
    "start_time": "2022-03-25T17:50:35.035Z"
   },
   {
    "duration": 3786,
    "start_time": "2022-03-25T17:50:59.150Z"
   },
   {
    "duration": 160,
    "start_time": "2022-03-25T17:57:37.632Z"
   },
   {
    "duration": 21,
    "start_time": "2022-03-25T17:57:37.796Z"
   },
   {
    "duration": 5,
    "start_time": "2022-03-25T17:57:37.819Z"
   },
   {
    "duration": 5,
    "start_time": "2022-03-25T17:57:37.827Z"
   },
   {
    "duration": 59,
    "start_time": "2022-03-25T17:57:37.868Z"
   },
   {
    "duration": 13,
    "start_time": "2022-03-25T17:57:37.930Z"
   },
   {
    "duration": 73,
    "start_time": "2022-03-25T17:57:37.947Z"
   },
   {
    "duration": 14,
    "start_time": "2022-03-25T17:57:38.024Z"
   },
   {
    "duration": 51,
    "start_time": "2022-03-25T17:57:38.040Z"
   },
   {
    "duration": 36,
    "start_time": "2022-03-25T17:57:38.093Z"
   },
   {
    "duration": 671,
    "start_time": "2022-03-25T17:57:38.131Z"
   },
   {
    "duration": 30,
    "start_time": "2022-03-25T17:57:38.804Z"
   },
   {
    "duration": 210,
    "start_time": "2022-03-25T17:57:38.836Z"
   },
   {
    "duration": 430,
    "start_time": "2022-03-25T17:57:39.048Z"
   },
   {
    "duration": 213,
    "start_time": "2022-03-25T17:57:39.480Z"
   },
   {
    "duration": 489,
    "start_time": "2022-03-25T17:57:39.696Z"
   },
   {
    "duration": 201,
    "start_time": "2022-03-25T17:57:40.196Z"
   },
   {
    "duration": 475,
    "start_time": "2022-03-25T17:57:40.400Z"
   },
   {
    "duration": 40,
    "start_time": "2022-03-25T17:57:40.878Z"
   },
   {
    "duration": 54,
    "start_time": "2022-03-25T17:57:40.920Z"
   },
   {
    "duration": 531,
    "start_time": "2022-03-25T17:57:40.977Z"
   },
   {
    "duration": 657,
    "start_time": "2022-03-25T17:57:41.510Z"
   },
   {
    "duration": 762,
    "start_time": "2022-03-25T17:57:42.170Z"
   },
   {
    "duration": 51,
    "start_time": "2022-03-25T17:57:42.935Z"
   },
   {
    "duration": 13,
    "start_time": "2022-03-25T17:57:42.988Z"
   },
   {
    "duration": 1020,
    "start_time": "2022-04-05T10:47:01.431Z"
   },
   {
    "duration": 33,
    "start_time": "2022-04-05T10:47:02.453Z"
   },
   {
    "duration": 4,
    "start_time": "2022-04-05T10:47:02.489Z"
   },
   {
    "duration": 5,
    "start_time": "2022-04-05T10:47:02.497Z"
   },
   {
    "duration": 43,
    "start_time": "2022-04-05T10:47:02.504Z"
   },
   {
    "duration": 13,
    "start_time": "2022-04-05T10:47:02.573Z"
   },
   {
    "duration": 52,
    "start_time": "2022-04-05T10:47:02.588Z"
   },
   {
    "duration": 36,
    "start_time": "2022-04-05T10:47:02.642Z"
   },
   {
    "duration": 18,
    "start_time": "2022-04-05T10:47:02.680Z"
   },
   {
    "duration": 33,
    "start_time": "2022-04-05T10:47:02.702Z"
   },
   {
    "duration": 614,
    "start_time": "2022-04-05T10:47:02.737Z"
   },
   {
    "duration": 36,
    "start_time": "2022-04-05T10:47:03.353Z"
   },
   {
    "duration": 197,
    "start_time": "2022-04-05T10:47:03.391Z"
   },
   {
    "duration": 464,
    "start_time": "2022-04-05T10:47:03.591Z"
   },
   {
    "duration": 206,
    "start_time": "2022-04-05T10:47:04.057Z"
   },
   {
    "duration": 447,
    "start_time": "2022-04-05T10:47:04.265Z"
   },
   {
    "duration": 186,
    "start_time": "2022-04-05T10:47:04.714Z"
   },
   {
    "duration": 443,
    "start_time": "2022-04-05T10:47:04.902Z"
   },
   {
    "duration": 50,
    "start_time": "2022-04-05T10:47:05.348Z"
   },
   {
    "duration": 25,
    "start_time": "2022-04-05T10:47:05.401Z"
   },
   {
    "duration": 381,
    "start_time": "2022-04-05T10:47:05.428Z"
   },
   {
    "duration": 716,
    "start_time": "2022-04-05T10:47:05.812Z"
   },
   {
    "duration": 733,
    "start_time": "2022-04-05T10:47:06.530Z"
   },
   {
    "duration": 35,
    "start_time": "2022-04-05T10:47:07.265Z"
   },
   {
    "duration": 12,
    "start_time": "2022-04-05T10:47:07.303Z"
   },
   {
    "duration": 296,
    "start_time": "2022-04-05T10:47:07.318Z"
   },
   {
    "duration": 178,
    "start_time": "2022-04-05T10:47:07.616Z"
   },
   {
    "duration": 11,
    "start_time": "2022-04-05T10:47:07.800Z"
   },
   {
    "duration": 188,
    "start_time": "2022-04-05T10:47:07.813Z"
   },
   {
    "duration": 322,
    "start_time": "2022-04-05T10:47:08.003Z"
   },
   {
    "duration": 27,
    "start_time": "2022-04-05T10:47:08.328Z"
   },
   {
    "duration": 29,
    "start_time": "2022-04-05T10:47:08.357Z"
   },
   {
    "duration": 369,
    "start_time": "2022-04-05T10:47:08.388Z"
   },
   {
    "duration": 185,
    "start_time": "2022-04-05T10:47:08.759Z"
   },
   {
    "duration": 7,
    "start_time": "2022-04-05T10:47:08.946Z"
   },
   {
    "duration": 27,
    "start_time": "2022-04-05T10:47:08.955Z"
   },
   {
    "duration": 20,
    "start_time": "2022-04-05T10:47:08.984Z"
   },
   {
    "duration": 19,
    "start_time": "2022-04-05T10:47:09.006Z"
   },
   {
    "duration": 9,
    "start_time": "2022-04-05T10:47:09.028Z"
   },
   {
    "duration": 17,
    "start_time": "2022-04-05T10:47:09.039Z"
   },
   {
    "duration": 17,
    "start_time": "2022-04-05T10:47:09.058Z"
   },
   {
    "duration": 106,
    "start_time": "2022-04-05T10:47:09.077Z"
   },
   {
    "duration": 28,
    "start_time": "2022-04-05T10:47:09.185Z"
   },
   {
    "duration": 134,
    "start_time": "2022-04-05T10:47:09.215Z"
   },
   {
    "duration": 0,
    "start_time": "2022-04-05T10:47:09.352Z"
   },
   {
    "duration": 0,
    "start_time": "2022-04-05T10:47:09.353Z"
   },
   {
    "duration": 0,
    "start_time": "2022-04-05T10:47:09.354Z"
   },
   {
    "duration": 0,
    "start_time": "2022-04-05T10:47:09.355Z"
   },
   {
    "duration": 1030,
    "start_time": "2022-04-05T11:01:28.834Z"
   },
   {
    "duration": 20,
    "start_time": "2022-04-05T11:01:29.874Z"
   },
   {
    "duration": 4,
    "start_time": "2022-04-05T11:01:29.897Z"
   },
   {
    "duration": 16,
    "start_time": "2022-04-05T11:01:29.904Z"
   },
   {
    "duration": 75,
    "start_time": "2022-04-05T11:01:29.922Z"
   },
   {
    "duration": 13,
    "start_time": "2022-04-05T11:01:29.999Z"
   },
   {
    "duration": 80,
    "start_time": "2022-04-05T11:01:30.014Z"
   },
   {
    "duration": 15,
    "start_time": "2022-04-05T11:01:30.097Z"
   },
   {
    "duration": 50,
    "start_time": "2022-04-05T11:01:30.114Z"
   },
   {
    "duration": 45,
    "start_time": "2022-04-05T11:01:30.168Z"
   },
   {
    "duration": 644,
    "start_time": "2022-04-05T11:01:30.216Z"
   },
   {
    "duration": 38,
    "start_time": "2022-04-05T11:01:30.863Z"
   },
   {
    "duration": 262,
    "start_time": "2022-04-05T11:01:30.904Z"
   },
   {
    "duration": 566,
    "start_time": "2022-04-05T11:01:31.168Z"
   },
   {
    "duration": 243,
    "start_time": "2022-04-05T11:01:31.737Z"
   },
   {
    "duration": 638,
    "start_time": "2022-04-05T11:01:31.983Z"
   },
   {
    "duration": 282,
    "start_time": "2022-04-05T11:01:32.624Z"
   },
   {
    "duration": 735,
    "start_time": "2022-04-05T11:01:32.912Z"
   },
   {
    "duration": 47,
    "start_time": "2022-04-05T11:01:33.650Z"
   },
   {
    "duration": 24,
    "start_time": "2022-04-05T11:01:33.699Z"
   },
   {
    "duration": 385,
    "start_time": "2022-04-05T11:01:33.725Z"
   },
   {
    "duration": 712,
    "start_time": "2022-04-05T11:01:34.113Z"
   },
   {
    "duration": 651,
    "start_time": "2022-04-05T11:01:34.828Z"
   },
   {
    "duration": 29,
    "start_time": "2022-04-05T11:01:35.482Z"
   },
   {
    "duration": 13,
    "start_time": "2022-04-05T11:01:35.514Z"
   },
   {
    "duration": 288,
    "start_time": "2022-04-05T11:01:35.530Z"
   },
   {
    "duration": 178,
    "start_time": "2022-04-05T11:01:35.821Z"
   },
   {
    "duration": 13,
    "start_time": "2022-04-05T11:01:36.001Z"
   },
   {
    "duration": 297,
    "start_time": "2022-04-05T11:01:36.016Z"
   },
   {
    "duration": 327,
    "start_time": "2022-04-05T11:01:36.315Z"
   },
   {
    "duration": 42,
    "start_time": "2022-04-05T11:01:36.645Z"
   },
   {
    "duration": 14,
    "start_time": "2022-04-05T11:01:36.689Z"
   },
   {
    "duration": 368,
    "start_time": "2022-04-05T11:01:36.706Z"
   },
   {
    "duration": 191,
    "start_time": "2022-04-05T11:01:37.076Z"
   },
   {
    "duration": 8,
    "start_time": "2022-04-05T11:01:37.269Z"
   },
   {
    "duration": 32,
    "start_time": "2022-04-05T11:01:37.279Z"
   },
   {
    "duration": 25,
    "start_time": "2022-04-05T11:01:37.313Z"
   },
   {
    "duration": 16,
    "start_time": "2022-04-05T11:01:37.341Z"
   },
   {
    "duration": 16,
    "start_time": "2022-04-05T11:01:37.360Z"
   },
   {
    "duration": 22,
    "start_time": "2022-04-05T11:01:37.378Z"
   },
   {
    "duration": 31,
    "start_time": "2022-04-05T11:01:37.406Z"
   },
   {
    "duration": 31,
    "start_time": "2022-04-05T11:01:37.439Z"
   },
   {
    "duration": 137,
    "start_time": "2022-04-05T11:01:37.472Z"
   },
   {
    "duration": 140,
    "start_time": "2022-04-05T11:01:37.612Z"
   },
   {
    "duration": 0,
    "start_time": "2022-04-05T11:01:37.754Z"
   },
   {
    "duration": 0,
    "start_time": "2022-04-05T11:01:37.756Z"
   },
   {
    "duration": 0,
    "start_time": "2022-04-05T11:01:37.757Z"
   },
   {
    "duration": 0,
    "start_time": "2022-04-05T11:01:37.773Z"
   },
   {
    "duration": 0,
    "start_time": "2022-04-05T11:01:37.775Z"
   },
   {
    "duration": 1084,
    "start_time": "2022-04-05T11:34:29.534Z"
   },
   {
    "duration": 100,
    "start_time": "2022-04-05T11:34:30.620Z"
   },
   {
    "duration": 20,
    "start_time": "2022-04-05T11:34:30.722Z"
   },
   {
    "duration": 27,
    "start_time": "2022-04-05T11:34:30.745Z"
   },
   {
    "duration": 31,
    "start_time": "2022-04-05T11:34:30.774Z"
   },
   {
    "duration": 62,
    "start_time": "2022-04-05T11:34:30.807Z"
   },
   {
    "duration": 13,
    "start_time": "2022-04-05T11:34:30.871Z"
   },
   {
    "duration": 48,
    "start_time": "2022-04-05T11:34:30.886Z"
   },
   {
    "duration": 11,
    "start_time": "2022-04-05T11:34:30.936Z"
   },
   {
    "duration": 34,
    "start_time": "2022-04-05T11:34:30.950Z"
   },
   {
    "duration": 35,
    "start_time": "2022-04-05T11:34:30.986Z"
   },
   {
    "duration": 552,
    "start_time": "2022-04-05T11:34:31.023Z"
   },
   {
    "duration": 25,
    "start_time": "2022-04-05T11:34:31.580Z"
   },
   {
    "duration": 175,
    "start_time": "2022-04-05T11:34:31.606Z"
   },
   {
    "duration": 407,
    "start_time": "2022-04-05T11:34:31.783Z"
   },
   {
    "duration": 176,
    "start_time": "2022-04-05T11:34:32.192Z"
   },
   {
    "duration": 385,
    "start_time": "2022-04-05T11:34:32.370Z"
   },
   {
    "duration": 159,
    "start_time": "2022-04-05T11:34:32.757Z"
   },
   {
    "duration": 385,
    "start_time": "2022-04-05T11:34:32.918Z"
   },
   {
    "duration": 32,
    "start_time": "2022-04-05T11:34:33.305Z"
   },
   {
    "duration": 20,
    "start_time": "2022-04-05T11:34:33.339Z"
   },
   {
    "duration": 342,
    "start_time": "2022-04-05T11:34:33.361Z"
   },
   {
    "duration": 376,
    "start_time": "2022-04-05T11:34:33.705Z"
   },
   {
    "duration": 320,
    "start_time": "2022-04-05T11:34:34.082Z"
   },
   {
    "duration": 19,
    "start_time": "2022-04-05T11:34:34.404Z"
   },
   {
    "duration": 7,
    "start_time": "2022-04-05T11:34:34.424Z"
   },
   {
    "duration": 148,
    "start_time": "2022-04-05T11:34:34.433Z"
   },
   {
    "duration": 97,
    "start_time": "2022-04-05T11:34:34.584Z"
   },
   {
    "duration": 7,
    "start_time": "2022-04-05T11:34:34.682Z"
   },
   {
    "duration": 103,
    "start_time": "2022-04-05T11:34:34.690Z"
   },
   {
    "duration": 167,
    "start_time": "2022-04-05T11:34:34.795Z"
   },
   {
    "duration": 24,
    "start_time": "2022-04-05T11:34:34.964Z"
   },
   {
    "duration": 10,
    "start_time": "2022-04-05T11:34:34.990Z"
   },
   {
    "duration": 194,
    "start_time": "2022-04-05T11:34:35.002Z"
   },
   {
    "duration": 105,
    "start_time": "2022-04-05T11:34:35.198Z"
   },
   {
    "duration": 6,
    "start_time": "2022-04-05T11:34:35.304Z"
   },
   {
    "duration": 6,
    "start_time": "2022-04-05T11:34:35.312Z"
   },
   {
    "duration": 9,
    "start_time": "2022-04-05T11:34:35.320Z"
   },
   {
    "duration": 8,
    "start_time": "2022-04-05T11:34:35.331Z"
   },
   {
    "duration": 5,
    "start_time": "2022-04-05T11:34:35.341Z"
   },
   {
    "duration": 40,
    "start_time": "2022-04-05T11:34:35.347Z"
   },
   {
    "duration": 5,
    "start_time": "2022-04-05T11:34:35.389Z"
   },
   {
    "duration": 108,
    "start_time": "2022-04-05T11:34:35.396Z"
   },
   {
    "duration": 19,
    "start_time": "2022-04-05T11:34:35.505Z"
   },
   {
    "duration": 85,
    "start_time": "2022-04-05T11:34:35.525Z"
   },
   {
    "duration": 0,
    "start_time": "2022-04-05T11:34:35.612Z"
   },
   {
    "duration": 0,
    "start_time": "2022-04-05T11:34:35.613Z"
   },
   {
    "duration": 0,
    "start_time": "2022-04-05T11:34:35.614Z"
   },
   {
    "duration": 0,
    "start_time": "2022-04-05T11:34:35.615Z"
   },
   {
    "duration": 0,
    "start_time": "2022-04-05T11:34:35.616Z"
   },
   {
    "duration": 818,
    "start_time": "2022-04-06T15:59:24.951Z"
   },
   {
    "duration": 99,
    "start_time": "2022-04-06T15:59:25.771Z"
   },
   {
    "duration": 14,
    "start_time": "2022-04-06T15:59:25.871Z"
   },
   {
    "duration": 3,
    "start_time": "2022-04-06T15:59:25.886Z"
   },
   {
    "duration": 3,
    "start_time": "2022-04-06T15:59:25.892Z"
   },
   {
    "duration": 49,
    "start_time": "2022-04-06T15:59:25.896Z"
   },
   {
    "duration": 9,
    "start_time": "2022-04-06T15:59:25.947Z"
   },
   {
    "duration": 31,
    "start_time": "2022-04-06T15:59:25.957Z"
   },
   {
    "duration": 7,
    "start_time": "2022-04-06T15:59:25.990Z"
   },
   {
    "duration": 41,
    "start_time": "2022-04-06T15:59:25.998Z"
   },
   {
    "duration": 22,
    "start_time": "2022-04-06T15:59:26.041Z"
   },
   {
    "duration": 368,
    "start_time": "2022-04-06T15:59:26.065Z"
   },
   {
    "duration": 20,
    "start_time": "2022-04-06T15:59:26.435Z"
   },
   {
    "duration": 120,
    "start_time": "2022-04-06T15:59:26.458Z"
   },
   {
    "duration": 263,
    "start_time": "2022-04-06T15:59:26.580Z"
   },
   {
    "duration": 111,
    "start_time": "2022-04-06T15:59:26.845Z"
   },
   {
    "duration": 243,
    "start_time": "2022-04-06T15:59:26.957Z"
   },
   {
    "duration": 98,
    "start_time": "2022-04-06T15:59:27.202Z"
   },
   {
    "duration": 248,
    "start_time": "2022-04-06T15:59:27.302Z"
   },
   {
    "duration": 22,
    "start_time": "2022-04-06T15:59:27.551Z"
   },
   {
    "duration": 13,
    "start_time": "2022-04-06T15:59:27.574Z"
   },
   {
    "duration": 227,
    "start_time": "2022-04-06T15:59:27.589Z"
   },
   {
    "duration": 410,
    "start_time": "2022-04-06T15:59:27.817Z"
   },
   {
    "duration": 340,
    "start_time": "2022-04-06T15:59:28.229Z"
   },
   {
    "duration": 19,
    "start_time": "2022-04-06T15:59:28.570Z"
   },
   {
    "duration": 7,
    "start_time": "2022-04-06T15:59:28.591Z"
   },
   {
    "duration": 148,
    "start_time": "2022-04-06T15:59:28.600Z"
   },
   {
    "duration": 104,
    "start_time": "2022-04-06T15:59:28.749Z"
   },
   {
    "duration": 7,
    "start_time": "2022-04-06T15:59:28.855Z"
   },
   {
    "duration": 111,
    "start_time": "2022-04-06T15:59:28.863Z"
   },
   {
    "duration": 179,
    "start_time": "2022-04-06T15:59:28.975Z"
   },
   {
    "duration": 18,
    "start_time": "2022-04-06T15:59:29.155Z"
   },
   {
    "duration": 9,
    "start_time": "2022-04-06T15:59:29.175Z"
   },
   {
    "duration": 206,
    "start_time": "2022-04-06T15:59:29.185Z"
   },
   {
    "duration": 105,
    "start_time": "2022-04-06T15:59:29.392Z"
   },
   {
    "duration": 4,
    "start_time": "2022-04-06T15:59:29.499Z"
   },
   {
    "duration": 4,
    "start_time": "2022-04-06T15:59:29.505Z"
   },
   {
    "duration": 28,
    "start_time": "2022-04-06T15:59:29.511Z"
   },
   {
    "duration": 9,
    "start_time": "2022-04-06T15:59:29.541Z"
   },
   {
    "duration": 4,
    "start_time": "2022-04-06T15:59:29.552Z"
   },
   {
    "duration": 3,
    "start_time": "2022-04-06T15:59:29.560Z"
   },
   {
    "duration": 5,
    "start_time": "2022-04-06T15:59:29.565Z"
   },
   {
    "duration": 14,
    "start_time": "2022-04-06T15:59:29.571Z"
   },
   {
    "duration": 126,
    "start_time": "2022-04-06T15:59:29.586Z"
   },
   {
    "duration": 83,
    "start_time": "2022-04-06T15:59:29.714Z"
   },
   {
    "duration": 0,
    "start_time": "2022-04-06T15:59:29.799Z"
   },
   {
    "duration": 0,
    "start_time": "2022-04-06T15:59:29.800Z"
   },
   {
    "duration": 0,
    "start_time": "2022-04-06T15:59:29.801Z"
   },
   {
    "duration": 0,
    "start_time": "2022-04-06T15:59:29.803Z"
   },
   {
    "duration": 0,
    "start_time": "2022-04-06T15:59:29.804Z"
   },
   {
    "duration": 2,
    "start_time": "2022-04-06T16:04:36.247Z"
   },
   {
    "duration": 89,
    "start_time": "2022-04-06T16:04:36.251Z"
   },
   {
    "duration": 13,
    "start_time": "2022-04-06T16:04:36.341Z"
   },
   {
    "duration": 3,
    "start_time": "2022-04-06T16:04:36.355Z"
   },
   {
    "duration": 4,
    "start_time": "2022-04-06T16:04:36.360Z"
   },
   {
    "duration": 25,
    "start_time": "2022-04-06T16:04:36.365Z"
   },
   {
    "duration": 8,
    "start_time": "2022-04-06T16:04:36.391Z"
   },
   {
    "duration": 54,
    "start_time": "2022-04-06T16:04:36.400Z"
   },
   {
    "duration": 7,
    "start_time": "2022-04-06T16:04:36.456Z"
   },
   {
    "duration": 10,
    "start_time": "2022-04-06T16:04:36.465Z"
   },
   {
    "duration": 20,
    "start_time": "2022-04-06T16:04:36.476Z"
   },
   {
    "duration": 359,
    "start_time": "2022-04-06T16:04:36.497Z"
   },
   {
    "duration": 17,
    "start_time": "2022-04-06T16:04:36.858Z"
   },
   {
    "duration": 100,
    "start_time": "2022-04-06T16:04:36.878Z"
   },
   {
    "duration": 200,
    "start_time": "2022-04-06T16:04:36.980Z"
   },
   {
    "duration": 103,
    "start_time": "2022-04-06T16:04:37.182Z"
   },
   {
    "duration": 210,
    "start_time": "2022-04-06T16:04:37.286Z"
   },
   {
    "duration": 89,
    "start_time": "2022-04-06T16:04:37.497Z"
   },
   {
    "duration": 287,
    "start_time": "2022-04-06T16:04:37.588Z"
   },
   {
    "duration": 20,
    "start_time": "2022-04-06T16:04:37.876Z"
   },
   {
    "duration": 14,
    "start_time": "2022-04-06T16:04:37.897Z"
   },
   {
    "duration": 179,
    "start_time": "2022-04-06T16:04:37.929Z"
   },
   {
    "duration": 311,
    "start_time": "2022-04-06T16:04:38.109Z"
   },
   {
    "duration": 305,
    "start_time": "2022-04-06T16:04:38.422Z"
   },
   {
    "duration": 19,
    "start_time": "2022-04-06T16:04:38.729Z"
   },
   {
    "duration": 7,
    "start_time": "2022-04-06T16:04:38.749Z"
   },
   {
    "duration": 145,
    "start_time": "2022-04-06T16:04:38.757Z"
   },
   {
    "duration": 90,
    "start_time": "2022-04-06T16:04:38.903Z"
   },
   {
    "duration": 7,
    "start_time": "2022-04-06T16:04:38.994Z"
   },
   {
    "duration": 186,
    "start_time": "2022-04-06T16:04:39.002Z"
   },
   {
    "duration": 158,
    "start_time": "2022-04-06T16:04:39.190Z"
   },
   {
    "duration": 17,
    "start_time": "2022-04-06T16:04:39.349Z"
   },
   {
    "duration": 9,
    "start_time": "2022-04-06T16:04:39.368Z"
   },
   {
    "duration": 175,
    "start_time": "2022-04-06T16:04:39.378Z"
   },
   {
    "duration": 93,
    "start_time": "2022-04-06T16:04:39.555Z"
   },
   {
    "duration": 4,
    "start_time": "2022-04-06T16:04:39.650Z"
   },
   {
    "duration": 6,
    "start_time": "2022-04-06T16:04:39.655Z"
   },
   {
    "duration": 8,
    "start_time": "2022-04-06T16:04:39.662Z"
   },
   {
    "duration": 8,
    "start_time": "2022-04-06T16:04:39.671Z"
   },
   {
    "duration": 4,
    "start_time": "2022-04-06T16:04:39.680Z"
   },
   {
    "duration": 4,
    "start_time": "2022-04-06T16:04:39.687Z"
   },
   {
    "duration": 39,
    "start_time": "2022-04-06T16:04:39.693Z"
   },
   {
    "duration": 14,
    "start_time": "2022-04-06T16:04:39.734Z"
   },
   {
    "duration": 17,
    "start_time": "2022-04-06T16:04:39.749Z"
   },
   {
    "duration": 12,
    "start_time": "2022-04-06T16:04:39.768Z"
   },
   {
    "duration": 0,
    "start_time": "2022-04-06T16:04:39.781Z"
   },
   {
    "duration": 0,
    "start_time": "2022-04-06T16:04:39.782Z"
   },
   {
    "duration": 0,
    "start_time": "2022-04-06T16:04:39.784Z"
   },
   {
    "duration": 0,
    "start_time": "2022-04-06T16:04:39.785Z"
   },
   {
    "duration": 0,
    "start_time": "2022-04-06T16:04:39.785Z"
   },
   {
    "duration": 9,
    "start_time": "2022-04-06T16:06:49.875Z"
   },
   {
    "duration": 167,
    "start_time": "2022-04-06T16:07:05.443Z"
   },
   {
    "duration": 135,
    "start_time": "2022-04-06T16:07:19.165Z"
   },
   {
    "duration": 153,
    "start_time": "2022-04-06T16:07:25.822Z"
   },
   {
    "duration": 147,
    "start_time": "2022-04-06T16:07:47.438Z"
   },
   {
    "duration": 132,
    "start_time": "2022-04-06T16:09:00.848Z"
   },
   {
    "duration": 118,
    "start_time": "2022-04-06T16:09:43.764Z"
   },
   {
    "duration": 134,
    "start_time": "2022-04-06T16:11:04.748Z"
   },
   {
    "duration": 143,
    "start_time": "2022-04-06T16:11:33.190Z"
   },
   {
    "duration": 662,
    "start_time": "2022-04-06T16:17:32.341Z"
   },
   {
    "duration": 92,
    "start_time": "2022-04-06T16:17:33.005Z"
   },
   {
    "duration": 13,
    "start_time": "2022-04-06T16:17:33.099Z"
   },
   {
    "duration": 15,
    "start_time": "2022-04-06T16:17:33.114Z"
   },
   {
    "duration": 3,
    "start_time": "2022-04-06T16:17:33.131Z"
   },
   {
    "duration": 29,
    "start_time": "2022-04-06T16:17:33.136Z"
   },
   {
    "duration": 11,
    "start_time": "2022-04-06T16:17:33.166Z"
   },
   {
    "duration": 30,
    "start_time": "2022-04-06T16:17:33.178Z"
   },
   {
    "duration": 26,
    "start_time": "2022-04-06T16:17:33.209Z"
   },
   {
    "duration": 10,
    "start_time": "2022-04-06T16:17:33.237Z"
   },
   {
    "duration": 21,
    "start_time": "2022-04-06T16:17:33.249Z"
   },
   {
    "duration": 329,
    "start_time": "2022-04-06T16:17:33.272Z"
   },
   {
    "duration": 28,
    "start_time": "2022-04-06T16:17:33.603Z"
   },
   {
    "duration": 102,
    "start_time": "2022-04-06T16:17:33.633Z"
   },
   {
    "duration": 242,
    "start_time": "2022-04-06T16:17:33.736Z"
   },
   {
    "duration": 106,
    "start_time": "2022-04-06T16:17:33.980Z"
   },
   {
    "duration": 217,
    "start_time": "2022-04-06T16:17:34.088Z"
   },
   {
    "duration": 100,
    "start_time": "2022-04-06T16:17:34.307Z"
   },
   {
    "duration": 227,
    "start_time": "2022-04-06T16:17:34.408Z"
   },
   {
    "duration": 23,
    "start_time": "2022-04-06T16:17:34.636Z"
   },
   {
    "duration": 14,
    "start_time": "2022-04-06T16:17:34.661Z"
   },
   {
    "duration": 202,
    "start_time": "2022-04-06T16:17:34.677Z"
   },
   {
    "duration": 367,
    "start_time": "2022-04-06T16:17:34.880Z"
   },
   {
    "duration": 409,
    "start_time": "2022-04-06T16:17:35.249Z"
   },
   {
    "duration": 19,
    "start_time": "2022-04-06T16:17:35.660Z"
   },
   {
    "duration": 7,
    "start_time": "2022-04-06T16:17:35.680Z"
   },
   {
    "duration": 148,
    "start_time": "2022-04-06T16:17:35.688Z"
   },
   {
    "duration": 92,
    "start_time": "2022-04-06T16:17:35.837Z"
   },
   {
    "duration": 8,
    "start_time": "2022-04-06T16:17:35.931Z"
   },
   {
    "duration": 101,
    "start_time": "2022-04-06T16:17:35.941Z"
   },
   {
    "duration": 160,
    "start_time": "2022-04-06T16:17:36.044Z"
   },
   {
    "duration": 23,
    "start_time": "2022-04-06T16:17:36.206Z"
   },
   {
    "duration": 9,
    "start_time": "2022-04-06T16:17:36.231Z"
   },
   {
    "duration": 183,
    "start_time": "2022-04-06T16:17:36.241Z"
   },
   {
    "duration": 89,
    "start_time": "2022-04-06T16:17:36.426Z"
   },
   {
    "duration": 265,
    "start_time": "2022-04-06T16:17:36.517Z"
   },
   {
    "duration": 4,
    "start_time": "2022-04-06T16:17:36.784Z"
   },
   {
    "duration": 120,
    "start_time": "2022-04-06T16:17:36.790Z"
   },
   {
    "duration": 8,
    "start_time": "2022-04-06T16:17:36.911Z"
   },
   {
    "duration": 139,
    "start_time": "2022-04-06T16:17:36.920Z"
   },
   {
    "duration": 162,
    "start_time": "2022-04-06T16:17:37.062Z"
   },
   {
    "duration": 143,
    "start_time": "2022-04-06T16:17:37.225Z"
   },
   {
    "duration": 13,
    "start_time": "2022-04-06T16:17:37.370Z"
   },
   {
    "duration": 21,
    "start_time": "2022-04-06T16:17:37.384Z"
   },
   {
    "duration": 91,
    "start_time": "2022-04-06T16:17:37.406Z"
   },
   {
    "duration": 0,
    "start_time": "2022-04-06T16:17:37.499Z"
   },
   {
    "duration": 0,
    "start_time": "2022-04-06T16:17:37.500Z"
   },
   {
    "duration": 0,
    "start_time": "2022-04-06T16:17:37.501Z"
   },
   {
    "duration": 0,
    "start_time": "2022-04-06T16:17:37.501Z"
   },
   {
    "duration": 0,
    "start_time": "2022-04-06T16:17:37.502Z"
   },
   {
    "duration": 139,
    "start_time": "2022-04-06T16:18:47.091Z"
   },
   {
    "duration": 16,
    "start_time": "2022-04-06T16:19:17.105Z"
   },
   {
    "duration": 7,
    "start_time": "2022-04-06T16:20:09.728Z"
   },
   {
    "duration": 35,
    "start_time": "2022-04-06T16:20:13.926Z"
   },
   {
    "duration": 1056,
    "start_time": "2022-04-06T16:20:17.307Z"
   },
   {
    "duration": 968,
    "start_time": "2022-04-06T16:20:47.514Z"
   },
   {
    "duration": 274,
    "start_time": "2022-04-06T16:22:20.902Z"
   },
   {
    "duration": 6,
    "start_time": "2022-04-06T16:22:34.737Z"
   },
   {
    "duration": 144,
    "start_time": "2022-04-06T16:22:37.593Z"
   },
   {
    "duration": 2,
    "start_time": "2022-04-06T16:25:34.653Z"
   },
   {
    "duration": 86,
    "start_time": "2022-04-06T16:25:34.657Z"
   },
   {
    "duration": 12,
    "start_time": "2022-04-06T16:25:34.745Z"
   },
   {
    "duration": 3,
    "start_time": "2022-04-06T16:25:34.759Z"
   },
   {
    "duration": 5,
    "start_time": "2022-04-06T16:25:34.763Z"
   },
   {
    "duration": 27,
    "start_time": "2022-04-06T16:25:34.769Z"
   },
   {
    "duration": 33,
    "start_time": "2022-04-06T16:25:34.797Z"
   },
   {
    "duration": 29,
    "start_time": "2022-04-06T16:25:34.832Z"
   },
   {
    "duration": 7,
    "start_time": "2022-04-06T16:25:34.863Z"
   },
   {
    "duration": 10,
    "start_time": "2022-04-06T16:25:34.872Z"
   },
   {
    "duration": 53,
    "start_time": "2022-04-06T16:25:34.883Z"
   },
   {
    "duration": 313,
    "start_time": "2022-04-06T16:25:34.938Z"
   },
   {
    "duration": 18,
    "start_time": "2022-04-06T16:25:35.252Z"
   },
   {
    "duration": 104,
    "start_time": "2022-04-06T16:25:35.272Z"
   },
   {
    "duration": 199,
    "start_time": "2022-04-06T16:25:35.378Z"
   },
   {
    "duration": 106,
    "start_time": "2022-04-06T16:25:35.578Z"
   },
   {
    "duration": 228,
    "start_time": "2022-04-06T16:25:35.686Z"
   },
   {
    "duration": 95,
    "start_time": "2022-04-06T16:25:35.916Z"
   },
   {
    "duration": 329,
    "start_time": "2022-04-06T16:25:36.013Z"
   },
   {
    "duration": 23,
    "start_time": "2022-04-06T16:25:36.344Z"
   },
   {
    "duration": 14,
    "start_time": "2022-04-06T16:25:36.369Z"
   },
   {
    "duration": 208,
    "start_time": "2022-04-06T16:25:36.385Z"
   },
   {
    "duration": 304,
    "start_time": "2022-04-06T16:25:36.595Z"
   },
   {
    "duration": 300,
    "start_time": "2022-04-06T16:25:36.902Z"
   },
   {
    "duration": 26,
    "start_time": "2022-04-06T16:25:37.203Z"
   },
   {
    "duration": 7,
    "start_time": "2022-04-06T16:25:37.231Z"
   },
   {
    "duration": 130,
    "start_time": "2022-04-06T16:25:37.239Z"
   },
   {
    "duration": 93,
    "start_time": "2022-04-06T16:25:37.371Z"
   },
   {
    "duration": 7,
    "start_time": "2022-04-06T16:25:37.466Z"
   },
   {
    "duration": 97,
    "start_time": "2022-04-06T16:25:37.474Z"
   },
   {
    "duration": 152,
    "start_time": "2022-04-06T16:25:37.572Z"
   },
   {
    "duration": 19,
    "start_time": "2022-04-06T16:25:37.726Z"
   },
   {
    "duration": 9,
    "start_time": "2022-04-06T16:25:37.746Z"
   },
   {
    "duration": 182,
    "start_time": "2022-04-06T16:25:37.757Z"
   },
   {
    "duration": 222,
    "start_time": "2022-04-06T16:25:37.940Z"
   },
   {
    "duration": 4,
    "start_time": "2022-04-06T16:25:38.164Z"
   },
   {
    "duration": 153,
    "start_time": "2022-04-06T16:25:38.169Z"
   },
   {
    "duration": 9,
    "start_time": "2022-04-06T16:25:38.323Z"
   },
   {
    "duration": 131,
    "start_time": "2022-04-06T16:25:38.334Z"
   },
   {
    "duration": 8,
    "start_time": "2022-04-06T16:25:38.466Z"
   },
   {
    "duration": 148,
    "start_time": "2022-04-06T16:25:38.475Z"
   },
   {
    "duration": 168,
    "start_time": "2022-04-06T16:25:38.624Z"
   },
   {
    "duration": 144,
    "start_time": "2022-04-06T16:25:38.793Z"
   },
   {
    "duration": 14,
    "start_time": "2022-04-06T16:25:38.939Z"
   },
   {
    "duration": 26,
    "start_time": "2022-04-06T16:25:38.954Z"
   },
   {
    "duration": 149,
    "start_time": "2022-04-06T16:25:38.981Z"
   },
   {
    "duration": 15,
    "start_time": "2022-04-06T16:25:39.131Z"
   },
   {
    "duration": 256,
    "start_time": "2022-04-06T16:25:39.148Z"
   },
   {
    "duration": 38,
    "start_time": "2022-04-06T16:25:39.405Z"
   },
   {
    "duration": 1091,
    "start_time": "2022-04-06T16:25:39.445Z"
   },
   {
    "duration": 1134,
    "start_time": "2022-04-06T16:25:40.537Z"
   },
   {
    "duration": 1626,
    "start_time": "2022-04-06T16:25:41.673Z"
   },
   {
    "duration": 1435,
    "start_time": "2022-04-06T16:29:18.079Z"
   },
   {
    "duration": 2,
    "start_time": "2022-04-06T16:32:28.443Z"
   },
   {
    "duration": 90,
    "start_time": "2022-04-06T16:32:28.448Z"
   },
   {
    "duration": 12,
    "start_time": "2022-04-06T16:32:28.540Z"
   },
   {
    "duration": 3,
    "start_time": "2022-04-06T16:32:28.554Z"
   },
   {
    "duration": 4,
    "start_time": "2022-04-06T16:32:28.559Z"
   },
   {
    "duration": 29,
    "start_time": "2022-04-06T16:32:28.564Z"
   },
   {
    "duration": 7,
    "start_time": "2022-04-06T16:32:28.594Z"
   },
   {
    "duration": 27,
    "start_time": "2022-04-06T16:32:28.629Z"
   },
   {
    "duration": 7,
    "start_time": "2022-04-06T16:32:28.657Z"
   },
   {
    "duration": 10,
    "start_time": "2022-04-06T16:32:28.665Z"
   },
   {
    "duration": 21,
    "start_time": "2022-04-06T16:32:28.676Z"
   },
   {
    "duration": 360,
    "start_time": "2022-04-06T16:32:28.698Z"
   },
   {
    "duration": 17,
    "start_time": "2022-04-06T16:32:29.059Z"
   },
   {
    "duration": 100,
    "start_time": "2022-04-06T16:32:29.080Z"
   },
   {
    "duration": 206,
    "start_time": "2022-04-06T16:32:29.182Z"
   },
   {
    "duration": 111,
    "start_time": "2022-04-06T16:32:29.390Z"
   },
   {
    "duration": 417,
    "start_time": "2022-04-06T16:32:29.502Z"
   },
   {
    "duration": 108,
    "start_time": "2022-04-06T16:32:29.921Z"
   },
   {
    "duration": 221,
    "start_time": "2022-04-06T16:32:30.031Z"
   },
   {
    "duration": 20,
    "start_time": "2022-04-06T16:32:30.254Z"
   },
   {
    "duration": 14,
    "start_time": "2022-04-06T16:32:30.275Z"
   },
   {
    "duration": 206,
    "start_time": "2022-04-06T16:32:30.291Z"
   },
   {
    "duration": 335,
    "start_time": "2022-04-06T16:32:30.499Z"
   },
   {
    "duration": 335,
    "start_time": "2022-04-06T16:32:30.836Z"
   },
   {
    "duration": 18,
    "start_time": "2022-04-06T16:32:31.172Z"
   },
   {
    "duration": 7,
    "start_time": "2022-04-06T16:32:31.192Z"
   },
   {
    "duration": 134,
    "start_time": "2022-04-06T16:32:31.201Z"
   },
   {
    "duration": 133,
    "start_time": "2022-04-06T16:32:31.337Z"
   },
   {
    "duration": 7,
    "start_time": "2022-04-06T16:32:31.472Z"
   },
   {
    "duration": 153,
    "start_time": "2022-04-06T16:32:31.481Z"
   },
   {
    "duration": 156,
    "start_time": "2022-04-06T16:32:31.636Z"
   },
   {
    "duration": 19,
    "start_time": "2022-04-06T16:32:31.793Z"
   },
   {
    "duration": 24,
    "start_time": "2022-04-06T16:32:31.813Z"
   },
   {
    "duration": 177,
    "start_time": "2022-04-06T16:32:31.838Z"
   },
   {
    "duration": 92,
    "start_time": "2022-04-06T16:32:32.017Z"
   },
   {
    "duration": 4,
    "start_time": "2022-04-06T16:32:32.111Z"
   },
   {
    "duration": 157,
    "start_time": "2022-04-06T16:32:32.117Z"
   },
   {
    "duration": 5,
    "start_time": "2022-04-06T16:32:32.276Z"
   },
   {
    "duration": 139,
    "start_time": "2022-04-06T16:32:32.282Z"
   },
   {
    "duration": 12,
    "start_time": "2022-04-06T16:32:32.423Z"
   },
   {
    "duration": 145,
    "start_time": "2022-04-06T16:32:32.439Z"
   },
   {
    "duration": 171,
    "start_time": "2022-04-06T16:32:32.586Z"
   },
   {
    "duration": 145,
    "start_time": "2022-04-06T16:32:32.759Z"
   },
   {
    "duration": 24,
    "start_time": "2022-04-06T16:32:32.906Z"
   },
   {
    "duration": 227,
    "start_time": "2022-04-06T16:32:32.932Z"
   },
   {
    "duration": 153,
    "start_time": "2022-04-06T16:32:33.160Z"
   },
   {
    "duration": 22,
    "start_time": "2022-04-06T16:32:33.315Z"
   },
   {
    "duration": 262,
    "start_time": "2022-04-06T16:32:33.339Z"
   },
   {
    "duration": 49,
    "start_time": "2022-04-06T16:32:33.603Z"
   },
   {
    "duration": 979,
    "start_time": "2022-04-06T16:32:33.655Z"
   },
   {
    "duration": 977,
    "start_time": "2022-04-06T16:32:34.636Z"
   },
   {
    "duration": 1689,
    "start_time": "2022-04-06T16:32:35.616Z"
   },
   {
    "duration": 1080,
    "start_time": "2022-04-06T17:04:27.519Z"
   },
   {
    "duration": 149,
    "start_time": "2022-04-06T17:04:28.602Z"
   },
   {
    "duration": 35,
    "start_time": "2022-04-06T17:04:28.754Z"
   },
   {
    "duration": 6,
    "start_time": "2022-04-06T17:04:28.791Z"
   },
   {
    "duration": 6,
    "start_time": "2022-04-06T17:04:28.802Z"
   },
   {
    "duration": 79,
    "start_time": "2022-04-06T17:04:28.810Z"
   },
   {
    "duration": 14,
    "start_time": "2022-04-06T17:04:28.892Z"
   },
   {
    "duration": 80,
    "start_time": "2022-04-06T17:04:28.910Z"
   },
   {
    "duration": 12,
    "start_time": "2022-04-06T17:04:28.993Z"
   },
   {
    "duration": 16,
    "start_time": "2022-04-06T17:04:29.007Z"
   },
   {
    "duration": 75,
    "start_time": "2022-04-06T17:04:29.026Z"
   },
   {
    "duration": 585,
    "start_time": "2022-04-06T17:04:29.104Z"
   },
   {
    "duration": 29,
    "start_time": "2022-04-06T17:04:29.692Z"
   },
   {
    "duration": 208,
    "start_time": "2022-04-06T17:04:29.726Z"
   },
   {
    "duration": 467,
    "start_time": "2022-04-06T17:04:29.937Z"
   },
   {
    "duration": 199,
    "start_time": "2022-04-06T17:04:30.406Z"
   },
   {
    "duration": 444,
    "start_time": "2022-04-06T17:04:30.607Z"
   },
   {
    "duration": 188,
    "start_time": "2022-04-06T17:04:31.054Z"
   },
   {
    "duration": 442,
    "start_time": "2022-04-06T17:04:31.244Z"
   },
   {
    "duration": 37,
    "start_time": "2022-04-06T17:04:31.689Z"
   },
   {
    "duration": 47,
    "start_time": "2022-04-06T17:04:31.729Z"
   },
   {
    "duration": 362,
    "start_time": "2022-04-06T17:04:31.778Z"
   },
   {
    "duration": 710,
    "start_time": "2022-04-06T17:04:32.142Z"
   },
   {
    "duration": 622,
    "start_time": "2022-04-06T17:04:32.854Z"
   },
   {
    "duration": 31,
    "start_time": "2022-04-06T17:04:33.479Z"
   },
   {
    "duration": 10,
    "start_time": "2022-04-06T17:04:33.512Z"
   },
   {
    "duration": 280,
    "start_time": "2022-04-06T17:04:33.524Z"
   },
   {
    "duration": 180,
    "start_time": "2022-04-06T17:04:33.806Z"
   },
   {
    "duration": 12,
    "start_time": "2022-04-06T17:04:33.988Z"
   },
   {
    "duration": 188,
    "start_time": "2022-04-06T17:04:34.002Z"
   },
   {
    "duration": 318,
    "start_time": "2022-04-06T17:04:34.192Z"
   },
   {
    "duration": 30,
    "start_time": "2022-04-06T17:04:34.512Z"
   },
   {
    "duration": 35,
    "start_time": "2022-04-06T17:04:34.545Z"
   },
   {
    "duration": 355,
    "start_time": "2022-04-06T17:04:34.583Z"
   },
   {
    "duration": 185,
    "start_time": "2022-04-06T17:04:34.940Z"
   },
   {
    "duration": 8,
    "start_time": "2022-04-06T17:04:35.127Z"
   },
   {
    "duration": 392,
    "start_time": "2022-04-06T17:04:35.138Z"
   },
   {
    "duration": 9,
    "start_time": "2022-04-06T17:04:35.533Z"
   },
   {
    "duration": 234,
    "start_time": "2022-04-06T17:04:35.545Z"
   },
   {
    "duration": 13,
    "start_time": "2022-04-06T17:04:35.781Z"
   },
   {
    "duration": 275,
    "start_time": "2022-04-06T17:04:35.802Z"
   },
   {
    "duration": 293,
    "start_time": "2022-04-06T17:04:36.080Z"
   },
   {
    "duration": 256,
    "start_time": "2022-04-06T17:04:36.376Z"
   },
   {
    "duration": 40,
    "start_time": "2022-04-06T17:04:36.635Z"
   },
   {
    "duration": 29,
    "start_time": "2022-04-06T17:04:36.677Z"
   },
   {
    "duration": 295,
    "start_time": "2022-04-06T17:04:36.709Z"
   },
   {
    "duration": 24,
    "start_time": "2022-04-06T17:04:37.006Z"
   },
   {
    "duration": 503,
    "start_time": "2022-04-06T17:04:37.032Z"
   },
   {
    "duration": 74,
    "start_time": "2022-04-06T17:04:37.537Z"
   },
   {
    "duration": 1910,
    "start_time": "2022-04-06T17:04:37.613Z"
   },
   {
    "duration": 2061,
    "start_time": "2022-04-06T17:04:39.525Z"
   },
   {
    "duration": 2615,
    "start_time": "2022-04-06T17:04:41.588Z"
   },
   {
    "duration": 1214,
    "start_time": "2022-04-07T10:00:36.103Z"
   },
   {
    "duration": 222,
    "start_time": "2022-04-07T10:00:37.321Z"
   },
   {
    "duration": 22,
    "start_time": "2022-04-07T10:00:37.545Z"
   },
   {
    "duration": 5,
    "start_time": "2022-04-07T10:00:37.570Z"
   },
   {
    "duration": 7,
    "start_time": "2022-04-07T10:00:37.577Z"
   },
   {
    "duration": 100,
    "start_time": "2022-04-07T10:00:37.587Z"
   },
   {
    "duration": 13,
    "start_time": "2022-04-07T10:00:37.690Z"
   },
   {
    "duration": 81,
    "start_time": "2022-04-07T10:00:37.705Z"
   },
   {
    "duration": 16,
    "start_time": "2022-04-07T10:00:37.789Z"
   },
   {
    "duration": 45,
    "start_time": "2022-04-07T10:00:37.809Z"
   },
   {
    "duration": 36,
    "start_time": "2022-04-07T10:00:37.857Z"
   },
   {
    "duration": 608,
    "start_time": "2022-04-07T10:00:37.896Z"
   },
   {
    "duration": 46,
    "start_time": "2022-04-07T10:00:38.507Z"
   },
   {
    "duration": 200,
    "start_time": "2022-04-07T10:00:38.555Z"
   },
   {
    "duration": 468,
    "start_time": "2022-04-07T10:00:38.757Z"
   },
   {
    "duration": 217,
    "start_time": "2022-04-07T10:00:39.228Z"
   },
   {
    "duration": 487,
    "start_time": "2022-04-07T10:00:39.448Z"
   },
   {
    "duration": 183,
    "start_time": "2022-04-07T10:00:39.942Z"
   },
   {
    "duration": 486,
    "start_time": "2022-04-07T10:00:40.128Z"
   },
   {
    "duration": 54,
    "start_time": "2022-04-07T10:00:40.617Z"
   },
   {
    "duration": 24,
    "start_time": "2022-04-07T10:00:40.673Z"
   },
   {
    "duration": 410,
    "start_time": "2022-04-07T10:00:40.700Z"
   },
   {
    "duration": 1071,
    "start_time": "2022-04-07T10:00:41.112Z"
   },
   {
    "duration": 663,
    "start_time": "2022-04-07T10:00:42.186Z"
   },
   {
    "duration": 40,
    "start_time": "2022-04-07T10:00:42.851Z"
   },
   {
    "duration": 13,
    "start_time": "2022-04-07T10:00:42.894Z"
   },
   {
    "duration": 305,
    "start_time": "2022-04-07T10:00:42.909Z"
   },
   {
    "duration": 202,
    "start_time": "2022-04-07T10:00:43.220Z"
   },
   {
    "duration": 19,
    "start_time": "2022-04-07T10:00:43.425Z"
   },
   {
    "duration": 265,
    "start_time": "2022-04-07T10:00:43.447Z"
   },
   {
    "duration": 328,
    "start_time": "2022-04-07T10:00:43.717Z"
   },
   {
    "duration": 31,
    "start_time": "2022-04-07T10:00:44.048Z"
   },
   {
    "duration": 16,
    "start_time": "2022-04-07T10:00:44.081Z"
   },
   {
    "duration": 393,
    "start_time": "2022-04-07T10:00:44.100Z"
   },
   {
    "duration": 259,
    "start_time": "2022-04-07T10:00:44.496Z"
   },
   {
    "duration": 9,
    "start_time": "2022-04-07T10:00:44.758Z"
   },
   {
    "duration": 411,
    "start_time": "2022-04-07T10:00:44.769Z"
   },
   {
    "duration": 8,
    "start_time": "2022-04-07T10:00:45.182Z"
   },
   {
    "duration": 228,
    "start_time": "2022-04-07T10:00:45.192Z"
   },
   {
    "duration": 21,
    "start_time": "2022-04-07T10:00:45.425Z"
   },
   {
    "duration": 374,
    "start_time": "2022-04-07T10:00:45.449Z"
   },
   {
    "duration": 440,
    "start_time": "2022-04-07T10:00:45.827Z"
   },
   {
    "duration": 267,
    "start_time": "2022-04-07T10:00:46.270Z"
   },
   {
    "duration": 25,
    "start_time": "2022-04-07T10:00:46.543Z"
   },
   {
    "duration": 29,
    "start_time": "2022-04-07T10:00:46.571Z"
   },
   {
    "duration": 323,
    "start_time": "2022-04-07T10:00:46.602Z"
   },
   {
    "duration": 44,
    "start_time": "2022-04-07T10:00:46.928Z"
   },
   {
    "duration": 731,
    "start_time": "2022-04-07T10:00:46.976Z"
   },
   {
    "duration": 95,
    "start_time": "2022-04-07T10:00:47.710Z"
   },
   {
    "duration": 3062,
    "start_time": "2022-04-07T10:00:47.808Z"
   },
   {
    "duration": 2127,
    "start_time": "2022-04-07T10:00:50.873Z"
   },
   {
    "duration": 2836,
    "start_time": "2022-04-07T10:00:53.003Z"
   },
   {
    "duration": 761,
    "start_time": "2022-04-07T12:38:40.857Z"
   },
   {
    "duration": 112,
    "start_time": "2022-04-07T12:38:41.623Z"
   },
   {
    "duration": 15,
    "start_time": "2022-04-07T12:38:41.737Z"
   },
   {
    "duration": 3,
    "start_time": "2022-04-07T12:38:41.754Z"
   },
   {
    "duration": 5,
    "start_time": "2022-04-07T12:38:41.758Z"
   },
   {
    "duration": 29,
    "start_time": "2022-04-07T12:38:41.764Z"
   },
   {
    "duration": 22,
    "start_time": "2022-04-07T12:38:41.809Z"
   },
   {
    "duration": 34,
    "start_time": "2022-04-07T12:38:41.833Z"
   },
   {
    "duration": 8,
    "start_time": "2022-04-07T12:38:41.868Z"
   },
   {
    "duration": 12,
    "start_time": "2022-04-07T12:38:41.879Z"
   },
   {
    "duration": 33,
    "start_time": "2022-04-07T12:38:41.911Z"
   },
   {
    "duration": 393,
    "start_time": "2022-04-07T12:38:41.945Z"
   },
   {
    "duration": 21,
    "start_time": "2022-04-07T12:38:42.340Z"
   },
   {
    "duration": 137,
    "start_time": "2022-04-07T12:38:42.362Z"
   },
   {
    "duration": 298,
    "start_time": "2022-04-07T12:38:42.500Z"
   },
   {
    "duration": 135,
    "start_time": "2022-04-07T12:38:42.800Z"
   },
   {
    "duration": 289,
    "start_time": "2022-04-07T12:38:42.937Z"
   },
   {
    "duration": 115,
    "start_time": "2022-04-07T12:38:43.228Z"
   },
   {
    "duration": 276,
    "start_time": "2022-04-07T12:38:43.345Z"
   },
   {
    "duration": 27,
    "start_time": "2022-04-07T12:38:43.630Z"
   },
   {
    "duration": 16,
    "start_time": "2022-04-07T12:38:43.659Z"
   },
   {
    "duration": 260,
    "start_time": "2022-04-07T12:38:43.677Z"
   },
   {
    "duration": 458,
    "start_time": "2022-04-07T12:38:43.939Z"
   },
   {
    "duration": 393,
    "start_time": "2022-04-07T12:38:44.399Z"
   },
   {
    "duration": 33,
    "start_time": "2022-04-07T12:38:44.793Z"
   },
   {
    "duration": 11,
    "start_time": "2022-04-07T12:38:44.828Z"
   },
   {
    "duration": 157,
    "start_time": "2022-04-07T12:38:44.841Z"
   },
   {
    "duration": 126,
    "start_time": "2022-04-07T12:38:45.011Z"
   },
   {
    "duration": 9,
    "start_time": "2022-04-07T12:38:45.138Z"
   },
   {
    "duration": 122,
    "start_time": "2022-04-07T12:38:45.148Z"
   },
   {
    "duration": 196,
    "start_time": "2022-04-07T12:38:45.272Z"
   },
   {
    "duration": 19,
    "start_time": "2022-04-07T12:38:45.469Z"
   },
   {
    "duration": 32,
    "start_time": "2022-04-07T12:38:45.490Z"
   },
   {
    "duration": 225,
    "start_time": "2022-04-07T12:38:45.524Z"
   },
   {
    "duration": 121,
    "start_time": "2022-04-07T12:38:45.751Z"
   },
   {
    "duration": 5,
    "start_time": "2022-04-07T12:38:45.874Z"
   },
   {
    "duration": 285,
    "start_time": "2022-04-07T12:38:45.880Z"
   },
   {
    "duration": 5,
    "start_time": "2022-04-07T12:38:46.166Z"
   },
   {
    "duration": 149,
    "start_time": "2022-04-07T12:38:46.173Z"
   },
   {
    "duration": 12,
    "start_time": "2022-04-07T12:38:46.327Z"
   },
   {
    "duration": 176,
    "start_time": "2022-04-07T12:38:46.341Z"
   },
   {
    "duration": 204,
    "start_time": "2022-04-07T12:38:46.519Z"
   },
   {
    "duration": 178,
    "start_time": "2022-04-07T12:38:46.725Z"
   },
   {
    "duration": 28,
    "start_time": "2022-04-07T12:38:46.908Z"
   },
   {
    "duration": 20,
    "start_time": "2022-04-07T12:38:46.938Z"
   },
   {
    "duration": 199,
    "start_time": "2022-04-07T12:38:46.960Z"
   },
   {
    "duration": 17,
    "start_time": "2022-04-07T12:38:47.160Z"
   },
   {
    "duration": 315,
    "start_time": "2022-04-07T12:38:47.179Z"
   },
   {
    "duration": 56,
    "start_time": "2022-04-07T12:38:47.496Z"
   },
   {
    "duration": 1297,
    "start_time": "2022-04-07T12:38:47.554Z"
   },
   {
    "duration": 1317,
    "start_time": "2022-04-07T12:38:48.854Z"
   },
   {
    "duration": 1802,
    "start_time": "2022-04-07T12:38:50.173Z"
   },
   {
    "duration": 664,
    "start_time": "2022-04-07T12:41:15.942Z"
   },
   {
    "duration": 122,
    "start_time": "2022-04-07T12:41:16.608Z"
   },
   {
    "duration": 21,
    "start_time": "2022-04-07T12:41:16.734Z"
   },
   {
    "duration": 9,
    "start_time": "2022-04-07T12:41:16.757Z"
   },
   {
    "duration": 11,
    "start_time": "2022-04-07T12:41:16.768Z"
   },
   {
    "duration": 43,
    "start_time": "2022-04-07T12:41:16.780Z"
   },
   {
    "duration": 14,
    "start_time": "2022-04-07T12:41:16.828Z"
   },
   {
    "duration": 43,
    "start_time": "2022-04-07T12:41:16.845Z"
   },
   {
    "duration": 31,
    "start_time": "2022-04-07T12:41:16.890Z"
   },
   {
    "duration": 21,
    "start_time": "2022-04-07T12:41:16.926Z"
   },
   {
    "duration": 26,
    "start_time": "2022-04-07T12:41:16.949Z"
   },
   {
    "duration": 423,
    "start_time": "2022-04-07T12:41:16.977Z"
   },
   {
    "duration": 37,
    "start_time": "2022-04-07T12:41:17.402Z"
   },
   {
    "duration": 125,
    "start_time": "2022-04-07T12:41:17.446Z"
   },
   {
    "duration": 304,
    "start_time": "2022-04-07T12:41:17.573Z"
   },
   {
    "duration": 152,
    "start_time": "2022-04-07T12:41:17.878Z"
   },
   {
    "duration": 290,
    "start_time": "2022-04-07T12:41:18.038Z"
   },
   {
    "duration": 126,
    "start_time": "2022-04-07T12:41:18.329Z"
   },
   {
    "duration": 301,
    "start_time": "2022-04-07T12:41:18.457Z"
   },
   {
    "duration": 25,
    "start_time": "2022-04-07T12:41:18.760Z"
   },
   {
    "duration": 38,
    "start_time": "2022-04-07T12:41:18.787Z"
   },
   {
    "duration": 254,
    "start_time": "2022-04-07T12:41:18.829Z"
   },
   {
    "duration": 491,
    "start_time": "2022-04-07T12:41:19.084Z"
   },
   {
    "duration": 421,
    "start_time": "2022-04-07T12:41:19.577Z"
   },
   {
    "duration": 34,
    "start_time": "2022-04-07T12:41:20.000Z"
   },
   {
    "duration": 9,
    "start_time": "2022-04-07T12:41:20.036Z"
   },
   {
    "duration": 188,
    "start_time": "2022-04-07T12:41:20.047Z"
   },
   {
    "duration": 125,
    "start_time": "2022-04-07T12:41:20.241Z"
   },
   {
    "duration": 8,
    "start_time": "2022-04-07T12:41:20.367Z"
   },
   {
    "duration": 146,
    "start_time": "2022-04-07T12:41:20.377Z"
   },
   {
    "duration": 198,
    "start_time": "2022-04-07T12:41:20.525Z"
   },
   {
    "duration": 26,
    "start_time": "2022-04-07T12:41:20.725Z"
   },
   {
    "duration": 12,
    "start_time": "2022-04-07T12:41:20.753Z"
   },
   {
    "duration": 272,
    "start_time": "2022-04-07T12:41:20.768Z"
   },
   {
    "duration": 125,
    "start_time": "2022-04-07T12:41:21.042Z"
   },
   {
    "duration": 5,
    "start_time": "2022-04-07T12:41:21.169Z"
   },
   {
    "duration": 310,
    "start_time": "2022-04-07T12:41:21.175Z"
   },
   {
    "duration": 6,
    "start_time": "2022-04-07T12:41:21.486Z"
   },
   {
    "duration": 162,
    "start_time": "2022-04-07T12:41:21.493Z"
   },
   {
    "duration": 7,
    "start_time": "2022-04-07T12:41:21.657Z"
   },
   {
    "duration": 647,
    "start_time": "2022-04-07T12:44:54.317Z"
   },
   {
    "duration": 105,
    "start_time": "2022-04-07T12:44:54.965Z"
   },
   {
    "duration": 14,
    "start_time": "2022-04-07T12:44:55.072Z"
   },
   {
    "duration": 3,
    "start_time": "2022-04-07T12:44:55.088Z"
   },
   {
    "duration": 20,
    "start_time": "2022-04-07T12:44:55.092Z"
   },
   {
    "duration": 39,
    "start_time": "2022-04-07T12:44:55.114Z"
   },
   {
    "duration": 10,
    "start_time": "2022-04-07T12:44:55.155Z"
   },
   {
    "duration": 51,
    "start_time": "2022-04-07T12:44:55.167Z"
   },
   {
    "duration": 16,
    "start_time": "2022-04-07T12:44:55.219Z"
   },
   {
    "duration": 12,
    "start_time": "2022-04-07T12:44:55.238Z"
   },
   {
    "duration": 24,
    "start_time": "2022-04-07T12:44:55.251Z"
   },
   {
    "duration": 397,
    "start_time": "2022-04-07T12:44:55.277Z"
   },
   {
    "duration": 19,
    "start_time": "2022-04-07T12:44:55.676Z"
   },
   {
    "duration": 148,
    "start_time": "2022-04-07T12:44:55.696Z"
   },
   {
    "duration": 297,
    "start_time": "2022-04-07T12:44:55.845Z"
   },
   {
    "duration": 122,
    "start_time": "2022-04-07T12:44:56.143Z"
   },
   {
    "duration": 277,
    "start_time": "2022-04-07T12:44:56.267Z"
   },
   {
    "duration": 122,
    "start_time": "2022-04-07T12:44:56.546Z"
   },
   {
    "duration": 294,
    "start_time": "2022-04-07T12:44:56.669Z"
   },
   {
    "duration": 23,
    "start_time": "2022-04-07T12:44:56.965Z"
   },
   {
    "duration": 36,
    "start_time": "2022-04-07T12:44:56.990Z"
   },
   {
    "duration": 236,
    "start_time": "2022-04-07T12:44:57.029Z"
   },
   {
    "duration": 480,
    "start_time": "2022-04-07T12:44:57.266Z"
   },
   {
    "duration": 410,
    "start_time": "2022-04-07T12:44:57.748Z"
   },
   {
    "duration": 21,
    "start_time": "2022-04-07T12:44:58.159Z"
   },
   {
    "duration": 7,
    "start_time": "2022-04-07T12:44:58.182Z"
   },
   {
    "duration": 174,
    "start_time": "2022-04-07T12:44:58.191Z"
   },
   {
    "duration": 120,
    "start_time": "2022-04-07T12:44:58.368Z"
   },
   {
    "duration": 8,
    "start_time": "2022-04-07T12:44:58.490Z"
   },
   {
    "duration": 132,
    "start_time": "2022-04-07T12:44:58.499Z"
   },
   {
    "duration": 192,
    "start_time": "2022-04-07T12:44:58.634Z"
   },
   {
    "duration": 21,
    "start_time": "2022-04-07T12:44:58.828Z"
   },
   {
    "duration": 9,
    "start_time": "2022-04-07T12:44:58.851Z"
   },
   {
    "duration": 240,
    "start_time": "2022-04-07T12:44:58.862Z"
   },
   {
    "duration": 122,
    "start_time": "2022-04-07T12:44:59.108Z"
   },
   {
    "duration": 6,
    "start_time": "2022-04-07T12:44:59.232Z"
   },
   {
    "duration": 278,
    "start_time": "2022-04-07T12:44:59.240Z"
   },
   {
    "duration": 8,
    "start_time": "2022-04-07T12:44:59.521Z"
   },
   {
    "duration": 164,
    "start_time": "2022-04-07T12:44:59.531Z"
   },
   {
    "duration": 9,
    "start_time": "2022-04-07T12:44:59.697Z"
   },
   {
    "duration": 1822,
    "start_time": "2022-04-07T12:44:59.709Z"
   },
   {
    "duration": 0,
    "start_time": "2022-04-07T12:45:01.537Z"
   },
   {
    "duration": 0,
    "start_time": "2022-04-07T12:45:01.540Z"
   },
   {
    "duration": 0,
    "start_time": "2022-04-07T12:45:01.541Z"
   },
   {
    "duration": 0,
    "start_time": "2022-04-07T12:45:01.542Z"
   },
   {
    "duration": 0,
    "start_time": "2022-04-07T12:45:01.544Z"
   },
   {
    "duration": 0,
    "start_time": "2022-04-07T12:45:01.545Z"
   },
   {
    "duration": 0,
    "start_time": "2022-04-07T12:45:01.547Z"
   },
   {
    "duration": 0,
    "start_time": "2022-04-07T12:45:01.548Z"
   },
   {
    "duration": 0,
    "start_time": "2022-04-07T12:45:01.550Z"
   },
   {
    "duration": 0,
    "start_time": "2022-04-07T12:45:01.551Z"
   },
   {
    "duration": 0,
    "start_time": "2022-04-07T12:45:01.553Z"
   },
   {
    "duration": 177,
    "start_time": "2022-04-07T12:45:26.662Z"
   },
   {
    "duration": 239,
    "start_time": "2022-04-07T12:46:04.743Z"
   },
   {
    "duration": 644,
    "start_time": "2022-04-07T12:47:14.551Z"
   },
   {
    "duration": 122,
    "start_time": "2022-04-07T12:47:15.197Z"
   },
   {
    "duration": 20,
    "start_time": "2022-04-07T12:47:15.320Z"
   },
   {
    "duration": 4,
    "start_time": "2022-04-07T12:47:15.342Z"
   },
   {
    "duration": 5,
    "start_time": "2022-04-07T12:47:15.348Z"
   },
   {
    "duration": 30,
    "start_time": "2022-04-07T12:47:15.355Z"
   },
   {
    "duration": 42,
    "start_time": "2022-04-07T12:47:15.387Z"
   },
   {
    "duration": 35,
    "start_time": "2022-04-07T12:47:15.433Z"
   },
   {
    "duration": 8,
    "start_time": "2022-04-07T12:47:15.470Z"
   },
   {
    "duration": 11,
    "start_time": "2022-04-07T12:47:15.480Z"
   },
   {
    "duration": 38,
    "start_time": "2022-04-07T12:47:15.509Z"
   },
   {
    "duration": 404,
    "start_time": "2022-04-07T12:47:15.549Z"
   },
   {
    "duration": 21,
    "start_time": "2022-04-07T12:47:15.955Z"
   },
   {
    "duration": 156,
    "start_time": "2022-04-07T12:47:15.979Z"
   },
   {
    "duration": 307,
    "start_time": "2022-04-07T12:47:16.137Z"
   },
   {
    "duration": 134,
    "start_time": "2022-04-07T12:47:16.446Z"
   },
   {
    "duration": 292,
    "start_time": "2022-04-07T12:47:16.581Z"
   },
   {
    "duration": 147,
    "start_time": "2022-04-07T12:47:16.874Z"
   },
   {
    "duration": 283,
    "start_time": "2022-04-07T12:47:17.023Z"
   },
   {
    "duration": 34,
    "start_time": "2022-04-07T12:47:17.308Z"
   },
   {
    "duration": 19,
    "start_time": "2022-04-07T12:47:17.343Z"
   },
   {
    "duration": 272,
    "start_time": "2022-04-07T12:47:17.364Z"
   },
   {
    "duration": 462,
    "start_time": "2022-04-07T12:47:17.638Z"
   },
   {
    "duration": 416,
    "start_time": "2022-04-07T12:47:18.102Z"
   },
   {
    "duration": 26,
    "start_time": "2022-04-07T12:47:18.519Z"
   },
   {
    "duration": 8,
    "start_time": "2022-04-07T12:47:18.546Z"
   },
   {
    "duration": 186,
    "start_time": "2022-04-07T12:47:18.556Z"
   },
   {
    "duration": 123,
    "start_time": "2022-04-07T12:47:18.744Z"
   },
   {
    "duration": 9,
    "start_time": "2022-04-07T12:47:18.868Z"
   },
   {
    "duration": 137,
    "start_time": "2022-04-07T12:47:18.879Z"
   },
   {
    "duration": 218,
    "start_time": "2022-04-07T12:47:19.018Z"
   },
   {
    "duration": 20,
    "start_time": "2022-04-07T12:47:19.237Z"
   },
   {
    "duration": 12,
    "start_time": "2022-04-07T12:47:19.259Z"
   },
   {
    "duration": 253,
    "start_time": "2022-04-07T12:47:19.273Z"
   },
   {
    "duration": 118,
    "start_time": "2022-04-07T12:47:19.537Z"
   },
   {
    "duration": 6,
    "start_time": "2022-04-07T12:47:19.657Z"
   },
   {
    "duration": 308,
    "start_time": "2022-04-07T12:47:19.665Z"
   },
   {
    "duration": 5,
    "start_time": "2022-04-07T12:47:19.975Z"
   },
   {
    "duration": 170,
    "start_time": "2022-04-07T12:47:19.982Z"
   },
   {
    "duration": 8,
    "start_time": "2022-04-07T12:47:20.154Z"
   },
   {
    "duration": 213,
    "start_time": "2022-04-07T12:47:20.166Z"
   },
   {
    "duration": 219,
    "start_time": "2022-04-07T12:47:20.381Z"
   },
   {
    "duration": 193,
    "start_time": "2022-04-07T12:47:20.601Z"
   },
   {
    "duration": 28,
    "start_time": "2022-04-07T12:47:20.796Z"
   },
   {
    "duration": 22,
    "start_time": "2022-04-07T12:47:20.825Z"
   },
   {
    "duration": 202,
    "start_time": "2022-04-07T12:47:20.848Z"
   },
   {
    "duration": 18,
    "start_time": "2022-04-07T12:47:21.052Z"
   },
   {
    "duration": 385,
    "start_time": "2022-04-07T12:47:21.072Z"
   },
   {
    "duration": 51,
    "start_time": "2022-04-07T12:47:21.459Z"
   },
   {
    "duration": 1378,
    "start_time": "2022-04-07T12:47:21.511Z"
   },
   {
    "duration": 1428,
    "start_time": "2022-04-07T12:47:22.890Z"
   },
   {
    "duration": 1846,
    "start_time": "2022-04-07T12:47:24.321Z"
   },
   {
    "duration": 672,
    "start_time": "2022-04-07T12:50:16.409Z"
   },
   {
    "duration": 118,
    "start_time": "2022-04-07T12:50:17.083Z"
   },
   {
    "duration": 23,
    "start_time": "2022-04-07T12:50:17.202Z"
   },
   {
    "duration": 6,
    "start_time": "2022-04-07T12:50:17.228Z"
   },
   {
    "duration": 5,
    "start_time": "2022-04-07T12:50:17.236Z"
   },
   {
    "duration": 30,
    "start_time": "2022-04-07T12:50:17.243Z"
   },
   {
    "duration": 9,
    "start_time": "2022-04-07T12:50:17.275Z"
   },
   {
    "duration": 43,
    "start_time": "2022-04-07T12:50:17.310Z"
   },
   {
    "duration": 8,
    "start_time": "2022-04-07T12:50:17.354Z"
   },
   {
    "duration": 13,
    "start_time": "2022-04-07T12:50:17.365Z"
   },
   {
    "duration": 46,
    "start_time": "2022-04-07T12:50:17.380Z"
   },
   {
    "duration": 405,
    "start_time": "2022-04-07T12:50:17.429Z"
   },
   {
    "duration": 22,
    "start_time": "2022-04-07T12:50:17.835Z"
   },
   {
    "duration": 129,
    "start_time": "2022-04-07T12:50:17.858Z"
   },
   {
    "duration": 316,
    "start_time": "2022-04-07T12:50:17.989Z"
   },
   {
    "duration": 144,
    "start_time": "2022-04-07T12:50:18.307Z"
   },
   {
    "duration": 303,
    "start_time": "2022-04-07T12:50:18.453Z"
   },
   {
    "duration": 124,
    "start_time": "2022-04-07T12:50:18.758Z"
   },
   {
    "duration": 304,
    "start_time": "2022-04-07T12:50:18.884Z"
   },
   {
    "duration": 45,
    "start_time": "2022-04-07T12:50:19.189Z"
   },
   {
    "duration": 16,
    "start_time": "2022-04-07T12:50:19.236Z"
   },
   {
    "duration": 253,
    "start_time": "2022-04-07T12:50:19.254Z"
   },
   {
    "duration": 478,
    "start_time": "2022-04-07T12:50:19.508Z"
   },
   {
    "duration": 410,
    "start_time": "2022-04-07T12:50:19.988Z"
   },
   {
    "duration": 28,
    "start_time": "2022-04-07T12:50:20.400Z"
   },
   {
    "duration": 17,
    "start_time": "2022-04-07T12:50:20.429Z"
   },
   {
    "duration": 184,
    "start_time": "2022-04-07T12:50:20.448Z"
   },
   {
    "duration": 120,
    "start_time": "2022-04-07T12:50:20.636Z"
   },
   {
    "duration": 9,
    "start_time": "2022-04-07T12:50:20.757Z"
   },
   {
    "duration": 132,
    "start_time": "2022-04-07T12:50:20.767Z"
   },
   {
    "duration": 206,
    "start_time": "2022-04-07T12:50:20.901Z"
   },
   {
    "duration": 31,
    "start_time": "2022-04-07T12:50:21.109Z"
   },
   {
    "duration": 12,
    "start_time": "2022-04-07T12:50:21.142Z"
   },
   {
    "duration": 250,
    "start_time": "2022-04-07T12:50:21.156Z"
   },
   {
    "duration": 137,
    "start_time": "2022-04-07T12:50:21.408Z"
   },
   {
    "duration": 6,
    "start_time": "2022-04-07T12:50:21.546Z"
   },
   {
    "duration": 311,
    "start_time": "2022-04-07T12:50:21.554Z"
   },
   {
    "duration": 6,
    "start_time": "2022-04-07T12:50:21.867Z"
   },
   {
    "duration": 169,
    "start_time": "2022-04-07T12:50:21.874Z"
   },
   {
    "duration": 9,
    "start_time": "2022-04-07T12:50:22.045Z"
   },
   {
    "duration": 211,
    "start_time": "2022-04-07T12:53:57.590Z"
   },
   {
    "duration": 181,
    "start_time": "2022-04-07T12:53:57.803Z"
   },
   {
    "duration": 35,
    "start_time": "2022-04-07T12:53:57.985Z"
   },
   {
    "duration": 22,
    "start_time": "2022-04-07T12:53:58.023Z"
   },
   {
    "duration": 193,
    "start_time": "2022-04-07T12:53:58.046Z"
   },
   {
    "duration": 19,
    "start_time": "2022-04-07T12:53:58.241Z"
   },
   {
    "duration": 339,
    "start_time": "2022-04-07T12:53:58.262Z"
   },
   {
    "duration": 53,
    "start_time": "2022-04-07T12:53:58.603Z"
   },
   {
    "duration": 1258,
    "start_time": "2022-04-07T12:53:58.658Z"
   },
   {
    "duration": 1243,
    "start_time": "2022-04-07T12:53:59.920Z"
   },
   {
    "duration": 1895,
    "start_time": "2022-04-07T12:54:01.165Z"
   },
   {
    "duration": 629,
    "start_time": "2022-04-07T12:54:56.954Z"
   },
   {
    "duration": 399,
    "start_time": "2022-04-07T12:54:57.585Z"
   },
   {
    "duration": 14,
    "start_time": "2022-04-07T12:54:57.986Z"
   },
   {
    "duration": 6,
    "start_time": "2022-04-07T12:54:58.002Z"
   },
   {
    "duration": 6,
    "start_time": "2022-04-07T12:54:58.010Z"
   },
   {
    "duration": 34,
    "start_time": "2022-04-07T12:54:58.021Z"
   },
   {
    "duration": 10,
    "start_time": "2022-04-07T12:54:58.057Z"
   },
   {
    "duration": 59,
    "start_time": "2022-04-07T12:54:58.068Z"
   },
   {
    "duration": 10,
    "start_time": "2022-04-07T12:54:58.129Z"
   },
   {
    "duration": 13,
    "start_time": "2022-04-07T12:54:58.141Z"
   },
   {
    "duration": 25,
    "start_time": "2022-04-07T12:54:58.155Z"
   },
   {
    "duration": 400,
    "start_time": "2022-04-07T12:54:58.182Z"
   },
   {
    "duration": 34,
    "start_time": "2022-04-07T12:54:58.584Z"
   },
   {
    "duration": 134,
    "start_time": "2022-04-07T12:54:58.619Z"
   },
   {
    "duration": 312,
    "start_time": "2022-04-07T12:54:58.755Z"
   },
   {
    "duration": 127,
    "start_time": "2022-04-07T12:54:59.069Z"
   },
   {
    "duration": 280,
    "start_time": "2022-04-07T12:54:59.197Z"
   },
   {
    "duration": 128,
    "start_time": "2022-04-07T12:54:59.478Z"
   },
   {
    "duration": 281,
    "start_time": "2022-04-07T12:54:59.608Z"
   },
   {
    "duration": 41,
    "start_time": "2022-04-07T12:54:59.891Z"
   },
   {
    "duration": 26,
    "start_time": "2022-04-07T12:54:59.934Z"
   },
   {
    "duration": 274,
    "start_time": "2022-04-07T12:54:59.961Z"
   },
   {
    "duration": 499,
    "start_time": "2022-04-07T12:55:00.237Z"
   },
   {
    "duration": 412,
    "start_time": "2022-04-07T12:55:00.738Z"
   },
   {
    "duration": 21,
    "start_time": "2022-04-07T12:55:01.151Z"
   },
   {
    "duration": 8,
    "start_time": "2022-04-07T12:55:01.174Z"
   },
   {
    "duration": 178,
    "start_time": "2022-04-07T12:55:01.183Z"
   },
   {
    "duration": 124,
    "start_time": "2022-04-07T12:55:01.365Z"
   },
   {
    "duration": 9,
    "start_time": "2022-04-07T12:55:01.491Z"
   },
   {
    "duration": 124,
    "start_time": "2022-04-07T12:55:01.511Z"
   },
   {
    "duration": 205,
    "start_time": "2022-04-07T12:55:01.637Z"
   },
   {
    "duration": 19,
    "start_time": "2022-04-07T12:55:01.844Z"
   },
   {
    "duration": 10,
    "start_time": "2022-04-07T12:55:01.865Z"
   },
   {
    "duration": 262,
    "start_time": "2022-04-07T12:55:01.877Z"
   },
   {
    "duration": 122,
    "start_time": "2022-04-07T12:55:02.141Z"
   },
   {
    "duration": 5,
    "start_time": "2022-04-07T12:55:02.264Z"
   },
   {
    "duration": 314,
    "start_time": "2022-04-07T12:55:02.271Z"
   },
   {
    "duration": 5,
    "start_time": "2022-04-07T12:55:02.587Z"
   },
   {
    "duration": 165,
    "start_time": "2022-04-07T12:55:02.593Z"
   },
   {
    "duration": 8,
    "start_time": "2022-04-07T12:55:02.760Z"
   },
   {
    "duration": 96,
    "start_time": "2022-04-07T12:55:02.770Z"
   },
   {
    "duration": 0,
    "start_time": "2022-04-07T12:55:02.868Z"
   },
   {
    "duration": 0,
    "start_time": "2022-04-07T12:55:02.869Z"
   },
   {
    "duration": 0,
    "start_time": "2022-04-07T12:55:02.870Z"
   },
   {
    "duration": 0,
    "start_time": "2022-04-07T12:55:02.871Z"
   },
   {
    "duration": 0,
    "start_time": "2022-04-07T12:55:02.872Z"
   },
   {
    "duration": 0,
    "start_time": "2022-04-07T12:55:02.873Z"
   },
   {
    "duration": 0,
    "start_time": "2022-04-07T12:55:02.874Z"
   },
   {
    "duration": 0,
    "start_time": "2022-04-07T12:55:02.875Z"
   },
   {
    "duration": 0,
    "start_time": "2022-04-07T12:55:02.876Z"
   },
   {
    "duration": 0,
    "start_time": "2022-04-07T12:55:02.877Z"
   },
   {
    "duration": 0,
    "start_time": "2022-04-07T12:55:02.878Z"
   },
   {
    "duration": 124,
    "start_time": "2022-04-07T12:55:17.083Z"
   },
   {
    "duration": 23213,
    "start_time": "2022-04-07T12:55:45.344Z"
   },
   {
    "duration": 26015,
    "start_time": "2022-04-07T12:57:21.062Z"
   },
   {
    "duration": 141,
    "start_time": "2022-04-07T12:58:18.090Z"
   },
   {
    "duration": 65,
    "start_time": "2022-04-07T13:02:19.322Z"
   },
   {
    "duration": 150,
    "start_time": "2022-04-07T13:02:35.676Z"
   },
   {
    "duration": 926,
    "start_time": "2022-04-07T14:29:37.855Z"
   },
   {
    "duration": 117,
    "start_time": "2022-04-07T14:29:38.784Z"
   },
   {
    "duration": 18,
    "start_time": "2022-04-07T14:29:38.902Z"
   },
   {
    "duration": 4,
    "start_time": "2022-04-07T14:29:38.921Z"
   },
   {
    "duration": 8,
    "start_time": "2022-04-07T14:29:38.928Z"
   },
   {
    "duration": 35,
    "start_time": "2022-04-07T14:29:38.938Z"
   },
   {
    "duration": 32,
    "start_time": "2022-04-07T14:29:38.974Z"
   },
   {
    "duration": 40,
    "start_time": "2022-04-07T14:29:39.008Z"
   },
   {
    "duration": 9,
    "start_time": "2022-04-07T14:29:39.050Z"
   },
   {
    "duration": 42,
    "start_time": "2022-04-07T14:29:39.060Z"
   },
   {
    "duration": 30,
    "start_time": "2022-04-07T14:29:39.104Z"
   },
   {
    "duration": 382,
    "start_time": "2022-04-07T14:29:39.136Z"
   },
   {
    "duration": 23,
    "start_time": "2022-04-07T14:29:39.520Z"
   },
   {
    "duration": 139,
    "start_time": "2022-04-07T14:29:39.546Z"
   },
   {
    "duration": 292,
    "start_time": "2022-04-07T14:29:39.687Z"
   },
   {
    "duration": 134,
    "start_time": "2022-04-07T14:29:39.981Z"
   },
   {
    "duration": 268,
    "start_time": "2022-04-07T14:29:40.117Z"
   },
   {
    "duration": 121,
    "start_time": "2022-04-07T14:29:40.387Z"
   },
   {
    "duration": 272,
    "start_time": "2022-04-07T14:29:40.510Z"
   },
   {
    "duration": 36,
    "start_time": "2022-04-07T14:29:40.783Z"
   },
   {
    "duration": 18,
    "start_time": "2022-04-07T14:29:40.821Z"
   },
   {
    "duration": 242,
    "start_time": "2022-04-07T14:29:40.840Z"
   },
   {
    "duration": 443,
    "start_time": "2022-04-07T14:29:41.084Z"
   },
   {
    "duration": 363,
    "start_time": "2022-04-07T14:29:41.530Z"
   },
   {
    "duration": 26,
    "start_time": "2022-04-07T14:29:41.895Z"
   },
   {
    "duration": 9,
    "start_time": "2022-04-07T14:29:41.923Z"
   },
   {
    "duration": 176,
    "start_time": "2022-04-07T14:29:41.934Z"
   },
   {
    "duration": 125,
    "start_time": "2022-04-07T14:29:42.112Z"
   },
   {
    "duration": 10,
    "start_time": "2022-04-07T14:29:42.240Z"
   },
   {
    "duration": 122,
    "start_time": "2022-04-07T14:29:42.252Z"
   },
   {
    "duration": 199,
    "start_time": "2022-04-07T14:29:42.376Z"
   },
   {
    "duration": 31,
    "start_time": "2022-04-07T14:29:42.577Z"
   },
   {
    "duration": 12,
    "start_time": "2022-04-07T14:29:42.611Z"
   },
   {
    "duration": 237,
    "start_time": "2022-04-07T14:29:42.625Z"
   },
   {
    "duration": 123,
    "start_time": "2022-04-07T14:29:42.864Z"
   },
   {
    "duration": 13,
    "start_time": "2022-04-07T14:29:42.988Z"
   },
   {
    "duration": 303,
    "start_time": "2022-04-07T14:29:43.003Z"
   },
   {
    "duration": 7,
    "start_time": "2022-04-07T14:29:43.309Z"
   },
   {
    "duration": 169,
    "start_time": "2022-04-07T14:29:43.318Z"
   },
   {
    "duration": 13,
    "start_time": "2022-04-07T14:29:43.490Z"
   },
   {
    "duration": 156,
    "start_time": "2022-04-07T14:29:43.508Z"
   },
   {
    "duration": 204,
    "start_time": "2022-04-07T14:29:43.666Z"
   },
   {
    "duration": 177,
    "start_time": "2022-04-07T14:29:43.872Z"
   },
   {
    "duration": 17,
    "start_time": "2022-04-07T14:29:44.051Z"
   },
   {
    "duration": 40,
    "start_time": "2022-04-07T14:29:44.070Z"
   },
   {
    "duration": 189,
    "start_time": "2022-04-07T14:29:44.112Z"
   },
   {
    "duration": 21,
    "start_time": "2022-04-07T14:29:44.303Z"
   },
   {
    "duration": 338,
    "start_time": "2022-04-07T14:29:44.326Z"
   },
   {
    "duration": 62,
    "start_time": "2022-04-07T14:29:44.666Z"
   },
   {
    "duration": 1425,
    "start_time": "2022-04-07T14:29:44.730Z"
   },
   {
    "duration": 1476,
    "start_time": "2022-04-07T14:29:46.157Z"
   },
   {
    "duration": 2781,
    "start_time": "2022-04-07T14:29:47.636Z"
   },
   {
    "duration": 153,
    "start_time": "2022-04-07T14:30:14.513Z"
   },
   {
    "duration": 302,
    "start_time": "2022-04-07T14:30:28.035Z"
   },
   {
    "duration": 133,
    "start_time": "2022-04-07T14:30:34.486Z"
   },
   {
    "duration": 145,
    "start_time": "2022-04-07T14:31:39.409Z"
   },
   {
    "duration": 194,
    "start_time": "2022-04-07T14:33:19.658Z"
   },
   {
    "duration": 146,
    "start_time": "2022-04-07T14:33:25.801Z"
   },
   {
    "duration": 143,
    "start_time": "2022-04-07T14:33:46.077Z"
   },
   {
    "duration": 137,
    "start_time": "2022-04-07T14:41:53.193Z"
   },
   {
    "duration": 581,
    "start_time": "2022-04-07T18:58:08.252Z"
   },
   {
    "duration": 85,
    "start_time": "2022-04-07T18:58:08.835Z"
   },
   {
    "duration": 12,
    "start_time": "2022-04-07T18:58:08.921Z"
   },
   {
    "duration": 3,
    "start_time": "2022-04-07T18:58:08.934Z"
   },
   {
    "duration": 6,
    "start_time": "2022-04-07T18:58:08.938Z"
   },
   {
    "duration": 25,
    "start_time": "2022-04-07T18:58:08.945Z"
   },
   {
    "duration": 8,
    "start_time": "2022-04-07T18:58:08.971Z"
   },
   {
    "duration": 54,
    "start_time": "2022-04-07T18:58:08.980Z"
   },
   {
    "duration": 7,
    "start_time": "2022-04-07T18:58:09.035Z"
   },
   {
    "duration": 10,
    "start_time": "2022-04-07T18:58:09.044Z"
   },
   {
    "duration": 21,
    "start_time": "2022-04-07T18:58:09.055Z"
   },
   {
    "duration": 327,
    "start_time": "2022-04-07T18:58:09.077Z"
   },
   {
    "duration": 25,
    "start_time": "2022-04-07T18:58:09.406Z"
   },
   {
    "duration": 100,
    "start_time": "2022-04-07T18:58:09.433Z"
   },
   {
    "duration": 225,
    "start_time": "2022-04-07T18:58:09.534Z"
   },
   {
    "duration": 99,
    "start_time": "2022-04-07T18:58:09.760Z"
   },
   {
    "duration": 208,
    "start_time": "2022-04-07T18:58:09.861Z"
   },
   {
    "duration": 93,
    "start_time": "2022-04-07T18:58:10.070Z"
   },
   {
    "duration": 210,
    "start_time": "2022-04-07T18:58:10.165Z"
   },
   {
    "duration": 20,
    "start_time": "2022-04-07T18:58:10.376Z"
   },
   {
    "duration": 14,
    "start_time": "2022-04-07T18:58:10.397Z"
   },
   {
    "duration": 198,
    "start_time": "2022-04-07T18:58:10.412Z"
   },
   {
    "duration": 354,
    "start_time": "2022-04-07T18:58:10.611Z"
   },
   {
    "duration": 299,
    "start_time": "2022-04-07T18:58:10.967Z"
   },
   {
    "duration": 17,
    "start_time": "2022-04-07T18:58:11.268Z"
   },
   {
    "duration": 6,
    "start_time": "2022-04-07T18:58:11.286Z"
   },
   {
    "duration": 144,
    "start_time": "2022-04-07T18:58:11.294Z"
   },
   {
    "duration": 93,
    "start_time": "2022-04-07T18:58:11.441Z"
   },
   {
    "duration": 7,
    "start_time": "2022-04-07T18:58:11.535Z"
   },
   {
    "duration": 99,
    "start_time": "2022-04-07T18:58:11.544Z"
   },
   {
    "duration": 150,
    "start_time": "2022-04-07T18:58:11.644Z"
   },
   {
    "duration": 17,
    "start_time": "2022-04-07T18:58:11.795Z"
   },
   {
    "duration": 21,
    "start_time": "2022-04-07T18:58:11.813Z"
   },
   {
    "duration": 168,
    "start_time": "2022-04-07T18:58:11.836Z"
   },
   {
    "duration": 94,
    "start_time": "2022-04-07T18:58:12.005Z"
   },
   {
    "duration": 5,
    "start_time": "2022-04-07T18:58:12.100Z"
   },
   {
    "duration": 236,
    "start_time": "2022-04-07T18:58:12.106Z"
   },
   {
    "duration": 5,
    "start_time": "2022-04-07T18:58:12.343Z"
   },
   {
    "duration": 118,
    "start_time": "2022-04-07T18:58:12.349Z"
   },
   {
    "duration": 116,
    "start_time": "2022-04-07T18:58:12.468Z"
   },
   {
    "duration": 7,
    "start_time": "2022-04-07T18:58:12.585Z"
   },
   {
    "duration": 119,
    "start_time": "2022-04-07T18:58:12.594Z"
   },
   {
    "duration": 129,
    "start_time": "2022-04-07T18:58:12.715Z"
   },
   {
    "duration": 121,
    "start_time": "2022-04-07T18:58:12.845Z"
   },
   {
    "duration": 13,
    "start_time": "2022-04-07T18:58:12.967Z"
   },
   {
    "duration": 17,
    "start_time": "2022-04-07T18:58:12.981Z"
   },
   {
    "duration": 152,
    "start_time": "2022-04-07T18:58:13.000Z"
   },
   {
    "duration": 15,
    "start_time": "2022-04-07T18:58:13.153Z"
   },
   {
    "duration": 252,
    "start_time": "2022-04-07T18:58:13.169Z"
   },
   {
    "duration": 33,
    "start_time": "2022-04-07T18:58:13.423Z"
   },
   {
    "duration": 1028,
    "start_time": "2022-04-07T18:58:13.457Z"
   },
   {
    "duration": 1100,
    "start_time": "2022-04-07T18:58:14.487Z"
   },
   {
    "duration": 1495,
    "start_time": "2022-04-07T18:58:15.588Z"
   }
  ],
  "kernelspec": {
   "display_name": "Python 3 (ipykernel)",
   "language": "python",
   "name": "python3"
  },
  "language_info": {
   "codemirror_mode": {
    "name": "ipython",
    "version": 3
   },
   "file_extension": ".py",
   "mimetype": "text/x-python",
   "name": "python",
   "nbconvert_exporter": "python",
   "pygments_lexer": "ipython3",
   "version": "3.9.7"
  },
  "toc": {
   "base_numbering": 1,
   "nav_menu": {},
   "number_sections": true,
   "sideBar": true,
   "skip_h1_title": true,
   "title_cell": "Содержание",
   "title_sidebar": "Contents",
   "toc_cell": true,
   "toc_position": {},
   "toc_section_display": true,
   "toc_window_display": true
  }
 },
 "nbformat": 4,
 "nbformat_minor": 4
}
